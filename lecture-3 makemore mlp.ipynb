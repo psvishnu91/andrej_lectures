{
 "cells": [
  {
   "cell_type": "code",
   "execution_count": 1,
   "id": "246c1917",
   "metadata": {},
   "outputs": [
    {
     "data": {
      "text/html": [
       "<style>.container { width:100% !important; }</style>"
      ],
      "text/plain": [
       "<IPython.core.display.HTML object>"
      ]
     },
     "metadata": {},
     "output_type": "display_data"
    },
    {
     "data": {
      "application/javascript": [
       "\n",
       "            (function() {\n",
       "                jb_set_cell(\"embed_pca = PCA(n_components=2, perplexity=3).fit_transform(embed)\\nembed_pca.shape\")\n",
       "            })();\n",
       "            "
      ],
      "text/plain": [
       "<IPython.core.display.Javascript object>"
      ]
     },
     "metadata": {},
     "output_type": "display_data"
    }
   ],
   "source": [
    "from IPython.display import display, HTML, clear_output\n",
    "\n",
    "display(HTML(\"<style>.container { width:100% !important; }</style>\"))\n",
    "\n",
    "\n",
    "from dataclasses import dataclass, field\n",
    "import typing as t\n",
    "import itertools as it\n",
    "import collections as c\n",
    "import json\n",
    "from copy import deepcopy\n",
    "import math\n",
    "import time\n",
    "import functools as ft\n",
    "import numpy as np\n",
    "import random\n",
    "from tqdm.notebook import tqdm\n",
    "import heapq\n",
    "import torch as T\n",
    "import torch.nn.functional as F\n",
    "import matplotlib.pyplot as plt\n",
    "import seaborn as sns\n",
    "import torch.utils.tensorboard as tb\n",
    "\n",
    "import black\n",
    "import jupyter_black\n",
    "\n",
    "jupyter_black.load(\n",
    "    lab=False,\n",
    "    line_length=79,\n",
    "    target_version=black.TargetVersion.PY310,\n",
    ")"
   ]
  },
  {
   "cell_type": "code",
   "execution_count": 386,
   "id": "cae62e50",
   "metadata": {},
   "outputs": [],
   "source": [
    "# Number of past tokens to use to predict next token\n",
    "CTX_WIN_SZ = 4"
   ]
  },
  {
   "cell_type": "markdown",
   "id": "d0a4107a",
   "metadata": {},
   "source": [
    "## Load data"
   ]
  },
  {
   "cell_type": "code",
   "execution_count": 387,
   "id": "918744d9",
   "metadata": {},
   "outputs": [
    {
     "data": {
      "text/plain": [
       "['emma', 'olivia', 'ava', 'isabella']"
      ]
     },
     "execution_count": 387,
     "metadata": {},
     "output_type": "execute_result"
    }
   ],
   "source": [
    "DOT = \".\"\n",
    "words = open(\"names.txt\").read().splitlines()\n",
    "words[:4]"
   ]
  },
  {
   "cell_type": "markdown",
   "id": "130b61aa",
   "metadata": {},
   "source": [
    "#### Build mapping of character to index"
   ]
  },
  {
   "cell_type": "code",
   "execution_count": 388,
   "id": "40d8add8",
   "metadata": {},
   "outputs": [],
   "source": [
    "def build_ixes(words):\n",
    "    chars = [DOT] + sorted(set(it.chain.from_iterable(words)))\n",
    "    nchars = len(chars)\n",
    "    ctoix = {c: i for i, c in enumerate(chars)}\n",
    "    ixtoc = dict(enumerate(chars))\n",
    "    return (ctoix, ixtoc)"
   ]
  },
  {
   "cell_type": "code",
   "execution_count": 389,
   "id": "7c18c2f8",
   "metadata": {},
   "outputs": [],
   "source": [
    "(ctoix, ixtoc) = build_ixes(words)"
   ]
  },
  {
   "cell_type": "markdown",
   "id": "03333c0e",
   "metadata": {},
   "source": [
    "#### Create training data with context window size"
   ]
  },
  {
   "cell_type": "code",
   "execution_count": 390,
   "id": "a126706e",
   "metadata": {},
   "outputs": [
    {
     "data": {
      "text/plain": [
       "'.'"
      ]
     },
     "execution_count": 390,
     "metadata": {},
     "output_type": "execute_result"
    }
   ],
   "source": [
    "DOT"
   ]
  },
  {
   "cell_type": "code",
   "execution_count": 391,
   "id": "ca5067d1",
   "metadata": {},
   "outputs": [],
   "source": [
    "def build_train_data(words, ctoix, ctx_win=CTX_WIN_SZ):\n",
    "    Xs, Ys = [], []\n",
    "    pad = DOT * ctx_win\n",
    "    for wnum, w in enumerate(words):\n",
    "        pw = pad + w + DOT\n",
    "        if wnum < 2:\n",
    "            print(pw)\n",
    "        for i in range(len(w) + 1):\n",
    "            if wnum < 2:\n",
    "                print(pw[i : i + ctx_win], \"--->\", pw[i + ctx_win])\n",
    "            Xs.append([ctoix[c] for c in pw[i : i + ctx_win]])\n",
    "            Ys.append([ctoix[pw[i + ctx_win]]])\n",
    "    return T.tensor(Xs, dtype=int), T.tensor(Ys, dtype=int).flatten()"
   ]
  },
  {
   "cell_type": "code",
   "execution_count": 392,
   "id": "784d2742",
   "metadata": {},
   "outputs": [
    {
     "name": "stdout",
     "output_type": "stream",
     "text": [
      "....emma.\n",
      ".... ---> e\n",
      "...e ---> m\n",
      "..em ---> m\n",
      ".emm ---> a\n",
      "emma ---> .\n",
      "....olivia.\n",
      ".... ---> o\n",
      "...o ---> l\n",
      "..ol ---> i\n",
      ".oli ---> v\n",
      "oliv ---> i\n",
      "livi ---> a\n",
      "ivia ---> .\n"
     ]
    },
    {
     "data": {
      "text/plain": [
       "(228146, 4)"
      ]
     },
     "execution_count": 392,
     "metadata": {},
     "output_type": "execute_result"
    }
   ],
   "source": [
    "Xs, Ys = build_train_data(words, ctoix, ctx_win=CTX_WIN_SZ)\n",
    "n, m = Xs.shape\n",
    "n, m"
   ]
  },
  {
   "cell_type": "code",
   "execution_count": 393,
   "id": "2bff6fc0",
   "metadata": {},
   "outputs": [
    {
     "data": {
      "text/plain": [
       "tensor([ 5, 13, 13,  1,  0, 15, 12,  9, 22,  9,  1,  0,  1, 22,  1,  0,  9, 19,\n",
       "         1,  2,  5, 12, 12,  1,  0, 19, 15, 16,  8,  9])"
      ]
     },
     "execution_count": 393,
     "metadata": {},
     "output_type": "execute_result"
    }
   ],
   "source": [
    "Ys[:30]"
   ]
  },
  {
   "cell_type": "markdown",
   "id": "5efb3e62",
   "metadata": {},
   "source": [
    "#### Train, validation, test split"
   ]
  },
  {
   "cell_type": "code",
   "execution_count": 394,
   "id": "88e03a4b",
   "metadata": {},
   "outputs": [
    {
     "data": {
      "text/plain": [
       "27"
      ]
     },
     "execution_count": 394,
     "metadata": {},
     "output_type": "execute_result"
    }
   ],
   "source": [
    "NCHARS = len(ctoix)\n",
    "NCHARS"
   ]
  },
  {
   "cell_type": "code",
   "execution_count": 395,
   "id": "f3b7b224",
   "metadata": {
    "scrolled": true
   },
   "outputs": [
    {
     "name": "stdout",
     "output_type": "stream",
     "text": [
      "ntrain=182516, nval=22814, ntest=22816\n"
     ]
    }
   ],
   "source": [
    "ntrain, nval = int(n * 0.8), int(n * 0.1)\n",
    "ntest = n - ntrain - nval\n",
    "print(f\"{ntrain=}, {nval=}, {ntest=}\")\n",
    "ixes = list(range(0, n))\n",
    "random.shuffle(ixes)\n",
    "valend = ntrain + nval\n",
    "ixtr, ixval, ixtest = ixes[:ntrain], ixes[ntrain:valend], ixes[valend:]"
   ]
  },
  {
   "cell_type": "code",
   "execution_count": 396,
   "id": "63041722",
   "metadata": {},
   "outputs": [],
   "source": [
    "(Xtr, Ytr), (Xval, Yval) = (Xs[ixtr], Ys[ixtr]), (Xs[ixval], Ys[ixval])\n",
    "(Xtest, Ytest) = (Xs[ixtest], Ys[ixtest])"
   ]
  },
  {
   "cell_type": "code",
   "execution_count": 397,
   "id": "6e639831",
   "metadata": {},
   "outputs": [
    {
     "data": {
      "text/plain": [
       "(tensor([[ 0,  0,  2,  5],\n",
       "         [14,  1, 12,  1],\n",
       "         [ 0, 11, 15,  2],\n",
       "         ...,\n",
       "         [13,  9, 11, 25],\n",
       "         [ 0,  0,  0,  0],\n",
       "         [ 9,  1, 18,  1]]),\n",
       " tensor([ 3,  0,  5,  ..., 12, 19,  0]))"
      ]
     },
     "execution_count": 397,
     "metadata": {},
     "output_type": "execute_result"
    }
   ],
   "source": [
    "Xtest, Ytest"
   ]
  },
  {
   "cell_type": "code",
   "execution_count": 398,
   "id": "fc404c8e",
   "metadata": {},
   "outputs": [
    {
     "name": "stdout",
     "output_type": "stream",
     "text": [
      "torch.Size([182516, 4]) torch.Size([22814, 4]) torch.Size([22816, 4])\n"
     ]
    }
   ],
   "source": [
    "print(Xtr.shape, Xval.shape, Xtest.shape)"
   ]
  },
  {
   "cell_type": "markdown",
   "id": "c044dfc3",
   "metadata": {},
   "source": [
    "## Build model and train\n",
    "\n",
    "- Embedding layer with 3 previous chars (context)\n",
    "- to fully connected tanh hidden layer (num neuros hyp param)\n",
    "- to final layer with 27 dim\n"
   ]
  },
  {
   "cell_type": "code",
   "execution_count": 399,
   "id": "7327bc32",
   "metadata": {},
   "outputs": [],
   "source": [
    "EMBED_DIM = 4\n",
    "HIDDEN_DIM = 50"
   ]
  },
  {
   "cell_type": "code",
   "execution_count": 400,
   "id": "f27a5a40",
   "metadata": {},
   "outputs": [
    {
     "data": {
      "text/plain": [
       "0.1414213562373095"
      ]
     },
     "execution_count": 400,
     "metadata": {},
     "output_type": "execute_result"
    }
   ],
   "source": [
    "(1 / (HIDDEN_DIM**0.5))"
   ]
  },
  {
   "cell_type": "code",
   "execution_count": 524,
   "id": "d7626725",
   "metadata": {},
   "outputs": [],
   "source": [
    "def create_model_params(\n",
    "    nchrs=NCHARS,\n",
    "    embed_dim=EMBED_DIM,\n",
    "    hidden_dim=HIDDEN_DIM,\n",
    "    ctx_win_sz=CTX_WIN_SZ,\n",
    "    verbose=False,\n",
    "):\n",
    "    C = T.randn((nchrs, embed_dim))\n",
    "    W1 = T.randn(\n",
    "        (w1_fanin := (embed_dim * ctx_win_sz), hidden_dim),\n",
    "    ) \n",
    "    b1 = T.randn((1, hidden_dim))\n",
    "    W2 = T.randn(\n",
    "        (hidden_dim, nchrs),\n",
    "    ) * (1 / (hidden_dim**0.5))  # shrink final weights to make softmax less confident\n",
    "    b2 = (\n",
    "        T.randn(\n",
    "            (1, nchrs),\n",
    "        )\n",
    "        * 0.0 # softmax less confident\n",
    "    )\n",
    "    if verbose:\n",
    "        print(\n",
    "            f\"{ctx_win_sz=}\\n{C.shape=}\\n{W1.shape=}\\n{b1.shape=}\\n{W2.shape=}\\n{b2.shape=}\"\n",
    "        )\n",
    "    params = {\"C\": C, \"W1\": W1, \"b1\": b1, \"W2\": W2, \"b2\": b2}\n",
    "    for p in params.values():\n",
    "        if not p.requires_grad:\n",
    "            p.requires_grad = True\n",
    "    return params"
   ]
  },
  {
   "cell_type": "code",
   "execution_count": 500,
   "id": "a0db1529",
   "metadata": {},
   "outputs": [
    {
     "name": "stdout",
     "output_type": "stream",
     "text": [
      "ctx_win_sz=4\n",
      "C.shape=torch.Size([27, 4])\n",
      "W1.shape=torch.Size([16, 50])\n",
      "b1.shape=torch.Size([1, 50])\n",
      "W2.shape=torch.Size([50, 27])\n",
      "b2.shape=torch.Size([1, 27])\n"
     ]
    }
   ],
   "source": [
    "mdl = create_model_params(verbose=True)"
   ]
  },
  {
   "cell_type": "code",
   "execution_count": 501,
   "id": "fa318eb1",
   "metadata": {},
   "outputs": [
    {
     "name": "stdout",
     "output_type": "stream",
     "text": [
      "Xtr[0]=tensor([ 8,  1, 13,  9])\n",
      "_C[0]=tensor([-0.8494,  0.5043, -0.5291, -0.8363], grad_fn=<SelectBackward0>)\n",
      "_C[13]=tensor([0.8259, 0.9646, 0.0768, 0.5700], grad_fn=<SelectBackward0>)\n",
      "_C[15]=tensor([-0.3884,  1.0393, -0.2583,  1.1833], grad_fn=<SelectBackward0>)\n",
      "(xenc1 := _C[Xtr[:2]])=tensor([[[ 0.1688,  0.5719,  1.4013,  1.0010],\n",
      "         [-1.2762, -1.5546, -1.2126,  0.7487],\n",
      "         [ 0.8259,  0.9646,  0.0768,  0.5700],\n",
      "         [-1.2247, -0.2988,  1.1918, -0.6676]],\n",
      "\n",
      "        [[ 0.3343,  0.2425,  0.4993,  1.3345],\n",
      "         [-1.2762, -1.5546, -1.2126,  0.7487],\n",
      "         [ 0.1586, -0.6995,  0.7717,  3.0399],\n",
      "         [ 1.7477,  0.4229,  0.2160, -0.3604]]], grad_fn=<IndexBackward0>)\n",
      "xenc1.shape=torch.Size([2, 4, 4])\n"
     ]
    }
   ],
   "source": [
    "_C = mdl[\"C\"]\n",
    "print(\n",
    "    f\"{Xtr[0]=}\\n{_C[0]=}\\n{_C[13]=}\\n{_C[15]=}\\n{(xenc1 := _C[Xtr[:2]])=}\\n{xenc1.shape=}\"\n",
    ")"
   ]
  },
  {
   "cell_type": "code",
   "execution_count": 502,
   "id": "9de03023",
   "metadata": {},
   "outputs": [],
   "source": [
    "def fwd_pass(Xs, mdl, act_fn=None):\n",
    "    act_fn = act_fn or T.tanh\n",
    "    C, W1, W2, b1, b2 = mdl[\"C\"], mdl[\"W1\"], mdl[\"W2\"], mdl[\"b1\"], mdl[\"b2\"]\n",
    "    ctx_win, embed_dim = Xs.shape[1], C.shape[1]\n",
    "    # concat the previous tokens (ctx)\n",
    "    hidden = act_fn(C[Xs].view(-1, ctx_win * embed_dim) @ W1 + b1)\n",
    "    logits = hidden @ W2 + b2\n",
    "    return logits\n",
    "\n",
    "\n",
    "def fwd_proba(Xs, mdl, act_fn=None):\n",
    "    return F.softmax(fwd_pass(Xs=Xs, mdl=mdl, act_fn=act_fn), dim=1)"
   ]
  },
  {
   "cell_type": "code",
   "execution_count": 503,
   "id": "1e795b5f",
   "metadata": {},
   "outputs": [
    {
     "name": "stdout",
     "output_type": "stream",
     "text": [
      "tensor([[2.8065e-04, 1.2089e-03, 2.7067e-04, 7.1080e-03, 2.7714e-04, 7.5421e-05,\n",
      "         9.6319e-01, 5.8660e-03, 5.3592e-05, 9.2741e-06, 1.7018e-06, 1.0321e-03,\n",
      "         1.7505e-07, 1.2333e-07, 2.1711e-06, 1.2880e-05, 1.2545e-04, 6.2828e-03,\n",
      "         9.8567e-07, 2.5026e-03, 5.6248e-03, 1.3420e-05, 1.5314e-05, 9.4399e-05,\n",
      "         5.8877e-03, 5.2073e-05, 1.4998e-05]], grad_fn=<SoftmaxBackward0>)\n",
      "tensor(1.0000, grad_fn=<SumBackward0>)\n"
     ]
    }
   ],
   "source": [
    "p = F.softmax(fwd_pass(Xs=Xtr[:1], mdl=mdl, act_fn=T.tanh), dim=1)\n",
    "print(p)\n",
    "print(p.sum())"
   ]
  },
  {
   "cell_type": "code",
   "execution_count": 504,
   "id": "c39a65b9",
   "metadata": {},
   "outputs": [],
   "source": [
    "def train_loop(\n",
    "    Xs,\n",
    "    Ys,\n",
    "    mdl,\n",
    "    lr,\n",
    "    num_iter,\n",
    "    batch_sz=128,\n",
    "    losses=None,\n",
    "    grads=None,\n",
    "    verbose=True,\n",
    "):\n",
    "    # train_ix to loss\n",
    "    losses = losses if losses is not None else []\n",
    "    grads = grads or _default_grads(mdl)\n",
    "    nrows = Xs.shape[0]\n",
    "    ixes = list(range(nrows))\n",
    "    if verbose:\n",
    "        itrs = tqdm(range(num_iter))\n",
    "    else:\n",
    "        itrs = range(num_iter)\n",
    "    total_iter = len(losses)\n",
    "    for i in itrs:\n",
    "        total_iter += 1\n",
    "        random.shuffle(ixes)\n",
    "        for begix in T.arange(0, nrows, batch_sz):\n",
    "            batch_ix = ixes[begix : begix + batch_sz]\n",
    "            p = fwd_pass(Xs=Xs[batch_ix], mdl=mdl)\n",
    "            loss = F.cross_entropy(input=p, target=Ys[batch_ix])\n",
    "            losses.append(loss.item())\n",
    "            _zero_grad(mdl=mdl)\n",
    "            loss.backward()\n",
    "            _add_grads(mdl=mdl, grads=grads)\n",
    "            _update_params(mdl=mdl, lr=_get_lr(lr=lr, it=total_iter))\n",
    "        if verbose:\n",
    "            itrs.set_description(f\"Loss: {loss.item():.2f}\")\n",
    "    return grads, losses\n",
    "\n",
    "\n",
    "def _get_lr(lr, it):\n",
    "    if isinstance(lr, (int, float, T.TensorType, T.Tensor)):\n",
    "        return lr\n",
    "    elif isinstance(lr, dict):\n",
    "        for (min_it, max_it), _lr in lr.items():\n",
    "            if min_it <= _lr < max_it:\n",
    "                return _lr\n",
    "        else:\n",
    "            raise ValueError(f\"Iteration {it} not in any range in {lr}\")\n",
    "    else:\n",
    "        raise NotImplementedError(\n",
    "            f\"Don't know how to handle learning {lr} of type {type(lr)}\"\n",
    "        )\n",
    "\n",
    "\n",
    "def _default_grads(mdl):\n",
    "    return {p: [] for p in mdl}\n",
    "\n",
    "\n",
    "def _zero_grad(mdl):\n",
    "    for param in mdl.values():\n",
    "        param.grad = None\n",
    "\n",
    "\n",
    "def _update_params(mdl, lr):\n",
    "    for param in mdl.values():\n",
    "        param.data -= lr * param.grad\n",
    "\n",
    "\n",
    "def _add_grads(mdl, grads):\n",
    "    for pname, param in mdl.items():\n",
    "        grads[pname].append(param.grad)\n",
    "\n",
    "\n",
    "def _loss(Xs, Ys, mdl):\n",
    "    logits = fwd_pass(Xs=Xs, mdl=mdl)\n",
    "    return F.cross_entropy(input=logits, target=Ys).item()\n",
    "\n",
    "\n",
    "def _plot_losses(losses: list[int]):\n",
    "    plt.plot(losses)\n",
    "    plt.title(\"Loss vs iteration\")\n",
    "    plt.xlabel(\"Iter\")\n",
    "    plt.ylabel(\"Cross entropy or NLL loss\")\n",
    "    plt.grid()\n",
    "\n",
    "\n",
    "def _plot_grads(grads):\n",
    "    nparams = len(grads)\n",
    "    plt.subplots(1, nparams, figsize=(15, 5))\n",
    "    plt.suptitle(\"Average grad\")\n",
    "    for i, (param_nm, grad) in enumerate(grads.items(), start=1):\n",
    "        plt.subplot(1, nparams, i)\n",
    "        # concatenate on third dim and take mean of grad\n",
    "        avg_grad = T.cat(\n",
    "            [T.unsqueeze(g, dim=2) for g in grads[param_nm]], dim=2\n",
    "        ).mean(dim=2)\n",
    "        sns.heatmap(avg_grad)\n",
    "        plt.title(param_nm)\n",
    "\n",
    "\n",
    "@T.no_grad()\n",
    "def generate_words(mdl, nwords, ctoix, ctx_win=CTX_WIN_SZ, generator=None):\n",
    "    st_X = _ctx_to_X(ctx_chars=DOT * CTX_WIN_SZ, ctoix=ctoix).repeat(nwords, 1)\n",
    "    lst_X = st_X\n",
    "    words = [[] for _ in range(nwords)]\n",
    "    for i in range(30):\n",
    "        # print(f\"{lst_X=}\")\n",
    "        new_X = T.multinomial(\n",
    "            input=F.softmax(fwd_pass(lst_X, mdl), dim=1),\n",
    "            num_samples=1,\n",
    "            replacement=True,\n",
    "            generator=generator,\n",
    "        )\n",
    "        # print(f\"{new_X=}\")\n",
    "        char_added = False\n",
    "        for w, ix in zip(words, new_X):\n",
    "            if w and w[-1] == DOT:\n",
    "                continue\n",
    "            char_added |= True\n",
    "            w.append(ixtoc[ix.item()])\n",
    "        lst_X[:, :-1] = lst_X[:, 1:]\n",
    "        lst_X[:, -1] = new_X.squeeze()\n",
    "        # print(f\"{lst_X=}\\n\\n\")\n",
    "        if not char_added:\n",
    "            break\n",
    "    return [\"\".join(w[:-1]) for w in words]\n",
    "\n",
    "\n",
    "def num_params(mdl):\n",
    "    return sum(T.numel(param) for param in mdl.values())\n",
    "\n",
    "\n",
    "def _ctx_to_X(ctx_chars, ctoix):\n",
    "    return T.tensor([ctoix[c] for c in ctx_chars]).unsqueeze(dim=0)"
   ]
  },
  {
   "cell_type": "code",
   "execution_count": 505,
   "id": "e36e774d",
   "metadata": {},
   "outputs": [],
   "source": [
    "@T.no_grad()\n",
    "def _split_loss(Xtr, Ytr, Xval, Yval, Xtest, Ytest, mdl, split):\n",
    "    match split:\n",
    "        case \"train\":\n",
    "            spl, loss = \"Train\", _loss(Xtr, Ytr, mdl)\n",
    "        case \"val\":\n",
    "            spl, loss = \"Validation\", _loss(Xval, Yval, mdl)\n",
    "        case \"test\":\n",
    "            spl, loss = \"Test\", _loss(Xtest, Ytest, mdl)\n",
    "        case _:\n",
    "            raise NotImplementedError(\"Split should be train, val or test\")\n",
    "    print(f\"{spl} loss={loss:.4f}\")\n",
    "\n",
    "\n",
    "split_loss = ft.partial(\n",
    "    _split_loss,\n",
    "    Xtr=Xtr,\n",
    "    Ytr=Ytr,\n",
    "    Xval=Xval,\n",
    "    Yval=Yval,\n",
    "    Xtest=Xtest,\n",
    "    Ytest=Ytest,\n",
    ")"
   ]
  },
  {
   "cell_type": "markdown",
   "id": "6cd8f958",
   "metadata": {},
   "source": [
    "### Test if it works and try to overfit"
   ]
  },
  {
   "cell_type": "code",
   "execution_count": 546,
   "id": "15b1b060",
   "metadata": {},
   "outputs": [],
   "source": [
    "mdl = create_model_params()\n",
    "Xtr_sml, Ytr_sml = Xtr[:30], Ytr[:30]"
   ]
  },
  {
   "cell_type": "code",
   "execution_count": 547,
   "id": "0078856a",
   "metadata": {},
   "outputs": [],
   "source": [
    "act_fn = T.tanh\n",
    "C, W1, W2, b1, b2 = mdl[\"C\"], mdl[\"W1\"], mdl[\"W2\"], mdl[\"b1\"], mdl[\"b2\"]\n",
    "ctx_win, embed_dim = Xtr_sml.shape[1], C.shape[1]\n",
    "# concat the previous tokens (ctx)\n",
    "hidden = act_fn(C[Xtr_sml].view(-1, ctx_win * embed_dim) @ W1 + b1)"
   ]
  },
  {
   "cell_type": "code",
   "execution_count": 548,
   "id": "fed0507f",
   "metadata": {},
   "outputs": [
    {
     "data": {
      "text/plain": [
       "torch.Size([30, 50])"
      ]
     },
     "execution_count": 548,
     "metadata": {},
     "output_type": "execute_result"
    }
   ],
   "source": [
    "hidden.shape"
   ]
  },
  {
   "cell_type": "code",
   "execution_count": 554,
   "id": "4e944f95",
   "metadata": {
    "scrolled": true
   },
   "outputs": [
    {
     "data": {
      "image/png": "[encoded data removed]",
      "text/plain": [
       "<Figure size 432x288 with 1 Axes>"
      ]
     },
     "metadata": {
      "needs_background": "light"
     },
     "output_type": "display_data"
    }
   ],
   "source": [
    "plt.title(\"Saturation of a hidden layer batch\\nplt.imshow(tanh_hidden.abs()>0.97, cmap='gray')\")\n",
    "plt.imshow(hidden.abs()>0.97, cmap='gray');\n",
    "plt.savefig(\"/Users/vispers/work/github/psvishnu91.github.io/assets/Images/posts/ml_notes/backprop/saturation.png\");"
   ]
  },
  {
   "cell_type": "code",
   "execution_count": 521,
   "id": "c3e531f9",
   "metadata": {},
   "outputs": [],
   "source": [
    "losses, grads = [], _default_grads(mdl)"
   ]
  },
  {
   "cell_type": "code",
   "execution_count": 522,
   "id": "f61d7d1c",
   "metadata": {},
   "outputs": [
    {
     "data": {
      "application/vnd.jupyter.widget-view+json": {
       "model_id": "04aeba15f2bb4c6b8d5758c441ff87f9",
       "version_major": 2,
       "version_minor": 0
      },
      "text/plain": [
       "  0%|          | 0/500 [00:00<?, ?it/s]"
      ]
     },
     "metadata": {},
     "output_type": "display_data"
    }
   ],
   "source": [
    "_ = train_loop(\n",
    "    Xs=Xtr_sml,\n",
    "    Ys=Ytr_sml,\n",
    "    mdl=mdl,\n",
    "    lr=0.01,\n",
    "    num_iter=500,\n",
    "    losses=losses,\n",
    "    grads=grads,\n",
    "    batch_sz=10,\n",
    ")"
   ]
  },
  {
   "cell_type": "code",
   "execution_count": 509,
   "id": "f269c4b1",
   "metadata": {},
   "outputs": [
    {
     "data": {
      "text/plain": [
       "[10.409513473510742, 11.27641487121582, 9.434267044067383, 12.801780700683594]"
      ]
     },
     "execution_count": 509,
     "metadata": {},
     "output_type": "execute_result"
    }
   ],
   "source": [
    "losses[:4]"
   ]
  },
  {
   "cell_type": "code",
   "execution_count": 525,
   "id": "baa9fb16",
   "metadata": {},
   "outputs": [
    {
     "data": {
      "image/png": "[encoded data removed]",
      "text/plain": [
       "<Figure size 1080x288 with 1 Axes>"
      ]
     },
     "metadata": {
      "needs_background": "light"
     },
     "output_type": "display_data"
    }
   ],
   "source": [
    "plt.figure(figsize=(15,4))\n",
    "plt.subplot(121)\n",
    "_plot_losses(losses)\n",
    "# plt.title(\"Loss vs iteration before shrinking weights\");\n",
    "# plt.subplot(122)\n",
    "# _plot_losses(losses2)\n",
    "# plt.title(\"Loss vs iteration after shrinking final layer  weights\");"
   ]
  },
  {
   "cell_type": "code",
   "execution_count": null,
   "id": "fc429925",
   "metadata": {},
   "outputs": [],
   "source": []
  },
  {
   "cell_type": "code",
   "execution_count": 413,
   "id": "d754b6a3",
   "metadata": {},
   "outputs": [
    {
     "data": {
      "text/plain": [
       "tensor(0.9000)"
      ]
     },
     "execution_count": 413,
     "metadata": {},
     "output_type": "execute_result"
    }
   ],
   "source": [
    "(\n",
    "    Ytr_sml == T.max(fwd_proba(Xs=Xtr_sml, mdl=mdl), dim=1).indices\n",
    ").float().mean()"
   ]
  },
  {
   "cell_type": "code",
   "execution_count": 414,
   "id": "96fcfdfa",
   "metadata": {},
   "outputs": [
    {
     "data": {
      "image/png": "[encoded data removed]",
      "text/plain": [
       "<Figure size 1080x360 with 10 Axes>"
      ]
     },
     "metadata": {
      "needs_background": "light"
     },
     "output_type": "display_data"
    }
   ],
   "source": [
    "_plot_grads(grads=grads)"
   ]
  },
  {
   "cell_type": "markdown",
   "id": "8a71ebf3",
   "metadata": {},
   "source": [
    "### Find best learning rate"
   ]
  },
  {
   "cell_type": "code",
   "execution_count": 415,
   "id": "5e1cbb99",
   "metadata": {},
   "outputs": [],
   "source": [
    "# writer = tb.SummaryWriter(\"experiment-1\")\n",
    "lres = T.linspace(-3, 0.2, 100)\n",
    "lrs = 10**lres"
   ]
  },
  {
   "cell_type": "code",
   "execution_count": 416,
   "id": "4dee9911",
   "metadata": {},
   "outputs": [
    {
     "data": {
      "application/vnd.jupyter.widget-view+json": {
       "model_id": "1251b2f69add416bbea4728e705f2a42",
       "version_major": 2,
       "version_minor": 0
      },
      "text/plain": [
       "  0%|          | 0/100 [00:00<?, ?it/s]"
      ]
     },
     "metadata": {},
     "output_type": "display_data"
    },
    {
     "data": {
      "image/png": "[encoded data removed]",
      "text/plain": [
       "<Figure size 1080x360 with 2 Axes>"
      ]
     },
     "metadata": {
      "needs_background": "light"
     },
     "output_type": "display_data"
    }
   ],
   "source": [
    "lr_to_loss = []\n",
    "for lr in tqdm(lrs):\n",
    "    mdl = create_model_params()\n",
    "    _, losses = train_loop(\n",
    "        Xs=Xtr_sml,\n",
    "        Ys=Ytr_sml,\n",
    "        mdl=mdl,\n",
    "        lr=lr,\n",
    "        num_iter=100,\n",
    "        losses=[],\n",
    "        grads=None,\n",
    "        batch_sz=10,\n",
    "        verbose=False,\n",
    "    )\n",
    "    lr_to_loss.append(losses[-1])\n",
    "plt.subplots(1, 2, figsize=(15, 5))\n",
    "plt.subplot(1, 2, 1)\n",
    "plt.plot(lres, lr_to_loss)\n",
    "plt.xlabel(\"Log learning rate\")\n",
    "plt.ylabel(\"MXE\")\n",
    "plt.grid()\n",
    "plt.title(\n",
    "    \"Initial learning rate and loss after 100 iterations on 50 samples batchsz=10\"\n",
    ")\n",
    "plt.subplot(1, 2, 2)\n",
    "plt.plot(lrs, lr_to_loss)\n",
    "plt.xlabel(\"Learning rate\")\n",
    "plt.ylabel(\"MXE\")\n",
    "plt.grid()\n",
    "plt.title(\n",
    "    \"Initial learning rate and loss after 100 iterations on 50 samples batchsz=10\"\n",
    ")\n",
    "plt.show()"
   ]
  },
  {
   "cell_type": "markdown",
   "id": "1ca19d5d",
   "metadata": {},
   "source": [
    "### Train on all data"
   ]
  },
  {
   "cell_type": "code",
   "execution_count": 461,
   "id": "7060274f",
   "metadata": {},
   "outputs": [
    {
     "name": "stdout",
     "output_type": "stream",
     "text": [
      "45527\n"
     ]
    }
   ],
   "source": [
    "mdl = create_model_params(embed_dim=100, hidden_dim=100)\n",
    "print(num_params(mdl))\n",
    "losses, grads = [], _default_grads(mdl)"
   ]
  },
  {
   "cell_type": "code",
   "execution_count": 464,
   "id": "6eadb9c5",
   "metadata": {},
   "outputs": [
    {
     "data": {
      "application/vnd.jupyter.widget-view+json": {
       "model_id": "0c776506036c4fdd9d6791e4149f5efc",
       "version_major": 2,
       "version_minor": 0
      },
      "text/plain": [
       "  0%|          | 0/30 [00:00<?, ?it/s]"
      ]
     },
     "metadata": {},
     "output_type": "display_data"
    }
   ],
   "source": [
    "_ = train_loop(\n",
    "    Xs=Xtr,\n",
    "    Ys=Ytr,\n",
    "    mdl=mdl,\n",
    "    lr=0.01,\n",
    "    num_iter=30,\n",
    "    losses=losses,\n",
    "    grads=grads,\n",
    "    batch_sz=1024,\n",
    "    verbose=True,\n",
    ")"
   ]
  },
  {
   "cell_type": "code",
   "execution_count": 465,
   "id": "fccde580",
   "metadata": {},
   "outputs": [
    {
     "data": {
      "image/png": "[encoded data removed]",
      "text/plain": [
       "<Figure size 432x288 with 1 Axes>"
      ]
     },
     "metadata": {
      "needs_background": "light"
     },
     "output_type": "display_data"
    }
   ],
   "source": [
    "_plot_losses(losses[:])"
   ]
  },
  {
   "cell_type": "code",
   "execution_count": 466,
   "id": "d6e73b02",
   "metadata": {},
   "outputs": [],
   "source": [
    "# _plot_grads(grads)"
   ]
  },
  {
   "cell_type": "code",
   "execution_count": 467,
   "id": "d83dd6b1",
   "metadata": {},
   "outputs": [
    {
     "name": "stdout",
     "output_type": "stream",
     "text": [
      "Train loss=1.9539\n",
      "Validation loss=2.0639\n"
     ]
    }
   ],
   "source": [
    "split_loss(mdl=mdl, split=\"train\")\n",
    "split_loss(mdl=mdl, split=\"val\")"
   ]
  },
  {
   "cell_type": "markdown",
   "id": "d76c9042",
   "metadata": {},
   "source": [
    "### Look at low probability predictions in the validation set\n",
    "Error analysis"
   ]
  },
  {
   "cell_type": "code",
   "execution_count": 468,
   "id": "16fd75fe",
   "metadata": {},
   "outputs": [],
   "source": [
    "val_smax = F.softmax(fwd_pass(Xs=Xval, mdl=mdl), dim=1)\n",
    "val_p_truech = val_smax[T.arange(len(val_smax)), Yval].detach().numpy()"
   ]
  },
  {
   "cell_type": "code",
   "execution_count": 469,
   "id": "5c4431d2",
   "metadata": {
    "scrolled": false
   },
   "outputs": [
    {
     "data": {
      "image/png": "[encoded data removed]",
      "text/plain": [
       "<Figure size 432x288 with 1 Axes>"
      ]
     },
     "metadata": {
      "needs_background": "light"
     },
     "output_type": "display_data"
    }
   ],
   "source": [
    "plt.hist(val_p_truech)\n",
    "plt.title(\"Histogram of the predicted probabilities of the true characters\");"
   ]
  },
  {
   "cell_type": "code",
   "execution_count": 470,
   "id": "7b75a34b",
   "metadata": {},
   "outputs": [],
   "source": [
    "ix_p_low_to_high, p_low_to_high = zip(\n",
    "    *sorted(enumerate(val_p_truech), key=lambda p: p[1])\n",
    ")\n",
    "_n = 20\n",
    "top_n = list(ix_p_low_to_high[:_n])"
   ]
  },
  {
   "cell_type": "code",
   "execution_count": 471,
   "id": "f9b48993",
   "metadata": {},
   "outputs": [
    {
     "name": "stdout",
     "output_type": "stream",
     "text": [
      "andr ---> z\tP=0.0000\n",
      "kays ---> n\tP=0.0000\n",
      "hayv ---> n\tP=0.0000\n",
      "...h ---> s\tP=0.0000\n",
      "hein ---> r\tP=0.0000\n",
      "rant ---> x\tP=0.0000\n",
      ".liv ---> v\tP=0.0001\n",
      ".ayr ---> t\tP=0.0001\n",
      "tumn ---> r\tP=0.0001\n",
      "rjun ---> r\tP=0.0001\n",
      "khan ---> h\tP=0.0001\n",
      "...d ---> s\tP=0.0001\n",
      "...l ---> j\tP=0.0001\n",
      "yous ---> u\tP=0.0002\n",
      ".nav ---> d\tP=0.0002\n",
      "..ra ---> .\tP=0.0002\n",
      "kayo ---> i\tP=0.0002\n",
      ".abr ---> h\tP=0.0002\n",
      "reta ---> g\tP=0.0002\n",
      "ayle ---> b\tP=0.0002\n"
     ]
    }
   ],
   "source": [
    "for xv, yv, prob in zip(Xval[top_n, :], Yval[top_n], p_low_to_high[:_n]):\n",
    "    print(\n",
    "        \"\".join(ixtoc[ctx.item()] for ctx in xv)\n",
    "        + \" ---> \"\n",
    "        + ixtoc[yv.item()]\n",
    "        + f\"\\tP={prob.item():.4f}\"\n",
    "    )"
   ]
  },
  {
   "cell_type": "code",
   "execution_count": 472,
   "id": "93931f47",
   "metadata": {},
   "outputs": [],
   "source": [
    "g = T.Generator().manual_seed(2147483647)"
   ]
  },
  {
   "cell_type": "code",
   "execution_count": 490,
   "id": "da7eab13",
   "metadata": {},
   "outputs": [
    {
     "data": {
      "text/plain": [
       "['morran',\n",
       " 'nighan',\n",
       " 'jersi',\n",
       " 'keema',\n",
       " 'keia',\n",
       " 'blory',\n",
       " 'michia',\n",
       " 'jayvin',\n",
       " 'arsandis',\n",
       " 'rikan']"
      ]
     },
     "execution_count": 490,
     "metadata": {},
     "output_type": "execute_result"
    }
   ],
   "source": [
    "gen_words = generate_words(\n",
    "    mdl=mdl, nwords=10, ctoix=ctoix, ctx_win=CTX_WIN_SZ, generator=g\n",
    ")\n",
    "gen_words"
   ]
  },
  {
   "cell_type": "code",
   "execution_count": 491,
   "id": "ff2bc920",
   "metadata": {},
   "outputs": [
    {
     "data": {
      "text/plain": [
       "{'jayvin', 'jersi'}"
      ]
     },
     "execution_count": 491,
     "metadata": {},
     "output_type": "execute_result"
    }
   ],
   "source": [
    "set(gen_words) & set(words)"
   ]
  },
  {
   "cell_type": "code",
   "execution_count": 492,
   "id": "c3142172",
   "metadata": {},
   "outputs": [],
   "source": [
    "embed = mdl[\"C\"].detach().numpy()\n",
    "if embed.shape[1] == 2:\n",
    "    ex, ey = embed[:, 0], embed[:, 1]\n",
    "    plt.scatter(ex, ey, alpha=0)\n",
    "    for _x, _y, _c in zip(ex, ey, ixtoc.values()):\n",
    "        plt.text(_x, _y, _c);"
   ]
  },
  {
   "cell_type": "code",
   "execution_count": 493,
   "id": "bc6314b2",
   "metadata": {},
   "outputs": [],
   "source": [
    "from sklearn.manifold import TSNE\n",
    "from sklearn.decomposition import PCA"
   ]
  },
  {
   "cell_type": "code",
   "execution_count": 494,
   "id": "7840a5f6",
   "metadata": {
    "scrolled": true
   },
   "outputs": [
    {
     "data": {
      "text/plain": [
       "(27, 100)"
      ]
     },
     "execution_count": 494,
     "metadata": {},
     "output_type": "execute_result"
    }
   ],
   "source": [
    "embed = mdl[\"C\"].detach().numpy()\n",
    "embed.shape"
   ]
  },
  {
   "cell_type": "code",
   "execution_count": 495,
   "id": "49f274bc",
   "metadata": {},
   "outputs": [
    {
     "data": {
      "text/plain": [
       "(27, 2)"
      ]
     },
     "execution_count": 495,
     "metadata": {},
     "output_type": "execute_result"
    }
   ],
   "source": [
    "embed_tsne = TSNE(\n",
    "    n_components=2, learning_rate=\"auto\", init=\"random\", perplexity=3\n",
    ").fit_transform(embed)\n",
    "embed_tsne.shape"
   ]
  },
  {
   "cell_type": "code",
   "execution_count": 496,
   "id": "d86fe5c2",
   "metadata": {},
   "outputs": [
    {
     "data": {
      "image/png": "[encoded data removed]",
      "text/plain": [
       "<Figure size 432x288 with 1 Axes>"
      ]
     },
     "metadata": {
      "needs_background": "light"
     },
     "output_type": "display_data"
    }
   ],
   "source": [
    "ex, ey = embed_tsne[:, 0], embed_tsne[:, 1]\n",
    "plt.scatter(ex, ey, alpha=0)\n",
    "for _x, _y, _c in zip(ex, ey, ixtoc.values()):\n",
    "    plt.text(_x, _y, _c);"
   ]
  },
  {
   "cell_type": "code",
   "execution_count": 497,
   "id": "32514648",
   "metadata": {},
   "outputs": [
    {
     "data": {
      "text/plain": [
       "(27, 2)"
      ]
     },
     "execution_count": 497,
     "metadata": {},
     "output_type": "execute_result"
    }
   ],
   "source": [
    "embed_pca = PCA(n_components=2).fit_transform(embed)\n",
    "embed_pca.shape"
   ]
  },
  {
   "cell_type": "code",
   "execution_count": 498,
   "id": "1fa4fa76",
   "metadata": {},
   "outputs": [
    {
     "data": {
      "image/png": "[encoded data removed]",
      "text/plain": [
       "<Figure size 432x288 with 1 Axes>"
      ]
     },
     "metadata": {
      "needs_background": "light"
     },
     "output_type": "display_data"
    }
   ],
   "source": [
    "ex, ey = embed_pca[:, 0], embed_pca[:, 1]\n",
    "plt.scatter(ex, ey, alpha=0)\n",
    "for _x, _y, _c in zip(ex, ey, ixtoc.values()):\n",
    "    plt.text(_x, _y, _c);"
   ]
  },
  {
   "cell_type": "code",
   "execution_count": null,
   "id": "abe8fb15",
   "metadata": {},
   "outputs": [],
   "source": []
  }
 ],
 "metadata": {
  "kernelspec": {
   "display_name": "Python 3 (ipykernel)",
   "language": "python",
   "name": "python3"
  },
  "language_info": {
   "codemirror_mode": {
    "name": "ipython",
    "version": 3
   },
   "file_extension": ".py",
   "mimetype": "text/x-python",
   "name": "python",
   "nbconvert_exporter": "python",
   "pygments_lexer": "ipython3",
   "version": "3.10.8"
  }
 },
 "nbformat": 4,
 "nbformat_minor": 5
}
