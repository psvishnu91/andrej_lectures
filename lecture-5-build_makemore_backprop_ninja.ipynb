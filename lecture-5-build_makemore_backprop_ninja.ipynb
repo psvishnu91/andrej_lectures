{
 "cells": [
  {
   "cell_type": "markdown",
   "metadata": {
    "id": "rToK0Tku8PPn"
   },
   "source": [
    "## makemore: becoming a backprop ninja"
   ]
  },
  {
   "cell_type": "code",
   "execution_count": null,
   "metadata": {
    "id": "8sFElPqq8PPp"
   },
   "outputs": [],
   "source": [
    "# there no change change in the first several cells from last lecture"
   ]
  },
  {
   "cell_type": "code",
   "execution_count": 1,
   "metadata": {},
   "outputs": [
    {
     "data": {
      "text/html": [
       "<style>.container { width:100% !important; }</style>"
      ],
      "text/plain": [
       "<IPython.core.display.HTML object>"
      ]
     },
     "metadata": {},
     "output_type": "display_data"
    }
   ],
   "source": [
    "from IPython.display import display, HTML, clear_output\n",
    "\n",
    "display(HTML(\"<style>.container { width:100% !important; }</style>\"))\n",
    "\n",
    "\n",
    "from dataclasses import dataclass, field\n",
    "import typing as t\n",
    "import itertools as it\n",
    "import collections as c\n",
    "import json\n",
    "from copy import deepcopy\n",
    "import math\n",
    "import time\n",
    "import functools as ft\n",
    "import numpy as np\n",
    "import random\n",
    "from tqdm.notebook import tqdm\n",
    "import heapq\n",
    "import torch.nn.functional as F\n",
    "import matplotlib.pyplot as plt\n",
    "import seaborn as sns\n",
    "import torch.utils.tensorboard as tb\n",
    "\n",
    "plt.rcParams[\"figure.figsize\"] = (12, 4)\n",
    "plt.rcParams[\"font.size\"] = 22"
   ]
  },
  {
   "cell_type": "code",
   "execution_count": 2,
   "metadata": {
    "id": "ChBbac4y8PPq"
   },
   "outputs": [],
   "source": [
    "import torch\n",
    "import torch.nn.functional as F\n",
    "import matplotlib.pyplot as plt # for making figures\n",
    "%matplotlib inline"
   ]
  },
  {
   "cell_type": "code",
   "execution_count": 3,
   "metadata": {
    "id": "klmu3ZG08PPr"
   },
   "outputs": [
    {
     "name": "stdout",
     "output_type": "stream",
     "text": [
      "32033\n",
      "15\n",
      "['emma', 'olivia', 'ava', 'isabella', 'sophia', 'charlotte', 'mia', 'amelia']\n"
     ]
    }
   ],
   "source": [
    "# read in all the words\n",
    "words = open('names.txt', 'r').read().splitlines()\n",
    "print(len(words))\n",
    "print(max(len(w) for w in words))\n",
    "print(words[:8])"
   ]
  },
  {
   "cell_type": "code",
   "execution_count": 4,
   "metadata": {
    "id": "BCQomLE_8PPs"
   },
   "outputs": [
    {
     "name": "stdout",
     "output_type": "stream",
     "text": [
      "{1: 'a', 2: 'b', 3: 'c', 4: 'd', 5: 'e', 6: 'f', 7: 'g', 8: 'h', 9: 'i', 10: 'j', 11: 'k', 12: 'l', 13: 'm', 14: 'n', 15: 'o', 16: 'p', 17: 'q', 18: 'r', 19: 's', 20: 't', 21: 'u', 22: 'v', 23: 'w', 24: 'x', 25: 'y', 26: 'z', 0: '.'}\n",
      "27\n"
     ]
    }
   ],
   "source": [
    "# build the vocabulary of characters and mappings to/from integers\n",
    "chars = sorted(list(set(''.join(words))))\n",
    "stoi = {s:i+1 for i,s in enumerate(chars)}\n",
    "stoi['.'] = 0\n",
    "itos = {i:s for s,i in stoi.items()}\n",
    "vocab_size = len(itos)\n",
    "print(itos)\n",
    "print(vocab_size)"
   ]
  },
  {
   "cell_type": "code",
   "execution_count": 5,
   "metadata": {
    "id": "V_zt2QHr8PPs"
   },
   "outputs": [
    {
     "name": "stdout",
     "output_type": "stream",
     "text": [
      "torch.Size([182625, 3]) torch.Size([182625])\n",
      "torch.Size([22655, 3]) torch.Size([22655])\n",
      "torch.Size([22866, 3]) torch.Size([22866])\n"
     ]
    }
   ],
   "source": [
    "# build the dataset\n",
    "block_size = 3 # context length: how many characters do we take to predict the next one?\n",
    "\n",
    "def build_dataset(words):  \n",
    "  X, Y = [], []\n",
    "  \n",
    "  for w in words:\n",
    "    context = [0] * block_size\n",
    "    for ch in w + '.':\n",
    "      ix = stoi[ch]\n",
    "      X.append(context)\n",
    "      Y.append(ix)\n",
    "      context = context[1:] + [ix] # crop and append\n",
    "\n",
    "  X = torch.tensor(X)\n",
    "  Y = torch.tensor(Y)\n",
    "  print(X.shape, Y.shape)\n",
    "  return X, Y\n",
    "\n",
    "import random\n",
    "random.seed(42)\n",
    "random.shuffle(words)\n",
    "n1 = int(0.8*len(words))\n",
    "n2 = int(0.9*len(words))\n",
    "\n",
    "Xtr,  Ytr  = build_dataset(words[:n1])     # 80%\n",
    "Xdev, Ydev = build_dataset(words[n1:n2])   # 10%\n",
    "Xte,  Yte  = build_dataset(words[n2:])     # 10%"
   ]
  },
  {
   "cell_type": "code",
   "execution_count": 6,
   "metadata": {
    "id": "eg20-vsg8PPt"
   },
   "outputs": [],
   "source": [
    "# ok biolerplate done, now we get to the action:"
   ]
  },
  {
   "cell_type": "code",
   "execution_count": 8,
   "metadata": {
    "id": "MJPU8HT08PPu"
   },
   "outputs": [],
   "source": [
    "# utility function we will use later when comparing manual gradients to PyTorch gradients\n",
    "def cmp(s, dt, t):\n",
    "  ex = torch.all(dt == t.grad).item()\n",
    "  app = torch.allclose(dt, t.grad)\n",
    "  maxdiff = (dt - t.grad).abs().max().item()\n",
    "  print(f'{s:15s} | exact: {str(ex):5s} | approximate: {str(app):5s} | maxdiff: {maxdiff}')"
   ]
  },
  {
   "cell_type": "code",
   "execution_count": 9,
   "metadata": {
    "id": "ZlFLjQyT8PPu"
   },
   "outputs": [
    {
     "name": "stdout",
     "output_type": "stream",
     "text": [
      "4137\n"
     ]
    }
   ],
   "source": [
    "n_embd = 10 # the dimensionality of the character embedding vectors\n",
    "n_hidden = 64 # the number of neurons in the hidden layer of the MLP\n",
    "\n",
    "g = torch.Generator().manual_seed(2147483647) # for reproducibility\n",
    "C  = torch.randn((vocab_size, n_embd),            generator=g)\n",
    "# Layer 1\n",
    "W1 = torch.randn((n_embd * block_size, n_hidden), generator=g) * (5/3)/((n_embd * block_size)**0.5)\n",
    "b1 = torch.randn(n_hidden,                        generator=g) * 0.1 # using b1 just for fun, it's useless because of BN\n",
    "# Layer 2\n",
    "W2 = torch.randn((n_hidden, vocab_size),          generator=g) * 0.1\n",
    "b2 = torch.randn(vocab_size,                      generator=g) * 0.1\n",
    "# BatchNorm parameters\n",
    "bngain = torch.randn((1, n_hidden))*0.1 + 1.0\n",
    "bnbias = torch.randn((1, n_hidden))*0.1\n",
    "\n",
    "# Note: I am initializating many of these parameters in non-standard ways\n",
    "# because sometimes initializating with e.g. all zeros could mask an incorrect\n",
    "# implementation of the backward pass.\n",
    "\n",
    "parameters = [C, W1, b1, W2, b2, bngain, bnbias]\n",
    "print(sum(p.nelement() for p in parameters)) # number of parameters in total\n",
    "for p in parameters:\n",
    "  p.requires_grad = True"
   ]
  },
  {
   "cell_type": "code",
   "execution_count": 114,
   "metadata": {
    "id": "QY-y96Y48PPv"
   },
   "outputs": [
    {
     "data": {
      "text/plain": [
       "tensor([ 35004, 156252,  94096,  37800,  24686,   2101, 153392,  51800, 119439,\n",
       "        115216,  52315,  95635,  28832, 175900, 131259, 166755,  26138, 141888,\n",
       "         43989,   1857,    350, 130503,  28597,  20657, 177075,  67700, 127749,\n",
       "         67638,  14772,  35990,  20280, 115911])"
      ]
     },
     "execution_count": 114,
     "metadata": {},
     "output_type": "execute_result"
    }
   ],
   "source": [
    "batch_size = 32\n",
    "n = batch_size # a shorter variable also, for convenience\n",
    "# construct a minibatch\n",
    "ix = torch.randint(low=0, high=Xtr.shape[0]+1, size=(batch_size,), generator=g)\n",
    "Xb, Yb = Xtr[ix], Ytr[ix] # batch X,Y\n",
    "ix"
   ]
  },
  {
   "cell_type": "code",
   "execution_count": 264,
   "metadata": {
    "id": "8ofj1s6d8PPv"
   },
   "outputs": [
    {
     "data": {
      "text/plain": [
       "tensor(3.4192, grad_fn=<NegBackward0>)"
      ]
     },
     "execution_count": 264,
     "metadata": {},
     "output_type": "execute_result"
    }
   ],
   "source": [
    "# forward pass, \"chunkated\" into smaller steps that are possible to backward one at a time\n",
    "\n",
    "emb = C[Xb] # embed the characters into vectors\n",
    "embcat = emb.view(emb.shape[0], -1) # concatenate the vectors\n",
    "# Linear layer 1\n",
    "hprebn = embcat @ W1 + b1 # hidden layer pre-activation\n",
    "# BatchNorm layer\n",
    "bnmeani = 1/n*hprebn.sum(0, keepdim=True)\n",
    "bndiff = hprebn - bnmeani\n",
    "bndiff2 = bndiff**2\n",
    "bnvar = 1/(n-1)*(bndiff2).sum(0, keepdim=True) # note: Bessel's correction (dividing by n-1, not n)\n",
    "bnvar_inv = (bnvar + 1e-5)**-0.5\n",
    "bnraw = bndiff * bnvar_inv\n",
    "hpreact = bngain * bnraw + bnbias\n",
    "# Non-linearity\n",
    "h = torch.tanh(hpreact) # hidden layer\n",
    "# Linear layer 2\n",
    "logits = h @ W2 + b2 # output layer\n",
    "# cross entropy loss (same as F.cross_entropy(logits, Yb))\n",
    "logit_maxes = logits.max(1, keepdim=True).values\n",
    "norm_logits = logits - logit_maxes # subtract max for numerical stability\n",
    "counts = norm_logits.exp()\n",
    "counts_sum = counts.sum(1, keepdims=True)\n",
    "counts_sum_inv = counts_sum**-1 # if I use (1.0 / counts_sum) instead then I can't get backprop to be bit exact...\n",
    "probs = counts * counts_sum_inv\n",
    "logprobs = probs.log()\n",
    "loss = -logprobs[range(n), Yb].mean()\n",
    "\n",
    "# PyTorch backward pass\n",
    "for p in parameters:\n",
    "  p.grad = None\n",
    "for t in [logprobs, probs, counts, counts_sum, counts_sum_inv, # afaik there is no cleaner way\n",
    "          norm_logits, logit_maxes, logits, h, hpreact, bnraw,\n",
    "         bnvar_inv, bnvar, bndiff2, bndiff, hprebn, bnmeani,\n",
    "         embcat, emb]:\n",
    "  t.retain_grad()\n",
    "loss.backward()\n",
    "loss"
   ]
  },
  {
   "cell_type": "code",
   "execution_count": 300,
   "metadata": {},
   "outputs": [
    {
     "data": {
      "text/plain": [
       "tensor([14, 26,  5,  9, 25,  1,  0,  0,  0,  8,  1, 20,  5,  9, 12,  0,  0,  0,\n",
       "         0,  0, 11,  0,  0,  5,  9, 19, 20,  0,  0, 12,  1, 21, 14, 24, 12,  5,\n",
       "         9, 11,  5,  0,  0,  0,  0, 11,  1,  1, 11, 25,  0,  0, 19,  1, 14,  9,\n",
       "         0, 11,  1,  4,  1, 10,  0, 11, 14,  1,  1, 14, 19,  8, 15,  0,  0, 18,\n",
       "        12,  5,  5, 15, 14,  9,  0, 26,  9,  0,  0, 13,  0,  0, 11,  0,  0,  0,\n",
       "         1, 26,  9,  0,  0,  0])"
      ]
     },
     "execution_count": 300,
     "metadata": {},
     "output_type": "execute_result"
    }
   ],
   "source": [
    "Xb.view(-1)"
   ]
  },
  {
   "cell_type": "code",
   "execution_count": 321,
   "metadata": {},
   "outputs": [
    {
     "data": {
      "text/plain": [
       "torch.Size([1, 10, 96])"
      ]
     },
     "execution_count": 321,
     "metadata": {},
     "output_type": "execute_result"
    }
   ],
   "source": [
    "demb.view(-1,demb.shape[-1]).T.unsqueeze(dim=0).shape"
   ]
  },
  {
   "cell_type": "code",
   "execution_count": 343,
   "metadata": {},
   "outputs": [
    {
     "name": "stdout",
     "output_type": "stream",
     "text": [
      "Gradient of embedding matrix dC vectorised\n",
      "C               | exact: False | approximate: True  | maxdiff: 1.862645149230957e-09\n",
      "Gradient of embedding matrix dC Iterative\n",
      "C               | exact: True  | approximate: True  | maxdiff: 0.0\n"
     ]
    }
   ],
   "source": [
    "\"\"\"Vectorised solution to compute gradients of embedding matrix C.\n",
    "\n",
    "Creating 3D matrics\n",
    "- Unroll the context words with Xb.view(-1) [1 x 96] and unroll demb.view(-1, 10) [96 x 10]\n",
    "- We convert Xb into a OHE of dim [27 x 1 x 96] (after appropriate transposing and adding dim)\n",
    "- We convert demb into a 3D tensor of dim [1 x 10 x 96].\n",
    "\n",
    "Now when we perform the multiplication of these matrices we will produce a 3D tensor of shape\n",
    "[27 x 10 x 96]. Such that across the third dimension of training examples we will have exactly\n",
    "one nonzero row corresponding to the index of the embedding matrix to whom the gradient should flow.\n",
    "We sum across the third dimension to produce the final gradient matrix.\n",
    "\"\"\"\n",
    "# 3D Solution\n",
    "demb_flat = demb.view(-1,demb.shape[-1]).T.unsqueeze(dim=0)  # 1 x 10 x 96 => 10 dim of embed\n",
    "oh = F.one_hot(Xb.view(-1), num_classes=vocab_size).T.unsqueeze(dim=1)  # 27 x 1 x 96; 96 => 3 ctx words x 32 batch sz\n",
    "dC3D = (oh * demb_flat)  # 27 x 10 x 96\n",
    "dC_vec = dC3D.sum(dim=2)\n",
    "print(\"Gradient of embedding matrix dC vectorised\")\n",
    "cmp('C', dC_vec, C)\n",
    "\n",
    "# Compare with iterative solution\n",
    "dC_it = torch.zeros_like(C)\n",
    "for cix, grad in zip(Xb.view(-1), demb.view(-1,demb.shape[-1])):\n",
    "  dC_it[cix] += grad\n",
    "print(\"Gradient of embedding matrix dC Iterative\")  \n",
    "cmp('C', dC_it, C)"
   ]
  },
  {
   "cell_type": "code",
   "execution_count": 344,
   "metadata": {},
   "outputs": [
    {
     "data": {
      "text/plain": [
       "(tensor([ 0.0048,  0.0022,  0.0148,  0.0255,  0.0097,  0.0018,  0.0057,  0.0065,\n",
       "         -0.0103, -0.0113]),\n",
       " tensor([ 0.0048,  0.0022,  0.0148,  0.0255,  0.0097,  0.0018,  0.0057,  0.0065,\n",
       "         -0.0103, -0.0113]))"
      ]
     },
     "execution_count": 344,
     "metadata": {},
     "output_type": "execute_result"
    }
   ],
   "source": [
    "dC_vec[0], dC_it[0]"
   ]
  },
  {
   "cell_type": "code",
   "execution_count": 350,
   "metadata": {},
   "outputs": [
    {
     "name": "stdout",
     "output_type": "stream",
     "text": [
      "[(0.0048, 0.0048), (0.0022, 0.0022), (0.0148, 0.0148), (0.0255, 0.0255), (0.0097, 0.0097), (0.0018, 0.0018), (0.0057, 0.0057), (0.0065, 0.0065), (-0.0103, -0.0103), (-0.0113, -0.0113)]\n",
      "[(0.0134, 0.0134), (0.0128, 0.0128), (-0.0066, -0.0066), (0.0089, 0.0089), (-0.0039, -0.0039), (-0.0144, -0.0144), (-0.0073, -0.0073), (-0.0062, -0.0062), (-0.0017, -0.0017), (0.0153, 0.0153)]\n",
      "[(0.0049, 0.0049), (-0.001, -0.001), (-0.0002, -0.0002), (-0.0021, -0.0021), (-0.0034, -0.0034), (-0.0043, -0.0043), (0.0035, 0.0035), (0.002, 0.002), (0.0028, 0.0028), (-0.0005, -0.0005)]\n",
      "[(-0.0092, -0.0092), (-0.0012, -0.0012), (0.0042, 0.0042), (-0.0043, -0.0043), (-0.0029, -0.0029), (0.0015, 0.0015), (-0.0098, -0.0098), (-0.0008, -0.0008), (-0.0085, -0.0085), (0.0071, 0.0071)]\n",
      "[(-0.0094, -0.0094), (-0.0031, -0.0031), (0.0012, 0.0012), (-0.0068, -0.0068), (0.0081, 0.0081), (0.001, 0.001), (-0.0036, -0.0036), (0.0084, 0.0084), (0.0028, 0.0028), (-0.0003, -0.0003)]\n",
      "[(0.0157, 0.0157), (0.0008, 0.0008), (-0.0132, -0.0132), (-0.0155, -0.0155), (-0.0104, -0.0104), (0.01, 0.01), (0.0146, 0.0146), (-0.0008, -0.0008), (0.0057, 0.0057), (0.0087, 0.0087)]\n",
      "[(-0.0036, -0.0036), (-0.0006, -0.0006), (0.0008, 0.0008), (0.0006, 0.0006), (-0.0019, -0.0019), (0.0008, 0.0008), (0.0055, 0.0055), (0.003, 0.003), (0.0001, 0.0001), (-0.0013, -0.0013)]\n",
      "[(0.0001, 0.0001), (0.0145, 0.0145), (-0.0016, -0.0016), (-0.0021, -0.0021), (-0.0144, -0.0144), (0.01, 0.01), (-0.0027, -0.0027), (0.0082, 0.0082), (-0.0038, -0.0038), (-0.0064, -0.0064)]\n",
      "[(-0.0006, -0.0006), (-0.01, -0.01), (0.0024, 0.0024), (-0.0038, -0.0038), (-0.0005, -0.0005), (0.0022, 0.0022), (0.0137, 0.0137), (-0.0209, -0.0209), (-0.0007, -0.0007), (0.0004, 0.0004)]\n",
      "[(-0.0021, -0.0021), (-0.0022, -0.0022), (0.0014, 0.0014), (0.0021, 0.0021), (-0.002, -0.002), (0.0011, 0.0011), (0.0017, 0.0017), (0.0024, 0.0024), (0.0024, 0.0024), (0.0007, 0.0007)]\n",
      "[(-0.003, -0.003), (-0.008, -0.008), (0.0124, 0.0124), (-0.0029, -0.0029), (0.0277, 0.0277), (0.0019, 0.0019), (-0.0127, -0.0127), (-0.0088, -0.0088), (-0.0023, -0.0023), (-0.012, -0.012)]\n",
      "[(0.0056, 0.0056), (0.0065, 0.0065), (0.0045, 0.0045), (-0.0032, -0.0032), (-0.0068, -0.0068), (-0.0081, -0.0081), (-0.001, -0.001), (-0.004, -0.004), (0.003, 0.003), (0.0017, 0.0017)]\n",
      "[(-0.0008, -0.0008), (0.0, 0.0), (-0.0015, -0.0015), (-0.0024, -0.0024), (0.0029, 0.0029), (-0.0023, -0.0023), (0.003, 0.003), (-0.0083, -0.0083), (0.0009, 0.0009), (-0.0036, -0.0036)]\n",
      "[(0.0015, 0.0015), (-0.0185, -0.0185), (0.0014, 0.0014), (0.0053, 0.0053), (0.0037, 0.0037), (-0.0035, -0.0035), (0.0038, 0.0038), (-0.0066, -0.0066), (0.0087, 0.0087), (0.0005, 0.0005)]\n",
      "[(0.0022, 0.0022), (-0.0006, -0.0006), (-0.0044, -0.0044), (-0.0079, -0.0079), (-0.0045, -0.0045), (-0.0007, -0.0007), (-0.0031, -0.0031), (-0.0059, -0.0059), (0.0023, 0.0023), (-0.0008, -0.0008)]\n",
      "[(0.0039, 0.0039), (0.0069, 0.0069), (0.0015, 0.0015), (0.0046, 0.0046), (0.002, 0.002), (-0.0003, -0.0003), (0.0024, 0.0024), (0.0062, 0.0062), (0.0002, 0.0002), (0.0033, 0.0033)]\n",
      "[(-0.0069, -0.0069), (0.0038, 0.0038), (-0.0054, -0.0054), (-0.0055, -0.0055), (0.0005, 0.0005), (0.0045, 0.0045), (0.0016, 0.0016), (0.0114, 0.0114), (0.0015, 0.0015), (-0.0006, -0.0006)]\n",
      "[(-0.0073, -0.0073), (0.0017, 0.0017), (-0.0078, -0.0078), (-0.0002, -0.0002), (0.0011, 0.0011), (-0.0002, -0.0002), (0.0005, 0.0005), (0.0082, 0.0082), (0.004, 0.004), (-0.0044, -0.0044)]\n",
      "[(-0.0092, -0.0092), (-0.0039, -0.0039), (-0.0038, -0.0038), (0.0096, 0.0096), (-0.0049, -0.0049), (-0.0007, -0.0007), (-0.016, -0.016), (0.0062, 0.0062), (-0.007, -0.007), (0.0032, 0.0032)]\n"
     ]
    }
   ],
   "source": [
    "for i in range(27):\n",
    "  compare_lst =     [\n",
    "    (round(c1.item(),4), round(c2.item(),4))\n",
    "    for c1, c2 in zip(dC_it[i], dC_vec[i])\n",
    "    if not (c1==c2==0.)\n",
    "  ]\n",
    "  if compare_lst:\n",
    "    print(compare_lst)"
   ]
  },
  {
   "cell_type": "code",
   "execution_count": 331,
   "metadata": {},
   "outputs": [
    {
     "name": "stdout",
     "output_type": "stream",
     "text": [
      "C               | exact: True  | approximate: True  | maxdiff: 0.0\n"
     ]
    }
   ],
   "source": [
    "dC = torch.zeros_like(C)\n",
    "for cix, grad in zip(Xb.view(-1), demb.view(-1,demb.shape[-1])):\n",
    "  dC[cix] += grad\n",
    "cmp('C', dC, C)"
   ]
  },
  {
   "cell_type": "code",
   "execution_count": 293,
   "metadata": {
    "id": "mO-8aqxK8PPw"
   },
   "outputs": [
    {
     "name": "stdout",
     "output_type": "stream",
     "text": [
      "logprobs        | exact: True  | approximate: True  | maxdiff: 0.0\n",
      "probs           | exact: True  | approximate: True  | maxdiff: 0.0\n",
      "counts_sum_inv  | exact: True  | approximate: True  | maxdiff: 0.0\n",
      "counts_sum      | exact: True  | approximate: True  | maxdiff: 0.0\n",
      "counts          | exact: True  | approximate: True  | maxdiff: 0.0\n",
      "norm_logits     | exact: True  | approximate: True  | maxdiff: 0.0\n",
      "logit_maxes     | exact: True  | approximate: True  | maxdiff: 0.0\n",
      "logits          | exact: True  | approximate: True  | maxdiff: 0.0\n",
      "h               | exact: True  | approximate: True  | maxdiff: 0.0\n",
      "W2              | exact: True  | approximate: True  | maxdiff: 0.0\n",
      "b2              | exact: True  | approximate: True  | maxdiff: 0.0\n",
      "hpreact         | exact: True  | approximate: True  | maxdiff: 0.0\n",
      "bngain          | exact: True  | approximate: True  | maxdiff: 0.0\n",
      "bnbias          | exact: True  | approximate: True  | maxdiff: 0.0\n",
      "bnraw           | exact: True  | approximate: True  | maxdiff: 0.0\n",
      "bnvar_inv       | exact: True  | approximate: True  | maxdiff: 0.0\n",
      "bnvar           | exact: True  | approximate: True  | maxdiff: 0.0\n",
      "bndiff2         | exact: True  | approximate: True  | maxdiff: 0.0\n",
      "bndiff          | exact: True  | approximate: True  | maxdiff: 0.0\n",
      "bnmeani         | exact: True  | approximate: True  | maxdiff: 0.0\n",
      "hprebn          | exact: True  | approximate: True  | maxdiff: 0.0\n",
      "embcat          | exact: True  | approximate: True  | maxdiff: 0.0\n",
      "W1              | exact: True  | approximate: True  | maxdiff: 0.0\n",
      "b1              | exact: True  | approximate: True  | maxdiff: 0.0\n",
      "emb             | exact: True  | approximate: True  | maxdiff: 0.0\n",
      "C               | exact: True  | approximate: True  | maxdiff: 0.0\n"
     ]
    }
   ],
   "source": [
    "# Exercise 1: backprop through the whole thing manually, \n",
    "# backpropagating through exactly all of the variables \n",
    "# as they are defined in the forward pass above, one by one\n",
    "with torch.no_grad():\n",
    "  # -----------------\n",
    "  # YOUR CODE HERE :)\n",
    "  # -----------------\n",
    "  dlogprobs = - F.one_hot(Yb, vocab_size).float() * 1/n\n",
    "  cmp('logprobs', dlogprobs, logprobs)\n",
    "  dprobs = dlogprobs / probs.data\n",
    "  cmp('probs', dprobs, probs)\n",
    "  dcounts_sum_inv = (dprobs * counts.data).sum(dim=1, keepdims=True)\n",
    "  cmp('counts_sum_inv', dcounts_sum_inv, counts_sum_inv)\n",
    "  dcounts_sum = -dcounts_sum_inv * counts_sum**-2\n",
    "  cmp('counts_sum', dcounts_sum, counts_sum)\n",
    "  dcounts = (\n",
    "    (dcounts_sum)  # (nx1) because all the elements of a row in counts are added, the gradient of the added row simply flows back (addn saves grad)\n",
    "    + (dprobs * counts_sum_inv) # (nxk) * (nx1)\n",
    "  )\n",
    "  cmp('counts', dcounts, counts)\n",
    "  dnorm_logits = dcounts * counts\n",
    "  cmp('norm_logits', dnorm_logits, norm_logits)\n",
    "  dlogit_maxes = -dnorm_logits.sum(dim=1, keepdim=True)\n",
    "  cmp('logit_maxes', dlogit_maxes, logit_maxes)\n",
    "  dlogits = dnorm_logits.clone() # (probs.data - F.one_hot(Yb, vocab_size)) * 1/n\n",
    "  dlogits[range(n), logits.max(1).indices] += dlogit_maxes.squeeze()\n",
    "  cmp('logits', dlogits, logits)\n",
    "  dh = dlogits @ W2.T\n",
    "  cmp('h', dh, h)\n",
    "  dW2 = h.T @ dlogits\n",
    "  cmp('W2', dW2, W2)\n",
    "  db2 = dlogits.sum(dim=0)\n",
    "  cmp('b2', db2, b2)\n",
    "  dhpreact = dh * (1-h*h)\n",
    "  cmp('hpreact', dhpreact, hpreact)\n",
    "  dbngain =  (dhpreact * bnraw).sum(dim=0, keepdims=True)\n",
    "  cmp('bngain', dbngain, bngain)\n",
    "  dbnbias = dhpreact.sum(dim=0)\n",
    "  cmp('bnbias', dbnbias, bnbias)\n",
    "  dbnraw = dhpreact * bngain\n",
    "  cmp('bnraw', dbnraw, bnraw)\n",
    "  dbnvar_inv = (dbnraw * bndiff).sum(dim=0, keepdims=True)\n",
    "  cmp('bnvar_inv', dbnvar_inv, bnvar_inv)\n",
    "  dbnvar = dbnvar_inv * (-0.5) * (bnvar + 1e-5)**(-1.5)\n",
    "  cmp('bnvar', dbnvar, bnvar)\n",
    "  dbndiff2 = torch.ones_like(bndiff2) * dbnvar * (1/(n-1))\n",
    "  cmp('bndiff2', dbndiff2, bndiff2)\n",
    "  dbndiff = (\n",
    "    (2 * dbndiff2 * bndiff)\n",
    "    + dbnraw * bnvar_inv\n",
    "  )\n",
    "  cmp('bndiff', dbndiff, bndiff)\n",
    "  dbnmeani = - dbndiff.sum(axis=0, keepdims=True)\n",
    "  cmp('bnmeani', dbnmeani, bnmeani)\n",
    "  dhprebn = (\n",
    "    dbndiff\n",
    "    + (torch.ones_like(hprebn) * dbnmeani * (1/n))\n",
    "  )\n",
    "  cmp('hprebn', dhprebn, hprebn)\n",
    "  dembcat = dhprebn @ W1.T\n",
    "  cmp('embcat', dembcat, embcat)\n",
    "  dW1 = embcat.T @ dhprebn\n",
    "  cmp('W1', dW1, W1)\n",
    "  db1 = dhprebn.sum(axis=0)\n",
    "  cmp('b1', db1, b1)\n",
    "  demb = dembcat.view(emb.shape)\n",
    "  cmp('emb', demb, emb)\n",
    "  dC = torch.zeros_like(C)\n",
    "  for cix, grad in zip(Xb.view(-1), demb.view(-1,demb.shape[-1])):\n",
    "    dC[cix] += grad\n",
    "  cmp('C', dC, C)"
   ]
  },
  {
   "cell_type": "code",
   "execution_count": 118,
   "metadata": {
    "id": "ebLtYji_8PPw"
   },
   "outputs": [
    {
     "name": "stdout",
     "output_type": "stream",
     "text": [
      "3.4191508293151855 diff: -4.76837158203125e-07\n"
     ]
    }
   ],
   "source": [
    "# Exercise 2: backprop through cross_entropy but all in one go\n",
    "# to complete this challenge look at the mathematical expression of the loss,\n",
    "# take the derivative, simplify the expression, and just write it out\n",
    "\n",
    "# forward pass\n",
    "\n",
    "# before:\n",
    "# logit_maxes = logits.max(1, keepdim=True).values\n",
    "# norm_logits = logits - logit_maxes # subtract max for numerical stability\n",
    "# counts = norm_logits.exp()\n",
    "# counts_sum = counts.sum(1, keepdims=True)\n",
    "# counts_sum_inv = counts_sum**-1 # if I use (1.0 / counts_sum) instead then I can't get backprop to be bit exact...\n",
    "# probs = counts * counts_sum_inv\n",
    "# logprobs = probs.log()\n",
    "# loss = -logprobs[range(n), Yb].mean()\n",
    "\n",
    "# now:\n",
    "loss_fast = F.cross_entropy(logits, Yb)\n",
    "print(loss_fast.item(), 'diff:', (loss_fast - loss).item())"
   ]
  },
  {
   "cell_type": "code",
   "execution_count": 354,
   "metadata": {
    "id": "-gCXbB4C8PPx"
   },
   "outputs": [
    {
     "name": "stdout",
     "output_type": "stream",
     "text": [
      "logits          | exact: False | approximate: True  | maxdiff: 6.51925802230835e-09\n"
     ]
    }
   ],
   "source": [
    "# backward pass\n",
    "\n",
    "# -----------------\n",
    "# YOUR CODE HERE :)\n",
    "dlogits = (1/n) * (probs.data - F.one_hot(Yb, vocab_size))\n",
    "# -----------------\n",
    "\n",
    "cmp('logits', dlogits, logits) # I can only get approximate to be true, my maxdiff is 6e-9"
   ]
  },
  {
   "cell_type": "code",
   "execution_count": 359,
   "metadata": {},
   "outputs": [
    {
     "data": {
      "text/plain": [
       "<matplotlib.colorbar.Colorbar at 0x17ed36140>"
      ]
     },
     "execution_count": 359,
     "metadata": {},
     "output_type": "execute_result"
    },
    {
     "data": {
      "image/png": "[encoded data removed]",
      "text/plain": [
       "<Figure size 720x576 with 2 Axes>"
      ]
     },
     "metadata": {
      "needs_background": "light"
     },
     "output_type": "display_data"
    }
   ],
   "source": [
    "plt.figure(figsize=(10,8))\n",
    "plt.imshow(dlogits, cmap='gray')\n",
    "plt.colorbar()"
   ]
  },
  {
   "cell_type": "code",
   "execution_count": 360,
   "metadata": {
    "id": "hd-MkhB68PPy"
   },
   "outputs": [
    {
     "name": "stdout",
     "output_type": "stream",
     "text": [
      "max diff: tensor(4.7684e-07, grad_fn=<MaxBackward1>)\n"
     ]
    }
   ],
   "source": [
    "# Exercise 3: backprop through batchnorm but all in one go\n",
    "# to complete this challenge look at the mathematical expression of the output of batchnorm,\n",
    "# take the derivative w.r.t. its input, simplify the expression, and just write it out\n",
    "# BatchNorm paper: https://arxiv.org/abs/1502.03167\n",
    "\n",
    "# forward pass\n",
    "\n",
    "# before:\n",
    "# bnmeani = 1/n*hprebn.sum(0, keepdim=True)\n",
    "# bndiff = hprebn - bnmeani\n",
    "# bndiff2 = bndiff**2\n",
    "# bnvar = 1/(n-1)*(bndiff2).sum(0, keepdim=True) # note: Bessel's correction (dividing by n-1, not n)\n",
    "# bnvar_inv = (bnvar + 1e-5)**-0.5\n",
    "# bnraw = bndiff * bnvar_inv\n",
    "# hpreact = bngain * bnraw + bnbias\n",
    "\n",
    "# now:\n",
    "hpreact_fast = bngain * (hprebn - hprebn.mean(0, keepdim=True)) / torch.sqrt(hprebn.var(0, keepdim=True, unbiased=True) + 1e-5) + bnbias\n",
    "print('max diff:', (hpreact_fast - hpreact).abs().max())"
   ]
  },
  {
   "cell_type": "code",
   "execution_count": 361,
   "metadata": {
    "id": "POdeZSKT8PPy"
   },
   "outputs": [
    {
     "name": "stdout",
     "output_type": "stream",
     "text": [
      "hprebn          | exact: False | approximate: True  | maxdiff: 1.3969838619232178e-09\n"
     ]
    }
   ],
   "source": [
    "# backward pass\n",
    "\n",
    "# before we had:\n",
    "# dbnraw = bngain * dhpreact\n",
    "# dbndiff = bnvar_inv * dbnraw\n",
    "# dbnvar_inv = (bndiff * dbnraw).sum(0, keepdim=True)\n",
    "# dbnvar = (-0.5*(bnvar + 1e-5)**-1.5) * dbnvar_inv\n",
    "# dbndiff2 = (1.0/(n-1))*torch.ones_like(bndiff2) * dbnvar\n",
    "# dbndiff += (2*bndiff) * dbndiff2\n",
    "# dhprebn = dbndiff.clone()\n",
    "# dbnmeani = (-dbndiff).sum(0)\n",
    "# dhprebn += 1.0/n * (torch.ones_like(hprebn) * dbnmeani)\n",
    "\n",
    "# calculate dhprebn given dhpreact (i.e. backprop through the batchnorm)\n",
    "# (you'll also need to use some of the variables from the forward pass up above)\n",
    "\n",
    "# -----------------\n",
    "# YOUR CODE HERE :)\n",
    "dhprebn = bngain*bnvar_inv/n * (n*dhpreact - dhpreact.sum(0) - n/(n-1)*bnraw*(dhpreact*bnraw).sum(0))\n",
    "# -----------------\n",
    "\n",
    "cmp('hprebn', dhprebn, hprebn) # I can only get approximate to be true, my maxdiff is 9e-10"
   ]
  },
  {
   "cell_type": "code",
   "execution_count": 372,
   "metadata": {
    "id": "wPy8DhqB8PPz"
   },
   "outputs": [
    {
     "name": "stdout",
     "output_type": "stream",
     "text": [
      "12297\n",
      "      0/ 200000: 3.7900\n",
      "  10000/ 200000: 2.1867\n",
      "  20000/ 200000: 2.3885\n",
      "  30000/ 200000: 2.4745\n",
      "  40000/ 200000: 1.9757\n",
      "  50000/ 200000: 2.4217\n",
      "  60000/ 200000: 2.3510\n",
      "  70000/ 200000: 2.0539\n",
      "  80000/ 200000: 2.4223\n",
      "  90000/ 200000: 2.1433\n",
      " 100000/ 200000: 2.0089\n",
      " 110000/ 200000: 2.2877\n",
      " 120000/ 200000: 2.0273\n",
      " 130000/ 200000: 2.4873\n",
      " 140000/ 200000: 2.2530\n",
      " 150000/ 200000: 2.2041\n",
      " 160000/ 200000: 2.0072\n",
      " 170000/ 200000: 1.8101\n",
      " 180000/ 200000: 2.0145\n",
      " 190000/ 200000: 1.8702\n"
     ]
    }
   ],
   "source": [
    "# Exercise 4: putting it all together!\n",
    "# Train the MLP neural net with your own backward pass\n",
    "\n",
    "# init\n",
    "n_embd = 10 # the dimensionality of the character embedding vectors\n",
    "n_hidden = 200 # the number of neurons in the hidden layer of the MLP\n",
    "\n",
    "g = torch.Generator().manual_seed(2147483647) # for reproducibility\n",
    "C  = torch.randn((vocab_size, n_embd),            generator=g)\n",
    "# Layer 1\n",
    "W1 = torch.randn((n_embd * block_size, n_hidden), generator=g) * (5/3)/((n_embd * block_size)**0.5)\n",
    "b1 = torch.randn(n_hidden,                        generator=g) * 0.1\n",
    "# Layer 2\n",
    "W2 = torch.randn((n_hidden, vocab_size),          generator=g) * 0.1\n",
    "b2 = torch.randn(vocab_size,                      generator=g) * 0.1\n",
    "# BatchNorm parameters\n",
    "bngain = torch.randn((1, n_hidden))*0.1 + 1.0\n",
    "bnbias = torch.randn((1, n_hidden))*0.1\n",
    "\n",
    "parameters = [C, W1, b1, W2, b2, bngain, bnbias]\n",
    "print(sum(p.nelement() for p in parameters)) # number of parameters in total\n",
    "for p in parameters:\n",
    "  p.requires_grad = True\n",
    "\n",
    "# same optimization as last time\n",
    "max_steps = 200000\n",
    "batch_size = 32\n",
    "n = batch_size # convenience\n",
    "lossi = []\n",
    "\n",
    "# use this context manager for efficiency once your backward pass is written (TODO)\n",
    "with torch.no_grad():\n",
    "\n",
    "  # kick off optimization\n",
    "  for i in range(max_steps):\n",
    "\n",
    "    # minibatch construct\n",
    "    ix = torch.randint(0, Xtr.shape[0], (batch_size,), generator=g)\n",
    "    Xb, Yb = Xtr[ix], Ytr[ix] # batch X,Y\n",
    "\n",
    "    # forward pass\n",
    "    emb = C[Xb] # embed the characters into vectors\n",
    "    embcat = emb.view(emb.shape[0], -1) # concatenate the vectors\n",
    "    # Linear layer\n",
    "    hprebn = embcat @ W1 + b1 # hidden layer pre-activation\n",
    "    # BatchNorm layer\n",
    "    # -------------------------------------------------------------\n",
    "    bnmean = hprebn.mean(0, keepdim=True)\n",
    "    bnvar = hprebn.var(0, keepdim=True, unbiased=True)\n",
    "    bnvar_inv = (bnvar + 1e-5)**-0.5\n",
    "    bnraw = (hprebn - bnmean) * bnvar_inv\n",
    "    hpreact = bngain * bnraw + bnbias\n",
    "    # -------------------------------------------------------------\n",
    "    # Non-linearity\n",
    "    h = torch.tanh(hpreact) # hidden layer\n",
    "    logits = h @ W2 + b2 # output layer\n",
    "    loss = F.cross_entropy(logits, Yb) # loss function\n",
    "\n",
    "    # backward pass\n",
    "    for p in parameters:\n",
    "      p.grad = None\n",
    "  #   loss.backward() # use this for correctness comparisons, delete it later!\n",
    "\n",
    "    # manual backprop! #swole_doge_meme\n",
    "    # -----------------\n",
    "    # YOUR CODE HERE :)\n",
    "    dlogits = (F.softmax(logits,dim=1) - F.one_hot(Yb, vocab_size)) * 1/n\n",
    "    dh = dlogits @ W2.T\n",
    "    dW2 = h.T @ dlogits\n",
    "    db2 = dlogits.sum(dim=0)\n",
    "    dhpreact = dh * (1-h*h)\n",
    "    dbngain =  (dhpreact * bnraw).sum(dim=0, keepdims=True)\n",
    "    dbnbias = dhpreact.sum(dim=0)\n",
    "    dhprebn = bngain*bnvar_inv/n * (n*dhpreact - dhpreact.sum(0) - n/(n-1)*bnraw*(dhpreact*bnraw).sum(0))\n",
    "    dembcat = dhprebn @ W1.T\n",
    "    dW1 = embcat.T @ dhprebn\n",
    "    db1 = dhprebn.sum(axis=0)\n",
    "    demb = dembcat.view(emb.shape)\n",
    "    dC = torch.zeros_like(C)\n",
    "    for cix, grad in zip(Xb.view(-1), demb.view(-1,demb.shape[-1])):\n",
    "      dC[cix] += grad\n",
    "    grads = [dC, dW1, db1, dW2, db2, dbngain, dbnbias]\n",
    "    # -----------------\n",
    "\n",
    "    # update\n",
    "    lr = 0.1 if i < 100000 else 0.01 # step learning rate decay\n",
    "    for p, grad in zip(parameters, grads):\n",
    "  #     p.data += -lr * p.grad # old way of cheems doge (using PyTorch grad from .backward())\n",
    "      p.data += -lr * grad # new way of swole doge TODO: enable\n",
    "\n",
    "    # track stats\n",
    "    if i % 10000 == 0: # print every once in a while\n",
    "      print(f'{i:7d}/{max_steps:7d}: {loss.item():.4f}')\n",
    "    lossi.append(loss.log10().item())"
   ]
  },
  {
   "cell_type": "code",
   "execution_count": 373,
   "metadata": {
    "id": "ZEpI0hMW8PPz"
   },
   "outputs": [
    {
     "ename": "TypeError",
     "evalue": "all(): argument 'input' (position 1) must be Tensor, not bool",
     "output_type": "error",
     "traceback": [
      "\u001b[0;31m---------------------------------------------------------------------------\u001b[0m",
      "\u001b[0;31mTypeError\u001b[0m                                 Traceback (most recent call last)",
      "Input \u001b[0;32mIn [373]\u001b[0m, in \u001b[0;36m<cell line: 2>\u001b[0;34m()\u001b[0m\n\u001b[1;32m      1\u001b[0m \u001b[38;5;66;03m# useful for checking your gradients\u001b[39;00m\n\u001b[1;32m      2\u001b[0m \u001b[38;5;28;01mfor\u001b[39;00m p,g \u001b[38;5;129;01min\u001b[39;00m \u001b[38;5;28mzip\u001b[39m(parameters, grads):\n\u001b[0;32m----> 3\u001b[0m   \u001b[43mcmp\u001b[49m\u001b[43m(\u001b[49m\u001b[38;5;28;43mstr\u001b[39;49m\u001b[43m(\u001b[49m\u001b[38;5;28;43mtuple\u001b[39;49m\u001b[43m(\u001b[49m\u001b[43mp\u001b[49m\u001b[38;5;241;43m.\u001b[39;49m\u001b[43mshape\u001b[49m\u001b[43m)\u001b[49m\u001b[43m)\u001b[49m\u001b[43m,\u001b[49m\u001b[43m \u001b[49m\u001b[43mg\u001b[49m\u001b[43m,\u001b[49m\u001b[43m \u001b[49m\u001b[43mp\u001b[49m\u001b[43m)\u001b[49m\n",
      "Input \u001b[0;32mIn [8]\u001b[0m, in \u001b[0;36mcmp\u001b[0;34m(s, dt, t)\u001b[0m\n\u001b[1;32m      2\u001b[0m \u001b[38;5;28;01mdef\u001b[39;00m \u001b[38;5;21mcmp\u001b[39m(s, dt, t):\n\u001b[0;32m----> 3\u001b[0m   ex \u001b[38;5;241m=\u001b[39m \u001b[43mtorch\u001b[49m\u001b[38;5;241;43m.\u001b[39;49m\u001b[43mall\u001b[49m\u001b[43m(\u001b[49m\u001b[43mdt\u001b[49m\u001b[43m \u001b[49m\u001b[38;5;241;43m==\u001b[39;49m\u001b[43m \u001b[49m\u001b[43mt\u001b[49m\u001b[38;5;241;43m.\u001b[39;49m\u001b[43mgrad\u001b[49m\u001b[43m)\u001b[49m\u001b[38;5;241m.\u001b[39mitem()\n\u001b[1;32m      4\u001b[0m   app \u001b[38;5;241m=\u001b[39m torch\u001b[38;5;241m.\u001b[39mallclose(dt, t\u001b[38;5;241m.\u001b[39mgrad)\n\u001b[1;32m      5\u001b[0m   maxdiff \u001b[38;5;241m=\u001b[39m (dt \u001b[38;5;241m-\u001b[39m t\u001b[38;5;241m.\u001b[39mgrad)\u001b[38;5;241m.\u001b[39mabs()\u001b[38;5;241m.\u001b[39mmax()\u001b[38;5;241m.\u001b[39mitem()\n",
      "\u001b[0;31mTypeError\u001b[0m: all(): argument 'input' (position 1) must be Tensor, not bool"
     ]
    }
   ],
   "source": [
    "# useful for checking your gradients\n",
    "for p,g in zip(parameters, grads):\n",
    "  cmp(str(tuple(p.shape)), g, p)"
   ]
  },
  {
   "cell_type": "code",
   "execution_count": 374,
   "metadata": {
    "id": "KImLWNoh8PP0"
   },
   "outputs": [],
   "source": [
    "# calibrate the batch norm at the end of training\n",
    "\n",
    "with torch.no_grad():\n",
    "  # pass the training set through\n",
    "  emb = C[Xtr]\n",
    "  embcat = emb.view(emb.shape[0], -1)\n",
    "  hpreact = embcat @ W1 + b1\n",
    "  # measure the mean/std over the entire training set\n",
    "  bnmean = hpreact.mean(0, keepdim=True)\n",
    "  bnvar = hpreact.var(0, keepdim=True, unbiased=True)\n"
   ]
  },
  {
   "cell_type": "code",
   "execution_count": 375,
   "metadata": {
    "id": "6aFnP_Zc8PP0"
   },
   "outputs": [
    {
     "name": "stdout",
     "output_type": "stream",
     "text": [
      "train 2.069404125213623\n",
      "val 2.1058788299560547\n"
     ]
    }
   ],
   "source": [
    "# evaluate train and val loss\n",
    "\n",
    "@torch.no_grad() # this decorator disables gradient tracking\n",
    "def split_loss(split):\n",
    "  x,y = {\n",
    "    'train': (Xtr, Ytr),\n",
    "    'val': (Xdev, Ydev),\n",
    "    'test': (Xte, Yte),\n",
    "  }[split]\n",
    "  emb = C[x] # (N, block_size, n_embd)\n",
    "  embcat = emb.view(emb.shape[0], -1) # concat into (N, block_size * n_embd)\n",
    "  hpreact = embcat @ W1 + b1\n",
    "  hpreact = bngain * (hpreact - bnmean) * (bnvar + 1e-5)**-0.5 + bnbias\n",
    "  h = torch.tanh(hpreact) # (N, n_hidden)\n",
    "  logits = h @ W2 + b2 # (N, vocab_size)\n",
    "  loss = F.cross_entropy(logits, y)\n",
    "  print(split, loss.item())\n",
    "\n",
    "split_loss('train')\n",
    "split_loss('val')"
   ]
  },
  {
   "cell_type": "code",
   "execution_count": 376,
   "metadata": {
    "id": "esWqmhyj8PP1"
   },
   "outputs": [],
   "source": [
    "# I achieved:\n",
    "# train 2.0718822479248047\n",
    "# val 2.1162495613098145"
   ]
  },
  {
   "cell_type": "code",
   "execution_count": 377,
   "metadata": {
    "id": "xHeQNv3s8PP1"
   },
   "outputs": [
    {
     "name": "stdout",
     "output_type": "stream",
     "text": [
      "carmahza.\n",
      "jahmerik.\n",
      "mrix.\n",
      "taty.\n",
      "sacarlie.\n",
      "mahnen.\n",
      "delynn.\n",
      "jareei.\n",
      "nellara.\n",
      "chaiivon.\n",
      "leigh.\n",
      "ham.\n",
      "joce.\n",
      "quinn.\n",
      "shois.\n",
      "alianni.\n",
      "watell.\n",
      "dearyn.\n",
      "kai.\n",
      "eveigh.\n"
     ]
    }
   ],
   "source": [
    "# sample from the model\n",
    "g = torch.Generator().manual_seed(2147483647 + 10)\n",
    "\n",
    "for _ in range(20):\n",
    "    \n",
    "    out = []\n",
    "    context = [0] * block_size # initialize with all ...\n",
    "    while True:\n",
    "      # forward pass\n",
    "      emb = C[torch.tensor([context])] # (1,block_size,d)      \n",
    "      embcat = emb.view(emb.shape[0], -1) # concat into (N, block_size * n_embd)\n",
    "      hpreact = embcat @ W1 + b1\n",
    "      hpreact = bngain * (hpreact - bnmean) * (bnvar + 1e-5)**-0.5 + bnbias\n",
    "      h = torch.tanh(hpreact) # (N, n_hidden)\n",
    "      logits = h @ W2 + b2 # (N, vocab_size)\n",
    "      # sample\n",
    "      probs = F.softmax(logits, dim=1)\n",
    "      ix = torch.multinomial(probs, num_samples=1, generator=g).item()\n",
    "      context = context[1:] + [ix]\n",
    "      out.append(ix)\n",
    "      if ix == 0:\n",
    "        break\n",
    "    \n",
    "    print(''.join(itos[i] for i in out))"
   ]
  },
  {
   "cell_type": "code",
   "execution_count": null,
   "metadata": {},
   "outputs": [],
   "source": []
  }
 ],
 "metadata": {
  "colab": {
   "provenance": []
  },
  "kernelspec": {
   "display_name": "Python 3 (ipykernel)",
   "language": "python",
   "name": "python3"
  },
  "language_info": {
   "codemirror_mode": {
    "name": "ipython",
    "version": 3
   },
   "file_extension": ".py",
   "mimetype": "text/x-python",
   "name": "python",
   "nbconvert_exporter": "python",
   "pygments_lexer": "ipython3",
   "version": "3.10.8"
  }
 },
 "nbformat": 4,
 "nbformat_minor": 1
}
