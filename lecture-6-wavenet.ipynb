{
 "cells": [
  {
   "cell_type": "markdown",
   "id": "693de1e8",
   "metadata": {},
   "source": [
    "## Andrej's makemore lecture - 3\n",
    "\n",
    "Implementation following Andrej Karpathy's lecture [Building makemore Part 3: Activations & Gradients, BatchNorm](https://youtu.be/P6sfmUTpUmc).\n",
    "\n",
    "I have some liberty to refactor and pythonise his implementation."
   ]
  },
  {
   "cell_type": "code",
   "execution_count": 2,
   "id": "1cdd0780",
   "metadata": {},
   "outputs": [
    {
     "data": {
      "application/javascript": [
       "\n",
       "            (function() {\n",
       "                jb_set_cell(\"?generate_words\")\n",
       "            })();\n",
       "            "
      ],
      "text/plain": [
       "<IPython.core.display.Javascript object>"
      ]
     },
     "metadata": {},
     "output_type": "display_data"
    }
   ],
   "source": [
    "import black\n",
    "import jupyter_black\n",
    "\n",
    "jupyter_black.load(\n",
    "    lab=False,\n",
    "    line_length=79,\n",
    "    target_version=black.TargetVersion.PY310,\n",
    ")"
   ]
  },
  {
   "cell_type": "code",
   "execution_count": 24,
   "id": "244cf595",
   "metadata": {},
   "outputs": [],
   "source": [
    "import torch\n",
    "\n",
    "# import torch.overrides\n",
    "\n",
    "\n",
    "# _DEVICE_CONSTRUCTOR = {\n",
    "#     # standard ones\n",
    "#     torch.empty,\n",
    "#     torch.empty_strided,\n",
    "#     torch.empty_quantized,\n",
    "#     torch.ones,\n",
    "#     torch.arange,\n",
    "#     torch.bartlett_window,\n",
    "#     torch.blackman_window,\n",
    "#     torch.eye,\n",
    "#     torch.fft.fftfreq,\n",
    "#     torch.fft.rfftfreq,\n",
    "#     torch.full,\n",
    "#     torch.fill,\n",
    "#     torch.hamming_window,\n",
    "#     torch.hann_window,\n",
    "#     torch.kaiser_window,\n",
    "#     torch.linspace,\n",
    "#     torch.logspace,\n",
    "#     # torch.nested_tensor,\n",
    "#     # torch.normal,\n",
    "#     torch.ones,\n",
    "#     torch.rand,\n",
    "#     torch.randn,\n",
    "#     torch.randint,\n",
    "#     torch.randperm,\n",
    "#     torch.range,\n",
    "#     torch.sparse_coo_tensor,\n",
    "#     torch.sparse_compressed_tensor,\n",
    "#     torch.sparse_csr_tensor,\n",
    "#     torch.sparse_csc_tensor,\n",
    "#     torch.sparse_bsr_tensor,\n",
    "#     torch.sparse_bsc_tensor,\n",
    "#     torch.tril_indices,\n",
    "#     torch.triu_indices,\n",
    "#     torch.vander,\n",
    "#     torch.zeros,\n",
    "#     torch.asarray,\n",
    "#     # weird ones\n",
    "#     torch.tensor,\n",
    "#     torch.as_tensor,\n",
    "# }\n",
    "\n",
    "\n",
    "# class DeviceMode(torch.overrides.TorchFunctionMode):\n",
    "#     def __init__(self, device):\n",
    "#         super().__init__()\n",
    "#         self.device = torch.device(device)\n",
    "\n",
    "#     def __torch_function__(self, func, types, args=(), kwargs=None):\n",
    "#         if kwargs is None:\n",
    "#             kwargs = {}\n",
    "#         if func in _DEVICE_CONSTRUCTOR:\n",
    "#             if kwargs.get(\"device\") is None:\n",
    "#                 kwargs[\"device\"] = self.device\n",
    "#             return func(*args, **kwargs)\n",
    "#         return func(*args, **kwargs)\n",
    "\n",
    "\n",
    "# if torch.backends.mps.is_available():\n",
    "#     DEVICE_TYPE = \"cpu\"\n",
    "#     DeviceMode.push(torch.device(DEVICE_TYPE)).__enter__()\n",
    "# else:\n",
    "#     DEVICE_TYPE = \"cpu\"\n",
    "#     print(\"MPS device not found.\")"
   ]
  },
  {
   "cell_type": "code",
   "execution_count": 4,
   "id": "246c1917",
   "metadata": {},
   "outputs": [
    {
     "data": {
      "text/html": [
       "<style>.container { width:100% !important; }</style>"
      ],
      "text/plain": [
       "<IPython.core.display.HTML object>"
      ]
     },
     "metadata": {},
     "output_type": "display_data"
    }
   ],
   "source": [
    "from IPython.display import display, HTML, clear_output\n",
    "\n",
    "display(HTML(\"<style>.container { width:100% !important; }</style>\"))\n",
    "\n",
    "\n",
    "from dataclasses import dataclass, field\n",
    "import typing as t\n",
    "import itertools as it\n",
    "import collections as c\n",
    "import json\n",
    "from copy import deepcopy\n",
    "import math\n",
    "import time\n",
    "import functools as ft\n",
    "import numpy as np\n",
    "import random\n",
    "from tqdm.notebook import tqdm\n",
    "import heapq\n",
    "import matplotlib.pyplot as plt\n",
    "import seaborn as sns\n",
    "\n",
    "plt.rcParams[\"figure.figsize\"] = (12, 4)\n",
    "plt.rcParams[\"font.size\"] = 14\n",
    "\n",
    "import torch.nn.functional as F\n",
    "import torch as T\n",
    "import torch.utils.tensorboard as tb"
   ]
  },
  {
   "cell_type": "code",
   "execution_count": 5,
   "id": "cae62e50",
   "metadata": {},
   "outputs": [],
   "source": [
    "# Number of past tokens to use to predict next token\n",
    "CTX_WIN_SZ = 8"
   ]
  },
  {
   "cell_type": "markdown",
   "id": "d0a4107a",
   "metadata": {},
   "source": [
    "### Load data"
   ]
  },
  {
   "cell_type": "code",
   "execution_count": 6,
   "id": "918744d9",
   "metadata": {},
   "outputs": [
    {
     "data": {
      "text/plain": [
       "['emma', 'olivia', 'ava', 'isabella']"
      ]
     },
     "execution_count": 6,
     "metadata": {},
     "output_type": "execute_result"
    }
   ],
   "source": [
    "DOT = \".\"\n",
    "words = open(\"names.txt\").read().splitlines()\n",
    "words[:4]"
   ]
  },
  {
   "cell_type": "markdown",
   "id": "130b61aa",
   "metadata": {},
   "source": [
    "#### Build mapping of character to index"
   ]
  },
  {
   "cell_type": "code",
   "execution_count": 7,
   "id": "40d8add8",
   "metadata": {},
   "outputs": [],
   "source": [
    "def build_ixes(words):\n",
    "    chars = [DOT] + sorted(set(it.chain.from_iterable(words)))\n",
    "    ctoix = {c: i for i, c in enumerate(chars)}\n",
    "    ixtoc = dict(enumerate(chars))\n",
    "    return (ctoix, ixtoc)"
   ]
  },
  {
   "cell_type": "code",
   "execution_count": 8,
   "id": "7c18c2f8",
   "metadata": {},
   "outputs": [],
   "source": [
    "(ctoix, ixtoc) = build_ixes(words)"
   ]
  },
  {
   "cell_type": "markdown",
   "id": "03333c0e",
   "metadata": {},
   "source": [
    "#### Create training data with context window size"
   ]
  },
  {
   "cell_type": "code",
   "execution_count": 9,
   "id": "ca5067d1",
   "metadata": {},
   "outputs": [],
   "source": [
    "def build_train_data(words, ctoix, ctx_win=CTX_WIN_SZ):\n",
    "    Xs, Ys = [], []\n",
    "    pad = DOT * ctx_win\n",
    "    for wnum, w in enumerate(words):\n",
    "        pw = pad + w + DOT\n",
    "        if wnum < 2:\n",
    "            print(pw)\n",
    "        for i in range(len(w) + 1):\n",
    "            if wnum < 2:\n",
    "                print(pw[i : i + ctx_win], \"--->\", pw[i + ctx_win])\n",
    "            Xs.append([ctoix[c] for c in pw[i : i + ctx_win]])\n",
    "            Ys.append([ctoix[pw[i + ctx_win]]])\n",
    "    return T.tensor(Xs, dtype=int), T.tensor(Ys, dtype=int).flatten()"
   ]
  },
  {
   "cell_type": "code",
   "execution_count": 10,
   "id": "784d2742",
   "metadata": {},
   "outputs": [
    {
     "name": "stdout",
     "output_type": "stream",
     "text": [
      "........emma.\n",
      "........ ---> e\n",
      ".......e ---> m\n",
      "......em ---> m\n",
      ".....emm ---> a\n",
      "....emma ---> .\n",
      "........olivia.\n",
      "........ ---> o\n",
      ".......o ---> l\n",
      "......ol ---> i\n",
      ".....oli ---> v\n",
      "....oliv ---> i\n",
      "...olivi ---> a\n",
      "..olivia ---> .\n"
     ]
    },
    {
     "data": {
      "text/plain": [
       "(228146, 8)"
      ]
     },
     "execution_count": 10,
     "metadata": {},
     "output_type": "execute_result"
    }
   ],
   "source": [
    "Xs, Ys = build_train_data(words, ctoix, ctx_win=CTX_WIN_SZ)\n",
    "n, m = Xs.shape\n",
    "n, m"
   ]
  },
  {
   "cell_type": "code",
   "execution_count": 11,
   "id": "2bff6fc0",
   "metadata": {},
   "outputs": [
    {
     "data": {
      "text/plain": [
       "tensor([ 5, 13, 13,  1,  0, 15, 12,  9, 22,  9,  1,  0,  1, 22,  1,  0,  9, 19,\n",
       "         1,  2,  5, 12, 12,  1,  0, 19, 15, 16,  8,  9])"
      ]
     },
     "execution_count": 11,
     "metadata": {},
     "output_type": "execute_result"
    }
   ],
   "source": [
    "Ys[:30]"
   ]
  },
  {
   "cell_type": "markdown",
   "id": "5efb3e62",
   "metadata": {},
   "source": [
    "#### Train, validation, test split"
   ]
  },
  {
   "cell_type": "code",
   "execution_count": 12,
   "id": "88e03a4b",
   "metadata": {},
   "outputs": [
    {
     "data": {
      "text/plain": [
       "27"
      ]
     },
     "execution_count": 12,
     "metadata": {},
     "output_type": "execute_result"
    }
   ],
   "source": [
    "VOCAB_SIZE = len(ctoix)\n",
    "VOCAB_SIZE"
   ]
  },
  {
   "cell_type": "code",
   "execution_count": 13,
   "id": "f3b7b224",
   "metadata": {
    "scrolled": true
   },
   "outputs": [
    {
     "name": "stdout",
     "output_type": "stream",
     "text": [
      "ntrain=182516, nval=22814, ntest=22816\n"
     ]
    }
   ],
   "source": [
    "ntrain, nval = int(n * 0.8), int(n * 0.1)\n",
    "ntest = n - ntrain - nval\n",
    "print(f\"{ntrain=}, {nval=}, {ntest=}\")\n",
    "ixes = list(range(0, n))\n",
    "random.shuffle(ixes)\n",
    "valend = ntrain + nval\n",
    "ixtr, ixval, ixtest = ixes[:ntrain], ixes[ntrain:valend], ixes[valend:]"
   ]
  },
  {
   "cell_type": "code",
   "execution_count": 14,
   "id": "63041722",
   "metadata": {},
   "outputs": [],
   "source": [
    "(Xtr, Ytr), (Xval, Yval) = (Xs[ixtr], Ys[ixtr]), (Xs[ixval], Ys[ixval])\n",
    "(Xtest, Ytest) = (Xs[ixtest], Ys[ixtest])"
   ]
  },
  {
   "cell_type": "code",
   "execution_count": 15,
   "id": "6e639831",
   "metadata": {},
   "outputs": [
    {
     "data": {
      "text/plain": [
       "(tensor([[ 0,  0,  0,  ...,  0,  1, 21],\n",
       "         [ 0,  0,  0,  ...,  0,  0,  0],\n",
       "         [ 0,  0,  0,  ...,  0,  0,  0],\n",
       "         ...,\n",
       "         [ 0,  0,  0,  ...,  0,  0,  0],\n",
       "         [ 0,  0,  0,  ...,  4,  5, 12],\n",
       "         [ 0,  0,  0,  ...,  0,  0, 11]]),\n",
       " tensor([ 7, 10, 10,  ...,  8, 25, 15]))"
      ]
     },
     "execution_count": 15,
     "metadata": {},
     "output_type": "execute_result"
    }
   ],
   "source": [
    "Xtest, Ytest"
   ]
  },
  {
   "cell_type": "code",
   "execution_count": 16,
   "id": "fc404c8e",
   "metadata": {},
   "outputs": [
    {
     "name": "stdout",
     "output_type": "stream",
     "text": [
      "torch.Size([182516, 8]) torch.Size([22814, 8]) torch.Size([22816, 8])\n"
     ]
    }
   ],
   "source": [
    "print(Xtr.shape, Xval.shape, Xtest.shape)"
   ]
  },
  {
   "cell_type": "markdown",
   "id": "c044dfc3",
   "metadata": {},
   "source": [
    "### Model layer implementations\n",
    "\n",
    "Requires building following layers\n",
    "\n",
    "- Embedding\n",
    "- Linear layer\n",
    "- BatchNorm1D\n",
    "- Tanh"
   ]
  },
  {
   "cell_type": "code",
   "execution_count": 17,
   "id": "e43faff1",
   "metadata": {},
   "outputs": [],
   "source": [
    "########################################################################\n",
    "#  Embedding\n",
    "########################################################################\n",
    "@dataclass\n",
    "class Embedding:\n",
    "\n",
    "    num_embed: int\n",
    "    embed_dim: int\n",
    "    flatten: bool = True\n",
    "    E: T.Tensor = field(init=False, repr=False)\n",
    "    _params: list[T.Tensor] = field(init=False, repr=False)\n",
    "    #: last forward pass, mutated during forward pass\n",
    "    out: t.Optional[T.Tensor] = field(default=None, repr=False)\n",
    "\n",
    "    def __post_init__(self):\n",
    "        self.E = T.randn(self.num_embed, self.embed_dim)\n",
    "        self._params = [self.E]\n",
    "        self.parameters = lambda: self._params\n",
    "\n",
    "    def __call__(self, X, inference=False):\n",
    "        batch_sz, num_tkns = X.shape\n",
    "        if self.flatten:\n",
    "            self.out = self.E[X].view(batch_sz, -1)\n",
    "        else:\n",
    "            self.out = self.E[X]\n",
    "        return self.out\n",
    "\n",
    "\n",
    "########################################################################\n",
    "#  Flatten\n",
    "########################################################################\n",
    "@dataclass\n",
    "class FlattenConsecutive:\n",
    "\n",
    "    #: number of input ctx word embeds to concat\n",
    "    n: int\n",
    "    #: last forward pass, mutated during forward pass\n",
    "    out: t.Optional[T.Tensor] = field(default=None, repr=False)\n",
    "    parameters = lambda self: []\n",
    "\n",
    "    def __call__(self, X, inference=False):\n",
    "        B, T, C = X.shape\n",
    "        X_flat = X.view(B, T // self.n, C * self.n)\n",
    "        if X_flat.shape[1] != 1:\n",
    "            self.out = X_flat\n",
    "        else:\n",
    "            # we want to concatenate all characters\n",
    "            self.out = X_flat.squeeze(dim=1)\n",
    "        return self.out\n",
    "\n",
    "\n",
    "########################################################################\n",
    "#  Linear\n",
    "########################################################################\n",
    "@dataclass\n",
    "class Linear:\n",
    "\n",
    "    fanin: int\n",
    "    fanout: int\n",
    "    bias: bool = True\n",
    "    # gain used in kaiming he activation\n",
    "    wt_gain: float = 1.0\n",
    "    # if not set we use kaiming he activation\n",
    "    init_wt_scale: t.Optional[float] = None\n",
    "    b: t.Optional[T.Tensor] = field(init=False, repr=False)\n",
    "    W: T.Tensor = field(init=False, repr=False)\n",
    "    _params: list[T.Tensor] = field(init=False, repr=False)\n",
    "    #: last forward pass, mutated during forward pass\n",
    "    out: t.Optional[T.Tensor] = field(default=None, repr=False)\n",
    "\n",
    "    def __post_init__(self):\n",
    "        if self.init_wt_scale is None:\n",
    "            self.init_wt_scale = self.wt_gain / (self.fanin**0.5)\n",
    "        # sample from uniform random\n",
    "        self.W = T.empty(self.fanin, self.fanout).uniform_(\n",
    "            -self.init_wt_scale, self.init_wt_scale\n",
    "        )\n",
    "        if self.bias:\n",
    "            self.b = T.ones(1, self.fanout) * 0.01\n",
    "            self._params = [self.W, self.b]\n",
    "        else:\n",
    "            self.b = None\n",
    "            self._params = [self.W]\n",
    "        self.parameters = lambda: self._params\n",
    "\n",
    "    def __call__(self, X, inference=False):\n",
    "        if self.bias:\n",
    "            self.out = X @ self.W + self.b\n",
    "        else:\n",
    "            self.out = X @ self.W\n",
    "        return self.out\n",
    "\n",
    "\n",
    "########################################################################\n",
    "#  BatchNorm1D\n",
    "########################################################################\n",
    "@dataclass\n",
    "class BatchNorm1D:\n",
    "\n",
    "    size: int\n",
    "    ndim: int\n",
    "    momentum: float = 0.01\n",
    "    eps: float = 1e-5\n",
    "    #: scaling after standardising\n",
    "    gamma: T.Tensor = field(init=False, repr=False)\n",
    "    #: shift after standardising\n",
    "    beta: T.Tensor = field(init=False, repr=False)\n",
    "    _params: list[T.Tensor] = field(init=False, repr=False)\n",
    "    #: running averages of mean and variance\n",
    "    buffer_mean: T.Tensor = field(init=False, repr=False)\n",
    "    buffer_var: T.Tensor = field(init=False, repr=False)\n",
    "    #: last forward pass, mutated during forward pass\n",
    "    out: t.Optional[T.Tensor] = field(default=None, repr=False)\n",
    "\n",
    "    def __post_init__(self):\n",
    "        _pdims = [1] * (self.ndim - 1) + [self.size]\n",
    "        self.gamma = T.ones(*_pdims)\n",
    "        self.beta = T.zeros(*_pdims)\n",
    "        self._params = [self.gamma, self.beta]\n",
    "        self.parameters = lambda: self._params\n",
    "        self.buffer_mean = T.zeros(*_pdims, requires_grad=False)\n",
    "        self.buffer_var = T.ones(*_pdims, requires_grad=False)\n",
    "\n",
    "    def __call__(self, X, inference=False):\n",
    "        fwd_fn = self._fwd_inference if inference else self._fwd_train\n",
    "        return fwd_fn(X)\n",
    "\n",
    "    def _fwd_train(self, X):\n",
    "        if self.ndim == 2:\n",
    "            agg_dims = 0\n",
    "        elif self.ndim == 3:\n",
    "            agg_dims = (0, 1)\n",
    "        else:\n",
    "            raise NotImplementedError(f\"BNorm for {self.ndim=}\")\n",
    "        mu = X.mean(dim=agg_dims, keepdims=True)\n",
    "        var = X.var(dim=agg_dims, keepdims=True) + self.eps\n",
    "        with T.no_grad():\n",
    "            mom_old, mom_new = 1 - self.momentum, self.momentum\n",
    "            self.buffer_mean = mom_old * self.buffer_mean + mom_new * mu\n",
    "            self.buffer_var = mom_old * self.buffer_var + mom_new * var\n",
    "        self.out = BatchNorm1D._fwd(\n",
    "            X=X, mu=mu, var=var, gamma=self.gamma, beta=self.beta\n",
    "        )\n",
    "        return self.out\n",
    "\n",
    "    def _fwd_inference(self, X):\n",
    "        with T.no_grad():\n",
    "            self.out = BatchNorm1D._fwd(\n",
    "                X=X,\n",
    "                mu=self.buffer_mean,\n",
    "                var=self.buffer_var,\n",
    "                gamma=self.gamma,\n",
    "                beta=self.beta,\n",
    "            )\n",
    "            return self.out\n",
    "\n",
    "    @staticmethod\n",
    "    def _fwd(X, mu, var, gamma, beta):\n",
    "        X_std = (X - mu) / T.sqrt(var)\n",
    "        return (X_std * gamma) + beta\n",
    "\n",
    "\n",
    "########################################################################\n",
    "#  Tanh\n",
    "########################################################################\n",
    "@dataclass\n",
    "class Tanh:\n",
    "\n",
    "    #: last forward pass, mutated during forward pass\n",
    "    out: t.Optional[T.Tensor] = field(default=None, repr=False)\n",
    "\n",
    "    def parameters(self):\n",
    "        return []\n",
    "\n",
    "    def __call__(self, X, inference=False):\n",
    "        self.out = T.tanh(X)\n",
    "        return self.out\n",
    "\n",
    "\n",
    "########################################################################\n",
    "#  Sequential\n",
    "########################################################################\n",
    "@dataclass\n",
    "class Sequential:\n",
    "\n",
    "    layers: list\n",
    "    #: last forward pass, mutated during forward pass\n",
    "    out: t.Optional[T.Tensor] = field(default=None, repr=False)\n",
    "\n",
    "    def __post_init__(self):\n",
    "        self._params = [p for lyr in self.layers for p in lyr.parameters()]\n",
    "        self.parameters = lambda: self._params\n",
    "        for p in self._params:\n",
    "            p.requires_grad = True\n",
    "\n",
    "    def __call__(self, X, inference=False):\n",
    "        x = X\n",
    "        for layer in self.layers:\n",
    "            x = layer(x, inference=inference)\n",
    "        self.out = x\n",
    "        return self.out\n",
    "\n",
    "    def __repr__(self):\n",
    "        return (\n",
    "            f\"{self.__class__.__name__}(\\n\\t\"\n",
    "            + \"\\n\\t\".join(\n",
    "                f\"{str(lyr)}\\tout={None if lyr.out is None else tuple(lyr.out.shape)}\"\n",
    "                for lyr in self.layers\n",
    "            )\n",
    "            + \"\\n)\"\n",
    "        )\n",
    "\n",
    "    def __getitem__(self, layer_num):\n",
    "        return self.layers[layer_num]"
   ]
  },
  {
   "cell_type": "markdown",
   "id": "c1b154ed",
   "metadata": {},
   "source": [
    "### Training loop\n",
    "- Split data into batches\n",
    "- Fwd pass, zero grad, loss.backward, batch gradient update.\n",
    "- Keep track of learning losses for later plotting."
   ]
  },
  {
   "cell_type": "code",
   "execution_count": 30,
   "id": "c39a65b9",
   "metadata": {},
   "outputs": [],
   "source": [
    "def train_loop(\n",
    "    Xs,\n",
    "    Ys,\n",
    "    mdl,\n",
    "    lr,\n",
    "    num_iter,\n",
    "    batch_sz=128,\n",
    "    losses=None,\n",
    "    wt_update_ratios=None,\n",
    "    plot_losses=True,\n",
    "):\n",
    "    # train_ix to loss\n",
    "    wt_update_ratios = wt_update_ratios if wt_update_ratios is not None else {}\n",
    "    losses = losses if losses is not None else []\n",
    "    # Setup\n",
    "    nrows = Xs.shape[0]\n",
    "    itrs = tqdm(range(num_iter), leave=False)\n",
    "    total_iter = len(losses)\n",
    "    # Train loop\n",
    "    for i in itrs:\n",
    "        total_iter += 1\n",
    "        batch_ix = torch.randint(0, nrows, (batch_sz,))\n",
    "        p = mdl(X=Xs[batch_ix])\n",
    "        loss = F.cross_entropy(input=p, target=Ys[batch_ix])\n",
    "        losses.append(loss.item())\n",
    "        # The output of each layer is an intermediate computation\n",
    "        # the gradient is only needed for model params. We force\n",
    "        # pytorch to keep these grads.\n",
    "        retain_out_grad(mdl)\n",
    "        _zero_grad(mdl=mdl)\n",
    "        loss.backward()\n",
    "        _update_params(\n",
    "            mdl=mdl,\n",
    "            lr=_get_lr(lr=lr, it=total_iter),\n",
    "            wt_update_ratios=wt_update_ratios,\n",
    "        )\n",
    "        if i % 1000 == 0:\n",
    "            itrs.set_description(f\"Loss: {loss.item():.2f}\")\n",
    "    if plot_losses:\n",
    "        _plot_losses(losses[:])\n",
    "        split_loss(mdl=mdl, split=\"train\")\n",
    "        split_loss(mdl=mdl, split=\"val\")\n",
    "    return losses\n",
    "\n",
    "\n",
    "def retain_out_grad(mdl):\n",
    "    for layer in mdl.layers:\n",
    "        layer.out.retain_grad()\n",
    "\n",
    "\n",
    "def fwd_proba(Xs, mdl, inference):\n",
    "    return F.softmax(mdl(X=Xs, inference=inference), dim=1)\n",
    "\n",
    "\n",
    "def _get_lr(lr, it):\n",
    "    if isinstance(lr, (int, float, T.TensorType, T.Tensor)):\n",
    "        return lr\n",
    "    elif isinstance(lr, dict):\n",
    "        for (min_it, max_it), _lr in lr.items():\n",
    "            if min_it <= _lr < max_it:\n",
    "                return _lr\n",
    "        else:\n",
    "            raise ValueError(f\"Iteration {it} not in any range in {lr}\")\n",
    "    else:\n",
    "        raise NotImplementedError(\n",
    "            f\"Don't know how to handle learning {lr} of type {type(lr)}\"\n",
    "        )\n",
    "\n",
    "\n",
    "def _zero_grad(mdl):\n",
    "    for param in mdl.parameters():\n",
    "        param.grad = None\n",
    "\n",
    "\n",
    "def _update_params(mdl, lr, wt_update_ratios):\n",
    "    lyr_num = 0\n",
    "    for param in mdl.parameters():\n",
    "        param.data -= lr * param.grad\n",
    "        ########################################################################\n",
    "        #  Collect update/weight ratios log10((lr * param.grad).std() / W.std())\n",
    "        ########################################################################\n",
    "        if param.ndim != 2 or param.shape[0] == 1:\n",
    "            # only pick linear layer, don't choose gradients for batchnorm\n",
    "            continue\n",
    "        # weight updates only for W matrices\n",
    "        lyr_num += 1\n",
    "        wname = f\"W_{lyr_num}\"\n",
    "        ratios = wt_update_ratios.get(wname, [])\n",
    "        ratios.append(\n",
    "            ((lr * param.grad).std() / param.data.std()).log10().item()\n",
    "        )\n",
    "        wt_update_ratios[wname] = ratios\n",
    "\n",
    "\n",
    "def _loss(Xs, Ys, mdl):\n",
    "    logits = mdl(X=Xs, inference=True)\n",
    "    return F.cross_entropy(input=logits, target=Ys).item()\n",
    "\n",
    "\n",
    "def _plot_losses(losses: list[int], win_avg=100):\n",
    "    plt.figure(figsize=(10, 4))\n",
    "    losses = torch.tensor(losses)\n",
    "    # if not an exact multiple of window size truncate to the last exact multiple.\n",
    "    binned_n = len(losses) // win_avg\n",
    "    n = binned_n * win_avg\n",
    "    losses2d = losses[:n].view(-1, win_avg)\n",
    "    avg_losses = losses2d.mean(dim=1)\n",
    "    std_losses = losses2d.std(dim=1)\n",
    "    xs = torch.arange(binned_n, device=\"cpu\") * win_avg\n",
    "    plt.plot(xs, avg_losses)\n",
    "    plt.fill_between(\n",
    "        xs,\n",
    "        avg_losses - std_losses,\n",
    "        avg_losses + std_losses,\n",
    "        color=\"gray\",\n",
    "        alpha=0.2,\n",
    "    )\n",
    "    plt.title(\"Loss vs iteration\")\n",
    "    plt.xlabel(\"Iter\")\n",
    "    plt.ylabel(\"Cross entropy or NLL loss\")\n",
    "    plt.grid()\n",
    "\n",
    "\n",
    "@T.no_grad()\n",
    "def generate_words(mdl, nwords, ctoix, ctx_win=CTX_WIN_SZ, generator=None):\n",
    "    st_X = _ctx_to_X(ctx_chars=DOT * CTX_WIN_SZ, ctoix=ctoix).repeat(nwords, 1)\n",
    "    lst_X = st_X\n",
    "    words = [[] for _ in range(nwords)]\n",
    "    for i in range(30):\n",
    "        # print(f\"{lst_X=}\")\n",
    "        new_X = T.multinomial(\n",
    "            input=fwd_proba(Xs=lst_X, mdl=mdl, inference=True),\n",
    "            num_samples=1,\n",
    "            replacement=True,\n",
    "            generator=generator,\n",
    "        )\n",
    "        # print(f\"{new_X=}\")\n",
    "        char_added = False\n",
    "        for w, ix in zip(words, new_X):\n",
    "            if w and w[-1] == DOT:\n",
    "                continue\n",
    "            char_added |= True\n",
    "            w.append(ixtoc[ix.item()])\n",
    "        lst_X[:, :-1] = lst_X[:, 1:]\n",
    "        lst_X[:, -1] = new_X.squeeze()\n",
    "        # print(f\"{lst_X=}\\n\\n\")\n",
    "        if not char_added:\n",
    "            break\n",
    "    return [\"\".join(w[:-1]) for w in words]\n",
    "\n",
    "\n",
    "def num_params(mdl):\n",
    "    return sum(T.numel(param) for param in mdl.parameters())\n",
    "\n",
    "\n",
    "def _ctx_to_X(ctx_chars, ctoix):\n",
    "    return T.tensor([ctoix[c] for c in ctx_chars]).unsqueeze(dim=0)"
   ]
  },
  {
   "cell_type": "markdown",
   "id": "fb91021b",
   "metadata": {},
   "source": [
    "#### Train validation and test losses"
   ]
  },
  {
   "cell_type": "code",
   "execution_count": 19,
   "id": "e36e774d",
   "metadata": {},
   "outputs": [],
   "source": [
    "@T.no_grad()\n",
    "def _split_loss(Xtr, Ytr, Xval, Yval, Xtest, Ytest, mdl, split):\n",
    "    match split:\n",
    "        case \"train\":\n",
    "            spl, loss = \"Train\", _loss(Xtr, Ytr, mdl)\n",
    "        case \"val\":\n",
    "            spl, loss = \"Validation\", _loss(Xval, Yval, mdl)\n",
    "        case \"test\":\n",
    "            spl, loss = \"Test\", _loss(Xtest, Ytest, mdl)\n",
    "        case _:\n",
    "            raise NotImplementedError(\"Split should be train, val or test\")\n",
    "    print(f\"{spl} loss={loss:.4f}\")\n",
    "    return loss\n",
    "\n",
    "\n",
    "split_loss = ft.partial(\n",
    "    _split_loss,\n",
    "    Xtr=Xtr,\n",
    "    Ytr=Ytr,\n",
    "    Xval=Xval,\n",
    "    Yval=Yval,\n",
    "    Xtest=Xtest,\n",
    "    Ytest=Ytest,\n",
    ")"
   ]
  },
  {
   "cell_type": "markdown",
   "id": "797704e9",
   "metadata": {},
   "source": [
    "### Build model by stacking Layers"
   ]
  },
  {
   "cell_type": "code",
   "execution_count": 20,
   "id": "19c04dd3",
   "metadata": {},
   "outputs": [],
   "source": [
    "EMBED_DIM = 10\n",
    "HIDDEN_DIM = 68\n",
    "NUM_HIDDEN = 1"
   ]
  },
  {
   "cell_type": "code",
   "execution_count": 21,
   "id": "098fba0f",
   "metadata": {},
   "outputs": [],
   "source": [
    "def build_bengio_model(\n",
    "    vocab_size=VOCAB_SIZE,\n",
    "    ctx_win=CTX_WIN_SZ,\n",
    "    embed_dim=EMBED_DIM,\n",
    "    hidden_dim=HIDDEN_DIM,\n",
    "    num_hidden=NUM_HIDDEN,\n",
    "    lin_wt_gain=1.0,\n",
    "    init_wt_scale=None,\n",
    "    batchnorm=False,\n",
    "):\n",
    "    assert hidden_dim > 0, \"at least one hidden dim is needed\"\n",
    "    lkwrgs = dict(wt_gain=lin_wt_gain, init_wt_scale=init_wt_scale)\n",
    "    if batchnorm:\n",
    "        activation_fn = lambda: [BatchNorm1D(size=hidden_dim, ndim=2), Tanh()]\n",
    "    else:\n",
    "        activation_fn = lambda: [Tanh()]\n",
    "    layers = [\n",
    "        Embedding(num_embed=vocab_size, embed_dim=embed_dim, flatten=False),\n",
    "        FlattenConsecutive(n=ctx_win),\n",
    "        Linear(fanin=embed_dim * ctx_win, fanout=hidden_dim, **lkwrgs),\n",
    "    ] + activation_fn()\n",
    "    for _ in range(num_hidden - 1):\n",
    "        layers.extend([Linear(fanin=hidden_dim, fanout=hidden_dim, **lkwrgs)])\n",
    "        layers.extend(activation_fn())\n",
    "    if batchnorm:\n",
    "        layers.append(Linear(fanin=hidden_dim, fanout=vocab_size, wt_gain=1.0))\n",
    "        bn = BatchNorm1D(size=layers[-1].fanout, ndim=2)\n",
    "        # last layer we scale the gamma not the weights as they are standardised\n",
    "        bn.gamma *= 0.1\n",
    "        layers.append(bn)\n",
    "    else:\n",
    "        layers.append(Linear(fanin=hidden_dim, fanout=vocab_size, wt_gain=0.1))\n",
    "    mdl = Sequential(layers=layers)\n",
    "    print(f\"\\nNumber of sequential model params: {num_params(mdl):,}\")\n",
    "    return mdl\n",
    "\n",
    "\n",
    "def build_wavenet(\n",
    "    vocab_size=VOCAB_SIZE,\n",
    "    ctx_win=CTX_WIN_SZ,\n",
    "    embed_dim=EMBED_DIM,\n",
    "    hidden_dim=HIDDEN_DIM,\n",
    "    lin_wt_gain=1.0,\n",
    "    init_wt_scale=None,\n",
    "    batchnorm=False,\n",
    "):\n",
    "    \"\"\"\n",
    "    Assumes wavenet group size is 2, ctx window is 8\n",
    "    \"\"\"\n",
    "    lkwrgs = dict(wt_gain=lin_wt_gain, init_wt_scale=init_wt_scale, bias=False)\n",
    "    # assume group size for wavent is 2\n",
    "    grp_sz = 2\n",
    "    layers = [\n",
    "        Embedding(num_embed=vocab_size, embed_dim=embed_dim, flatten=False),\n",
    "        # stack 1\n",
    "        FlattenConsecutive(n=grp_sz),  # 8 -> 4\n",
    "        Linear(fanin=embed_dim * grp_sz, fanout=hidden_dim, **lkwrgs),\n",
    "        BatchNorm1D(size=hidden_dim, ndim=3),\n",
    "        Tanh(),\n",
    "        # stack 2\n",
    "        FlattenConsecutive(n=grp_sz),  # 4 -> 2\n",
    "        Linear(fanin=hidden_dim * grp_sz, fanout=hidden_dim, **lkwrgs),\n",
    "        BatchNorm1D(size=hidden_dim, ndim=3),\n",
    "        Tanh(),\n",
    "        # stack 3\n",
    "        FlattenConsecutive(n=grp_sz),  # 2 -> 1 (logits)\n",
    "        Linear(fanin=hidden_dim * grp_sz, fanout=hidden_dim, **lkwrgs),\n",
    "        BatchNorm1D(size=hidden_dim, ndim=2),\n",
    "        Tanh(),\n",
    "        # logit layer\n",
    "        Linear(fanin=hidden_dim, fanout=vocab_size, wt_gain=1.0),\n",
    "        BatchNorm1D(size=vocab_size, ndim=2),\n",
    "    ]\n",
    "    # last layer we scale the gamma not the weights as they are standardised\n",
    "    layers[-1].gamma *= 0.1\n",
    "    mdl = Sequential(layers=layers)\n",
    "    print(f\"\\nNumber of model params: {num_params(mdl):,}\")\n",
    "    return mdl"
   ]
  },
  {
   "cell_type": "markdown",
   "id": "03e0ee0f",
   "metadata": {},
   "source": [
    "### Test if it works and try to overfit"
   ]
  },
  {
   "cell_type": "markdown",
   "id": "8dced930",
   "metadata": {},
   "source": [
    "#### Wavenet"
   ]
  },
  {
   "cell_type": "code",
   "execution_count": 269,
   "id": "866746da",
   "metadata": {},
   "outputs": [
    {
     "name": "stdout",
     "output_type": "stream",
     "text": [
      "\n",
      "Number of model params: 22,451\n"
     ]
    },
    {
     "data": {
      "text/plain": [
       "Sequential(\n",
       "\tEmbedding(num_embed=27, embed_dim=10, flatten=False)\tout=None\n",
       "\tFlattenConsecutive(n=2)\tout=None\n",
       "\tLinear(fanin=20, fanout=68, bias=False, wt_gain=1.6666666666666667, init_wt_scale=0.37267799624996495)\tout=None\n",
       "\tBatchNorm1D(size=68, ndim=3, momentum=0.01, eps=1e-05)\tout=None\n",
       "\tTanh()\tout=None\n",
       "\tFlattenConsecutive(n=2)\tout=None\n",
       "\tLinear(fanin=136, fanout=68, bias=False, wt_gain=1.6666666666666667, init_wt_scale=0.14291548761875736)\tout=None\n",
       "\tBatchNorm1D(size=68, ndim=3, momentum=0.01, eps=1e-05)\tout=None\n",
       "\tTanh()\tout=None\n",
       "\tFlattenConsecutive(n=2)\tout=None\n",
       "\tLinear(fanin=136, fanout=68, bias=False, wt_gain=1.6666666666666667, init_wt_scale=0.14291548761875736)\tout=None\n",
       "\tBatchNorm1D(size=68, ndim=2, momentum=0.01, eps=1e-05)\tout=None\n",
       "\tTanh()\tout=None\n",
       "\tLinear(fanin=68, fanout=27, bias=True, wt_gain=1.0, init_wt_scale=0.12126781251816648)\tout=None\n",
       "\tBatchNorm1D(size=27, ndim=2, momentum=0.01, eps=1e-05)\tout=None\n",
       ")"
      ]
     },
     "execution_count": 269,
     "metadata": {},
     "output_type": "execute_result"
    }
   ],
   "source": [
    "wn_mdl = build_wavenet(lin_wt_gain=5 / 3, batchnorm=True)\n",
    "Xtr_sml, Ytr_sml = Xtr[:50], Ytr[:50]\n",
    "losses = []\n",
    "wn_mdl"
   ]
  },
  {
   "cell_type": "code",
   "execution_count": 267,
   "id": "efc22aba",
   "metadata": {
    "scrolled": false
   },
   "outputs": [
    {
     "name": "stdout",
     "output_type": "stream",
     "text": [
      "We expect this to be large as we overfitted on a small batch.\n"
     ]
    },
    {
     "data": {
      "application/vnd.jupyter.widget-view+json": {
       "model_id": "",
       "version_major": 2,
       "version_minor": 0
      },
      "text/plain": [
       "  0%|          | 0/2000 [00:00<?, ?it/s]"
      ]
     },
     "metadata": {},
     "output_type": "display_data"
    },
    {
     "name": "stdout",
     "output_type": "stream",
     "text": [
      "Train loss=5.3849\n",
      "Validation loss=5.4268\n"
     ]
    },
    {
     "data": {
      "image/png": "[encoded data removed]",
      "text/plain": [
       "<Figure size 720x288 with 1 Axes>"
      ]
     },
     "metadata": {
      "needs_background": "light"
     },
     "output_type": "display_data"
    }
   ],
   "source": [
    "print(\"We expect this to be large as we overfitted on a small batch.\")\n",
    "train_loop(\n",
    "    Xs=Xtr_sml,\n",
    "    Ys=Ytr_sml,\n",
    "    mdl=wn_mdl,\n",
    "    lr=0.1,\n",
    "    num_iter=2000,\n",
    "    losses=losses,\n",
    "    batch_sz=10,\n",
    "    plot_losses=True,\n",
    ");"
   ]
  },
  {
   "cell_type": "markdown",
   "id": "617a2982",
   "metadata": {},
   "source": [
    "#### Sequential"
   ]
  },
  {
   "cell_type": "code",
   "execution_count": 270,
   "id": "34d5c073",
   "metadata": {},
   "outputs": [
    {
     "name": "stdout",
     "output_type": "stream",
     "text": [
      "\n",
      "Number of sequential model params: 12,659\n"
     ]
    },
    {
     "data": {
      "text/plain": [
       "Sequential(\n",
       "\tEmbedding(num_embed=27, embed_dim=10, flatten=False)\tout=None\n",
       "\tFlattenConsecutive(n=8)\tout=None\n",
       "\tLinear(fanin=80, fanout=68, bias=True, wt_gain=1.6666666666666667, init_wt_scale=0.18633899812498247)\tout=None\n",
       "\tBatchNorm1D(size=68, ndim=2, momentum=0.01, eps=1e-05)\tout=None\n",
       "\tTanh()\tout=None\n",
       "\tLinear(fanin=68, fanout=68, bias=True, wt_gain=1.6666666666666667, init_wt_scale=0.20211302086361083)\tout=None\n",
       "\tBatchNorm1D(size=68, ndim=2, momentum=0.01, eps=1e-05)\tout=None\n",
       "\tTanh()\tout=None\n",
       "\tLinear(fanin=68, fanout=27, bias=True, wt_gain=1.0, init_wt_scale=0.12126781251816648)\tout=None\n",
       "\tBatchNorm1D(size=27, ndim=2, momentum=0.01, eps=1e-05)\tout=None\n",
       ")"
      ]
     },
     "execution_count": 270,
     "metadata": {},
     "output_type": "execute_result"
    }
   ],
   "source": [
    "seq_mdl = build_bengio_model(num_hidden=2, lin_wt_gain=5 / 3, batchnorm=True)\n",
    "Xtr_sml, Ytr_sml = Xtr[:50], Ytr[:50]\n",
    "losses = []\n",
    "seq_mdl"
   ]
  },
  {
   "cell_type": "code",
   "execution_count": 246,
   "id": "4cd6b15d",
   "metadata": {},
   "outputs": [
    {
     "data": {
      "application/vnd.jupyter.widget-view+json": {
       "model_id": "",
       "version_major": 2,
       "version_minor": 0
      },
      "text/plain": [
       "  0%|          | 0/2000 [00:00<?, ?it/s]"
      ]
     },
     "metadata": {},
     "output_type": "display_data"
    },
    {
     "name": "stdout",
     "output_type": "stream",
     "text": [
      "We expect this to be large as we overfitted on a small batch.\n",
      "Train loss=5.3849\n",
      "Validation loss=5.4268\n"
     ]
    },
    {
     "data": {
      "text/plain": [
       "Sequential(\n",
       "\tEmbedding(num_embed=27, embed_dim=10, flatten=False)\tout=(22814, 8, 10)\n",
       "\tFlattenConsecutive(n=8)\tout=(22814, 80)\n",
       "\tLinear(fanin=80, fanout=68, bias=True, wt_gain=1.6666666666666667, init_wt_scale=0.18633899812498247)\tout=(22814, 68)\n",
       "\tBatchNorm1D(size=68, ndim=2, momentum=0.01, eps=1e-05)\tout=(22814, 68)\n",
       "\tTanh()\tout=(22814, 68)\n",
       "\tLinear(fanin=68, fanout=68, bias=True, wt_gain=1.6666666666666667, init_wt_scale=0.20211302086361083)\tout=(22814, 68)\n",
       "\tBatchNorm1D(size=68, ndim=2, momentum=0.01, eps=1e-05)\tout=(22814, 68)\n",
       "\tTanh()\tout=(22814, 68)\n",
       "\tLinear(fanin=68, fanout=27, bias=True, wt_gain=1.0, init_wt_scale=0.12126781251816648)\tout=(22814, 27)\n",
       "\tBatchNorm1D(size=27, ndim=2, momentum=0.01, eps=1e-05)\tout=(22814, 27)\n",
       ")"
      ]
     },
     "execution_count": 246,
     "metadata": {},
     "output_type": "execute_result"
    },
    {
     "data": {
      "image/png": "[encoded data removed]",
      "text/plain": [
       "<Figure size 720x288 with 1 Axes>"
      ]
     },
     "metadata": {
      "needs_background": "light"
     },
     "output_type": "display_data"
    }
   ],
   "source": [
    "train_loop(\n",
    "    Xs=Xtr_sml,\n",
    "    Ys=Ytr_sml,\n",
    "    mdl=seq_mdl,\n",
    "    lr=0.1,\n",
    "    num_iter=2000,\n",
    "    losses=losses,\n",
    "    batch_sz=10,\n",
    ")\n",
    "_plot_losses(losses[:])\n",
    "print(\"We expect this to be large as we overfitted on a small batch.\")\n",
    "split_loss(mdl=seq_mdl, split=\"train\")\n",
    "split_loss(mdl=seq_mdl, split=\"val\");\n",
    "seq_mdl"
   ]
  },
  {
   "cell_type": "markdown",
   "id": "1ca19d5d",
   "metadata": {},
   "source": [
    "## Train on all data"
   ]
  },
  {
   "cell_type": "markdown",
   "id": "7918ff18",
   "metadata": {},
   "source": [
    "### Model performance log\n",
    "\n",
    "#### Model 8 concat\n",
    "Model: 23k model params; concat 8-50dim char vectors and send through softmax of 51 hidden dim, finally to logit layer.\n",
    "Settings: 200_000 iterations, batch_sz 32, lr: 0-150_000: 0.1, 150_000-$\\infty$: 0.01\n",
    "\n",
    "\n",
    "Train loss=2.0136\\\n",
    "Validation loss=2.0700\n",
    "\n",
    "#### Train Model wavenet\n",
    "**23k parameters**\n",
    "Settings: 200_000 iterations, batch_sz 32, lr: 0-150_000: 0.1, 150_000-$\\infty$: 0.01\n",
    "\n",
    "Train loss=1.9413\\\n",
    "Validation loss=2.0348\n",
    "\n",
    "**70k parameters**\n",
    "Settings: 200_000 iterations, batch_sz 32, lr: 0-150_000: 0.1, 150_000-$\\infty$: 0.01\n",
    "\n",
    "Train loss=1.8422\n",
    "Validation loss=2.0146\n",
    "\n",
    "Settings: 100_000 iterations, **batch_sz 256**, lr: 0-150_000: 0.1, 150_000-$\\infty$: 0.01\\\n",
    "Overfitted model\\\n",
    "Train loss=1.7747\\\n",
    "Validation loss=2.0348"
   ]
  },
  {
   "cell_type": "code",
   "execution_count": 26,
   "id": "ac600b18",
   "metadata": {},
   "outputs": [
    {
     "name": "stdout",
     "output_type": "stream",
     "text": [
      "\n",
      "Number of model params: 72,437\n"
     ]
    },
    {
     "data": {
      "text/plain": [
       "Sequential(\n",
       "\tEmbedding(num_embed=27, embed_dim=128, flatten=False)\tout=None\n",
       "\tFlattenConsecutive(n=2)\tout=None\n",
       "\tLinear(fanin=256, fanout=100, bias=False, wt_gain=1.6666666666666667, init_wt_scale=0.10416666666666667)\tout=None\n",
       "\tBatchNorm1D(size=100, ndim=3, momentum=0.01, eps=1e-05)\tout=None\n",
       "\tTanh()\tout=None\n",
       "\tFlattenConsecutive(n=2)\tout=None\n",
       "\tLinear(fanin=200, fanout=100, bias=False, wt_gain=1.6666666666666667, init_wt_scale=0.11785113019775792)\tout=None\n",
       "\tBatchNorm1D(size=100, ndim=3, momentum=0.01, eps=1e-05)\tout=None\n",
       "\tTanh()\tout=None\n",
       "\tFlattenConsecutive(n=2)\tout=None\n",
       "\tLinear(fanin=200, fanout=100, bias=False, wt_gain=1.6666666666666667, init_wt_scale=0.11785113019775792)\tout=None\n",
       "\tBatchNorm1D(size=100, ndim=2, momentum=0.01, eps=1e-05)\tout=None\n",
       "\tTanh()\tout=None\n",
       "\tLinear(fanin=100, fanout=27, bias=True, wt_gain=1.0, init_wt_scale=0.1)\tout=None\n",
       "\tBatchNorm1D(size=27, ndim=2, momentum=0.01, eps=1e-05)\tout=None\n",
       ")"
      ]
     },
     "execution_count": 26,
     "metadata": {},
     "output_type": "execute_result"
    }
   ],
   "source": [
    "wn_mdl = build_wavenet(\n",
    "    embed_dim=128, hidden_dim=100, lin_wt_gain=5 / 3, batchnorm=True\n",
    ")\n",
    "losses = []\n",
    "wn_mdl"
   ]
  },
  {
   "cell_type": "code",
   "execution_count": 27,
   "id": "4fc8c583",
   "metadata": {},
   "outputs": [
    {
     "data": {
      "application/vnd.jupyter.widget-view+json": {
       "model_id": "36ff126f86e74ea3aeca87c191812a90",
       "version_major": 2,
       "version_minor": 0
      },
      "text/plain": [
       "  0%|          | 0/200000 [00:00<?, ?it/s]"
      ]
     },
     "metadata": {},
     "output_type": "display_data"
    },
    {
     "ename": "KeyboardInterrupt",
     "evalue": "",
     "output_type": "error",
     "traceback": [
      "\u001b[0;31m---------------------------------------------------------------------------\u001b[0m",
      "\u001b[0;31mKeyboardInterrupt\u001b[0m                         Traceback (most recent call last)",
      "Input \u001b[0;32mIn [27]\u001b[0m, in \u001b[0;36m<cell line: 1>\u001b[0;34m()\u001b[0m\n\u001b[0;32m----> 1\u001b[0m \u001b[43mtrain_loop\u001b[49m\u001b[43m(\u001b[49m\n\u001b[1;32m      2\u001b[0m \u001b[43m    \u001b[49m\u001b[43mXs\u001b[49m\u001b[38;5;241;43m=\u001b[39;49m\u001b[43mXtr\u001b[49m\u001b[43m,\u001b[49m\n\u001b[1;32m      3\u001b[0m \u001b[43m    \u001b[49m\u001b[43mYs\u001b[49m\u001b[38;5;241;43m=\u001b[39;49m\u001b[43mYtr\u001b[49m\u001b[43m,\u001b[49m\n\u001b[1;32m      4\u001b[0m \u001b[43m    \u001b[49m\u001b[43mmdl\u001b[49m\u001b[38;5;241;43m=\u001b[39;49m\u001b[43mwn_mdl\u001b[49m\u001b[43m,\u001b[49m\n\u001b[1;32m      5\u001b[0m \u001b[43m    \u001b[49m\u001b[43mlr\u001b[49m\u001b[38;5;241;43m=\u001b[39;49m\u001b[43m{\u001b[49m\u001b[43m(\u001b[49m\u001b[38;5;241;43m0\u001b[39;49m\u001b[43m,\u001b[49m\u001b[43m \u001b[49m\u001b[38;5;241;43m150_000\u001b[39;49m\u001b[43m)\u001b[49m\u001b[43m:\u001b[49m\u001b[43m \u001b[49m\u001b[38;5;241;43m0.1\u001b[39;49m\u001b[43m,\u001b[49m\u001b[43m \u001b[49m\u001b[43m(\u001b[49m\u001b[38;5;241;43m150_000\u001b[39;49m\u001b[43m,\u001b[49m\u001b[43m \u001b[49m\u001b[43mnp\u001b[49m\u001b[38;5;241;43m.\u001b[39;49m\u001b[43minf\u001b[49m\u001b[43m)\u001b[49m\u001b[43m:\u001b[49m\u001b[43m \u001b[49m\u001b[38;5;241;43m0.01\u001b[39;49m\u001b[43m}\u001b[49m\u001b[43m,\u001b[49m\n\u001b[1;32m      6\u001b[0m \u001b[43m    \u001b[49m\u001b[43mnum_iter\u001b[49m\u001b[38;5;241;43m=\u001b[39;49m\u001b[38;5;241;43m200_000\u001b[39;49m\u001b[43m,\u001b[49m\n\u001b[1;32m      7\u001b[0m \u001b[43m    \u001b[49m\u001b[43mlosses\u001b[49m\u001b[38;5;241;43m=\u001b[39;49m\u001b[43mlosses\u001b[49m\u001b[43m,\u001b[49m\n\u001b[1;32m      8\u001b[0m \u001b[43m    \u001b[49m\u001b[43mbatch_sz\u001b[49m\u001b[38;5;241;43m=\u001b[39;49m\u001b[38;5;241;43m128\u001b[39;49m\u001b[43m,\u001b[49m\n\u001b[1;32m      9\u001b[0m \u001b[43m    \u001b[49m\u001b[43mplot_losses\u001b[49m\u001b[38;5;241;43m=\u001b[39;49m\u001b[38;5;28;43;01mTrue\u001b[39;49;00m\u001b[43m,\u001b[49m\n\u001b[1;32m     10\u001b[0m \u001b[43m)\u001b[49m\n",
      "Input \u001b[0;32mIn [18]\u001b[0m, in \u001b[0;36mtrain_loop\u001b[0;34m(Xs, Ys, mdl, lr, num_iter, batch_sz, losses, wt_update_ratios, plot_losses)\u001b[0m\n\u001b[1;32m     30\u001b[0m _zero_grad(mdl\u001b[38;5;241m=\u001b[39mmdl)\n\u001b[1;32m     31\u001b[0m loss\u001b[38;5;241m.\u001b[39mbackward()\n\u001b[0;32m---> 32\u001b[0m \u001b[43m_update_params\u001b[49m\u001b[43m(\u001b[49m\n\u001b[1;32m     33\u001b[0m \u001b[43m    \u001b[49m\u001b[43mmdl\u001b[49m\u001b[38;5;241;43m=\u001b[39;49m\u001b[43mmdl\u001b[49m\u001b[43m,\u001b[49m\n\u001b[1;32m     34\u001b[0m \u001b[43m    \u001b[49m\u001b[43mlr\u001b[49m\u001b[38;5;241;43m=\u001b[39;49m\u001b[43m_get_lr\u001b[49m\u001b[43m(\u001b[49m\u001b[43mlr\u001b[49m\u001b[38;5;241;43m=\u001b[39;49m\u001b[43mlr\u001b[49m\u001b[43m,\u001b[49m\u001b[43m \u001b[49m\u001b[43mit\u001b[49m\u001b[38;5;241;43m=\u001b[39;49m\u001b[43mtotal_iter\u001b[49m\u001b[43m)\u001b[49m\u001b[43m,\u001b[49m\n\u001b[1;32m     35\u001b[0m \u001b[43m    \u001b[49m\u001b[43mwt_update_ratios\u001b[49m\u001b[38;5;241;43m=\u001b[39;49m\u001b[43mwt_update_ratios\u001b[49m\u001b[43m,\u001b[49m\n\u001b[1;32m     36\u001b[0m \u001b[43m\u001b[49m\u001b[43m)\u001b[49m\n\u001b[1;32m     37\u001b[0m \u001b[38;5;28;01mif\u001b[39;00m i \u001b[38;5;241m%\u001b[39m \u001b[38;5;241m1000\u001b[39m \u001b[38;5;241m==\u001b[39m \u001b[38;5;241m0\u001b[39m:\n\u001b[1;32m     38\u001b[0m     itrs\u001b[38;5;241m.\u001b[39mset_description(\u001b[38;5;124mf\u001b[39m\u001b[38;5;124m\"\u001b[39m\u001b[38;5;124mLoss: \u001b[39m\u001b[38;5;132;01m{\u001b[39;00mloss\u001b[38;5;241m.\u001b[39mitem()\u001b[38;5;132;01m:\u001b[39;00m\u001b[38;5;124m.2f\u001b[39m\u001b[38;5;132;01m}\u001b[39;00m\u001b[38;5;124m\"\u001b[39m)\n",
      "Input \u001b[0;32mIn [18]\u001b[0m, in \u001b[0;36m_update_params\u001b[0;34m(mdl, lr, wt_update_ratios)\u001b[0m\n\u001b[1;32m     79\u001b[0m \u001b[38;5;66;03m########################################################################\u001b[39;00m\n\u001b[1;32m     80\u001b[0m \u001b[38;5;66;03m#  Collect update/weight ratios log10((lr * param.grad).std() / W.std())\u001b[39;00m\n\u001b[1;32m     81\u001b[0m \u001b[38;5;66;03m########################################################################\u001b[39;00m\n\u001b[1;32m     82\u001b[0m \u001b[38;5;28;01mif\u001b[39;00m param\u001b[38;5;241m.\u001b[39mndim \u001b[38;5;241m!=\u001b[39m \u001b[38;5;241m2\u001b[39m \u001b[38;5;129;01mor\u001b[39;00m param\u001b[38;5;241m.\u001b[39mshape[\u001b[38;5;241m0\u001b[39m] \u001b[38;5;241m==\u001b[39m \u001b[38;5;241m1\u001b[39m:\n\u001b[1;32m     83\u001b[0m     \u001b[38;5;66;03m# only pick linear layer, don't choose gradients for batchnorm\u001b[39;00m\n\u001b[0;32m---> 84\u001b[0m     \u001b[38;5;28;01mcontinue\u001b[39;00m\n\u001b[1;32m     85\u001b[0m \u001b[38;5;66;03m# weight updates only for W matrices\u001b[39;00m\n\u001b[1;32m     86\u001b[0m lyr_num \u001b[38;5;241m+\u001b[39m\u001b[38;5;241m=\u001b[39m \u001b[38;5;241m1\u001b[39m\n",
      "\u001b[0;31mKeyboardInterrupt\u001b[0m: "
     ]
    }
   ],
   "source": [
    "train_loop(\n",
    "    Xs=Xtr,\n",
    "    Ys=Ytr,\n",
    "    mdl=wn_mdl,\n",
    "    lr={(0, 150_000): 0.1, (150_000, np.inf): 0.01},\n",
    "    num_iter=200_000,\n",
    "    losses=losses,\n",
    "    batch_sz=128,\n",
    "    plot_losses=True,\n",
    ");"
   ]
  },
  {
   "cell_type": "code",
   "execution_count": 31,
   "id": "3b07057e",
   "metadata": {},
   "outputs": [
    {
     "name": "stdout",
     "output_type": "stream",
     "text": [
      "Train loss=1.7747\n",
      "Validation loss=2.0348\n"
     ]
    },
    {
     "data": {
      "text/plain": [
       "2.034827709197998"
      ]
     },
     "execution_count": 31,
     "metadata": {},
     "output_type": "execute_result"
    },
    {
     "data": {
      "image/png": "[encoded data removed]",
      "text/plain": [
       "<Figure size 720x288 with 1 Axes>"
      ]
     },
     "metadata": {
      "needs_background": "light"
     },
     "output_type": "display_data"
    }
   ],
   "source": [
    "_plot_losses(losses[:])\n",
    "split_loss(mdl=wn_mdl, split=\"train\")\n",
    "split_loss(mdl=wn_mdl, split=\"val\")"
   ]
  },
  {
   "cell_type": "markdown",
   "id": "077900ba",
   "metadata": {},
   "source": [
    "#### Train Sequential model"
   ]
  },
  {
   "cell_type": "code",
   "execution_count": 272,
   "id": "7060274f",
   "metadata": {
    "scrolled": true
   },
   "outputs": [
    {
     "name": "stdout",
     "output_type": "stream",
     "text": [
      "\n",
      "Number of sequential model params: 23,791\n"
     ]
    },
    {
     "data": {
      "text/plain": [
       "Sequential(\n",
       "\tEmbedding(num_embed=27, embed_dim=50, flatten=False)\tout=None\n",
       "\tFlattenConsecutive(n=8)\tout=None\n",
       "\tLinear(fanin=400, fanout=52, bias=True, wt_gain=1.6666666666666667, init_wt_scale=0.08333333333333334)\tout=None\n",
       "\tBatchNorm1D(size=52, ndim=2, momentum=0.01, eps=1e-05)\tout=None\n",
       "\tTanh()\tout=None\n",
       "\tLinear(fanin=52, fanout=27, bias=True, wt_gain=1.0, init_wt_scale=0.1386750490563073)\tout=None\n",
       "\tBatchNorm1D(size=27, ndim=2, momentum=0.01, eps=1e-05)\tout=None\n",
       ")"
      ]
     },
     "execution_count": 272,
     "metadata": {},
     "output_type": "execute_result"
    }
   ],
   "source": [
    "seq_mdl = build_bengio_model(\n",
    "    num_hidden=1,\n",
    "    lin_wt_gain=5 / 3,\n",
    "    hidden_dim=52,\n",
    "    embed_dim=50,\n",
    "    batchnorm=True,\n",
    ")\n",
    "losses = []\n",
    "seq_mdl"
   ]
  },
  {
   "cell_type": "code",
   "execution_count": 257,
   "id": "6eadb9c5",
   "metadata": {},
   "outputs": [
    {
     "data": {
      "application/vnd.jupyter.widget-view+json": {
       "model_id": "",
       "version_major": 2,
       "version_minor": 0
      },
      "text/plain": [
       "  0%|          | 0/200000 [00:00<?, ?it/s]"
      ]
     },
     "metadata": {},
     "output_type": "display_data"
    },
    {
     "name": "stdout",
     "output_type": "stream",
     "text": [
      "Train loss=2.0136\n",
      "Validation loss=2.0700\n"
     ]
    },
    {
     "data": {
      "image/png": "[encoded data removed]",
      "text/plain": [
       "<Figure size 720x288 with 1 Axes>"
      ]
     },
     "metadata": {
      "needs_background": "light"
     },
     "output_type": "display_data"
    }
   ],
   "source": [
    "train_loop(\n",
    "    Xs=Xtr,\n",
    "    Ys=Ytr,\n",
    "    mdl=seq_mdl,\n",
    "    lr={(0, 150_000): 0.1, (150_000, np.inf): 0.01},\n",
    "    num_iter=200_000,\n",
    "    losses=losses,\n",
    "    batch_sz=32,\n",
    "    plot_losses=True,\n",
    ")"
   ]
  },
  {
   "cell_type": "code",
   "execution_count": 34,
   "id": "2e32f38e",
   "metadata": {},
   "outputs": [
    {
     "data": {
      "text/plain": [
       "['corine',\n",
       " 'milayza',\n",
       " 'emmalyna',\n",
       " 'ilexa',\n",
       " 'montel',\n",
       " 'herne',\n",
       " 'isaac',\n",
       " 'hajisha',\n",
       " 'zeton',\n",
       " 'yefi']"
      ]
     },
     "execution_count": 34,
     "metadata": {},
     "output_type": "execute_result"
    }
   ],
   "source": [
    "gen_words = generate_words(mdl=wn_mdl, nwords=10, ctoix=ctoix)\n",
    "gen_words"
   ]
  },
  {
   "cell_type": "code",
   "execution_count": 35,
   "id": "d31a90bc",
   "metadata": {},
   "outputs": [
    {
     "data": {
      "text/plain": [
       "{'corine', 'isaac', 'montel'}"
      ]
     },
     "execution_count": 35,
     "metadata": {},
     "output_type": "execute_result"
    }
   ],
   "source": [
    "set(gen_words) & set(words)"
   ]
  },
  {
   "cell_type": "code",
   "execution_count": null,
   "id": "d806c5c4",
   "metadata": {},
   "outputs": [],
   "source": []
  }
 ],
 "metadata": {
  "kernelspec": {
   "display_name": "Python 3 (ipykernel)",
   "language": "python",
   "name": "python3"
  },
  "language_info": {
   "codemirror_mode": {
    "name": "ipython",
    "version": 3
   },
   "file_extension": ".py",
   "mimetype": "text/x-python",
   "name": "python",
   "nbconvert_exporter": "python",
   "pygments_lexer": "ipython3",
   "version": "3.10.8"
  }
 },
 "nbformat": 4,
 "nbformat_minor": 5
}
