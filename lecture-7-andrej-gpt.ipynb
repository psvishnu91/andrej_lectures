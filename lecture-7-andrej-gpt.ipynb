{
 "cells": [
  {
   "cell_type": "code",
   "execution_count": 487,
   "id": "101016a0",
   "metadata": {},
   "outputs": [],
   "source": [
    "from collections import defaultdict\n",
    "class Solution:\n",
    "    def atmostk(self,n,k,nums):\n",
    "        l=0\n",
    "        r=0\n",
    "        map=defaultdict(int)\n",
    "        ans=0\n",
    "        while r<n:\n",
    "            map[nums[r]]+=1\n",
    "            while len(map)>k:\n",
    "                map[nums[l]]-=1\n",
    "                if map[nums[l]]==0:\n",
    "                    del map[nums[l]]\n",
    "                l+=1\n",
    "            \n",
    "            ans+=r-l+1\n",
    "            r+=1\n",
    "        return ans\n",
    "    def subarraysWithKDistinct(self, nums: list[int], k: int) -> int:\n",
    "        return self.atmostk(len(nums),k,nums)-self.atmostk(len(nums),k-1,nums)"
   ]
  },
  {
   "cell_type": "code",
   "execution_count": 489,
   "id": "ccc38290",
   "metadata": {},
   "outputs": [
    {
     "data": {
      "text/plain": [
       "4"
      ]
     },
     "execution_count": 489,
     "metadata": {},
     "output_type": "execute_result"
    }
   ],
   "source": [
    "Solution().subarraysWithKDistinct(nums=[1,2,3,1,2], k=2)"
   ]
  },
  {
   "cell_type": "markdown",
   "id": "9d2dc325",
   "metadata": {},
   "source": [
    "## GPT (Generative Pre-trained Transformer)\n",
    "In this notebook, I will replicate the implementations by Andrej Karpathy's video \"Let's build GPT: from scratch, in code, spelled out\" ([youtube](https://youtu.be/kCc8FmEb1nY)).\n",
    "\n",
    "### Goal\n",
    "Through building a character level model to write shakespeare style works, learn transformers.\n",
    "\n",
    "\n",
    "### Approach\n",
    "\n",
    "- First we load up the data and build a mapping of character to index and index to character for encoding. There are other encodings such as bytepair encoding ex. google's SentencePiece and openAI's BPE libraries. These encode chunks of characters based on frequency of appearing together. Vocabulary size is much larger than number of characters (~50k) but then the context window length is smaller. This is a tradeoff.\n",
    "- Then we learn a bigram model on the character level. `P(c_next=cn|c=ci)` this is a multinomial over characters (vocab_sz x vocab_sz) matrix.\n",
    "- Then we discuss how attention is implemented with vectorisation."
   ]
  },
  {
   "cell_type": "code",
   "execution_count": 469,
   "id": "089fde04",
   "metadata": {},
   "outputs": [],
   "source": [
    "import black\n",
    "import jupyter_black\n",
    "\n",
    "jupyter_black.load(\n",
    "    lab=False,\n",
    "    line_length=79,\n",
    "    target_version=black.TargetVersion.PY310,\n",
    ")"
   ]
  },
  {
   "cell_type": "code",
   "execution_count": 470,
   "id": "ea72594e",
   "metadata": {},
   "outputs": [
    {
     "data": {
      "text/html": [
       "<style>.container { width:100% !important; }</style>"
      ],
      "text/plain": [
       "<IPython.core.display.HTML object>"
      ]
     },
     "metadata": {},
     "output_type": "display_data"
    }
   ],
   "source": [
    "from IPython.display import display, HTML, clear_output\n",
    "\n",
    "display(HTML(\"<style>.container { width:100% !important; }</style>\"))\n",
    "\n",
    "\n",
    "from dataclasses import dataclass, field\n",
    "import typing as t\n",
    "import itertools as it\n",
    "import collections as c\n",
    "import gc\n",
    "import json\n",
    "from copy import deepcopy\n",
    "import math\n",
    "import time\n",
    "import functools as ft\n",
    "import numpy as np\n",
    "import random\n",
    "from tqdm.notebook import tqdm\n",
    "import heapq\n",
    "import torch\n",
    "import torch as T\n",
    "import torch.nn.functional as F\n",
    "import torch.nn as nn\n",
    "import matplotlib.pyplot as plt\n",
    "import seaborn as sns\n",
    "import torch.utils.tensorboard as tb\n",
    "\n",
    "plt.rcParams[\"figure.figsize\"] = (12, 4)\n",
    "plt.rcParams[\"font.size\"] = 14"
   ]
  },
  {
   "cell_type": "code",
   "execution_count": 471,
   "id": "28e78e2a",
   "metadata": {},
   "outputs": [
    {
     "name": "stdout",
     "output_type": "stream",
     "text": [
      "-rw-r--r--  1 vispers  staff   1.1M 19 Jan 11:10 input.txt\n"
     ]
    }
   ],
   "source": [
    "%%bash\n",
    "# wget https://raw.githubusercontent.com/karpathy/char-rnn/master/data/tinyshakespeare/input.txt\n",
    "ls -lh input.txt"
   ]
  },
  {
   "cell_type": "code",
   "execution_count": 4,
   "id": "4993b5b9",
   "metadata": {},
   "outputs": [],
   "source": [
    "INPUT_FL = \"input.txt\"\n",
    "BLOCK_SZ = 8"
   ]
  },
  {
   "cell_type": "markdown",
   "id": "fcad558e",
   "metadata": {},
   "source": [
    "## Load data and build mappings"
   ]
  },
  {
   "cell_type": "code",
   "execution_count": 5,
   "id": "6e048d72",
   "metadata": {},
   "outputs": [
    {
     "name": "stdout",
     "output_type": "stream",
     "text": [
      "['\\n', ' ', '!', '$', '&', \"'\", ',', '-', '.', '3', ':', ';', '?', 'A', 'B', 'C', 'D', 'E', 'F', 'G', 'H', 'I', 'J', 'K', 'L', 'M', 'N', 'O', 'P', 'Q', 'R', 'S', 'T', 'U', 'V', 'W', 'X', 'Y', 'Z', 'a', 'b', 'c', 'd', 'e', 'f', 'g', 'h', 'i', 'j', 'k', 'l', 'm', 'n', 'o', 'p', 'q', 'r', 's', 't', 'u', 'v', 'w', 'x', 'y', 'z']\n"
     ]
    }
   ],
   "source": [
    "with open(INPUT_FL, encoding=\"utf-8\") as infile:\n",
    "    input_txt = infile.read()\n",
    "vocab = sorted(set(input_txt))\n",
    "vocab_sz = len(vocab)\n",
    "ctoix = {char: ix for ix, char in enumerate(vocab)}\n",
    "ixtoc = {ix: char for ix, char in enumerate(vocab)}\n",
    "print(vocab)"
   ]
  },
  {
   "cell_type": "code",
   "execution_count": 6,
   "id": "0362491e",
   "metadata": {},
   "outputs": [
    {
     "name": "stdout",
     "output_type": "stream",
     "text": [
      "Num characters: 1115394\n",
      "\n",
      "First Citizen:\n",
      "Before we proceed any further, hear me speak.\n",
      "\n",
      "All:\n",
      "Speak, speak.\n",
      "\n",
      "First Citizen:\n",
      "You are all resolved rather to die than to famish?\n",
      "\n",
      "All:\n",
      "Resolved. resolved.\n",
      "\n",
      "First Citizen:\n",
      "First, you know Caius Marcius is chief enemy to the people.\n",
      "\n",
      "All:\n",
      "We know't, we know't.\n",
      "\n",
      "First Citizen:\n",
      "Let us kill him, and we'll have corn at our own price.\n",
      "Is't a verdict?\n",
      "\n",
      "All:\n",
      "No more talking on't; let it be done: away, away!\n",
      "\n",
      "Second Citizen:\n",
      "One word, good citizens.\n",
      "\n",
      "First Citizen:\n",
      "We are accounted poor citizens, the patricians good.\n",
      "What authority surfeits on would relieve us: if they\n",
      "would yield us but the superfluity, while it were\n",
      "wholesome, we might guess they relieved us humanely;\n",
      "but they think we are too dear: the leanness that\n",
      "afflicts us, the object of our misery, is as an\n",
      "inventory to particularise their abundance; our\n",
      "sufferance is a gain to them Let us revenge this with\n",
      "our pikes, ere we become rakes: for the gods know I\n",
      "speak this in hunger for bread, not in thirst for revenge.\n",
      "\n",
      "\n"
     ]
    }
   ],
   "source": [
    "print(f\"Num characters: {len(input_txt)}\")\n",
    "print()\n",
    "print(input_txt[:1000])"
   ]
  },
  {
   "cell_type": "markdown",
   "id": "5184f0ee",
   "metadata": {},
   "source": [
    "### Convert the input txt into a data matrix\n",
    "n = len(txt) \\\n",
    "dim(X) = dim(Y) = (n-block_sz, block_sz)\n",
    "\n",
    "We create a sliding window and make each letter's output the next letter."
   ]
  },
  {
   "cell_type": "code",
   "execution_count": 358,
   "id": "3e6ea89c",
   "metadata": {},
   "outputs": [],
   "source": [
    "def txt_to_data(input_txt, ctoix, block_size):\n",
    "    Xs, Ys = [], []\n",
    "    input_len = len(input_txt)\n",
    "    input_ixes = encode(txt=input_txt, ctoix=ctoix)\n",
    "    for i in range(0, input_len - block_size, block_size):\n",
    "        Xs.append(input_ixes[i : i + block_size])\n",
    "        Ys.append(input_ixes[i + 1 : i + block_size + 1])\n",
    "    return torch.tensor(Xs), torch.tensor(Ys)\n",
    "\n",
    "\n",
    "def encode(txt, ctoix):\n",
    "    return [ctoix[char] for char in txt]\n",
    "\n",
    "\n",
    "def decode(x, ixtoc, to_replace_nl=False):\n",
    "    txt = \"\".join(ixtoc[xi.item()] for xi in x)\n",
    "    if to_replace_nl:\n",
    "        txt = txt.replace(\"\\n\", \"<N>\")\n",
    "    return txt"
   ]
  },
  {
   "cell_type": "code",
   "execution_count": 359,
   "id": "20a5070e",
   "metadata": {},
   "outputs": [],
   "source": [
    "encoded_input = encode(txt=input_txt, ctoix=ctoix)"
   ]
  },
  {
   "cell_type": "code",
   "execution_count": 360,
   "id": "9c77bd02",
   "metadata": {
    "scrolled": true
   },
   "outputs": [
    {
     "data": {
      "text/plain": [
       "(torch.Size([139424, 8]), torch.Size([139424, 8]))"
      ]
     },
     "execution_count": 360,
     "metadata": {},
     "output_type": "execute_result"
    }
   ],
   "source": [
    "X, Y = txt_to_data(input_txt=input_txt, ctoix=ctoix, block_size=BLOCK_SZ)\n",
    "X.shape, Y.shape"
   ]
  },
  {
   "cell_type": "markdown",
   "id": "5caf3ff4",
   "metadata": {},
   "source": [
    "### Util function to iterate over a random batch"
   ]
  },
  {
   "cell_type": "code",
   "execution_count": 361,
   "id": "c705590c",
   "metadata": {},
   "outputs": [],
   "source": [
    "def iter_dataset(Xs, Ys, batch_sz, num=None):\n",
    "    num = num or np.inf\n",
    "    i = 0\n",
    "    n = Xs.shape[0]\n",
    "    while i < num:\n",
    "        i += 1\n",
    "        batch_ixes = torch.randint(n, (batch_sz,))\n",
    "        yield Xs[batch_ixes], Ys[batch_ixes]\n",
    "\n",
    "\n",
    "def print_batch_txt(Xbatch, Ybatch, ixtoc):\n",
    "    \"\"\"Print the input batch to text for verification\"\"\"\n",
    "    for xi, yi in zip(Xbatch, Ybatch):\n",
    "        print(\n",
    "            decode(xi, ixtoc, to_replace_nl=True)\n",
    "            + \" --> \"\n",
    "            + decode(yi, ixtoc, to_replace_nl=True)\n",
    "        )"
   ]
  },
  {
   "cell_type": "code",
   "execution_count": 362,
   "id": "6746b155",
   "metadata": {
    "scrolled": false
   },
   "outputs": [
    {
     "name": "stdout",
     "output_type": "stream",
     "text": [
      " it conf --> it confo\n",
      "ot be dr --> t be dru\n",
      "hearts,  --> earts, a\n",
      "but I mi --> ut I mig\n",
      "\n",
      "you were --> ou were \n",
      "tis now  --> is now s\n",
      "nd, my b --> d, my bo\n",
      "hath bee --> ath been\n",
      "\n"
     ]
    }
   ],
   "source": [
    "for Xbatch, Ybatch in iter_dataset(X, Y, batch_sz=4, num=2):\n",
    "    print_batch_txt(Xbatch, Ybatch, ixtoc=ixtoc)\n",
    "    print()"
   ]
  },
  {
   "cell_type": "markdown",
   "id": "2676c49e",
   "metadata": {},
   "source": [
    "## Training\n",
    "### Split train test"
   ]
  },
  {
   "cell_type": "code",
   "execution_count": 363,
   "id": "e0e8238e",
   "metadata": {},
   "outputs": [],
   "source": [
    "def split_data(X, Y, train_frac=0.8, val_frac=0.1, to_shuffle=True):\n",
    "    num_samples = X.shape[0]\n",
    "    train_ix = int(num_samples * train_frac)\n",
    "    val_ix = train_ix + int(num_samples * val_frac)\n",
    "    ixes = list(range(num_samples))\n",
    "    if to_shuffle:\n",
    "        random.shuffle(ixes)\n",
    "    train_ixes, val_ixes, test_ixes = (\n",
    "        ixes[:train_ix],\n",
    "        ixes[train_ix:val_ix],\n",
    "        ixes[val_ix:],\n",
    "    )\n",
    "    print(f\"Num train: {train_ix:,}\\nnum validation: {val_ix-train_ix:,}\")\n",
    "    return {\n",
    "        \"train\": (X[train_ixes], Y[train_ixes]),\n",
    "        \"val\": (X[val_ixes], Y[val_ixes]),\n",
    "        \"test\": (X[test_ixes], Y[test_ixes]),\n",
    "    }"
   ]
  },
  {
   "cell_type": "code",
   "execution_count": 364,
   "id": "930934a1",
   "metadata": {},
   "outputs": [
    {
     "name": "stdout",
     "output_type": "stream",
     "text": [
      "Num train: 125,481\n",
      "num validation: 27,884\n"
     ]
    },
    {
     "data": {
      "text/plain": [
       "(tensor([], size=(0, 8), dtype=torch.int64),\n",
       " tensor([], size=(0, 8), dtype=torch.int64))"
      ]
     },
     "execution_count": 364,
     "metadata": {},
     "output_type": "execute_result"
    }
   ],
   "source": [
    "# we don't want any test data\n",
    "data_splits = split_data(\n",
    "    X=X, Y=Y, train_frac=0.9, val_frac=0.2, to_shuffle=False\n",
    ")\n",
    "data_splits[\"test\"]"
   ]
  },
  {
   "cell_type": "code",
   "execution_count": 365,
   "id": "c6f39f5f",
   "metadata": {},
   "outputs": [],
   "source": [
    "Xtrain, Ytrain = data_splits[\"train\"]\n",
    "Xval, Yval = data_splits[\"val\"]"
   ]
  },
  {
   "cell_type": "markdown",
   "id": "3da97e9b",
   "metadata": {},
   "source": [
    "## Training"
   ]
  },
  {
   "cell_type": "code",
   "execution_count": 366,
   "id": "a3c35d8c",
   "metadata": {},
   "outputs": [],
   "source": [
    "torch.manual_seed(1337);"
   ]
  },
  {
   "cell_type": "markdown",
   "id": "79300f56",
   "metadata": {},
   "source": [
    "### Train loop"
   ]
  },
  {
   "cell_type": "code",
   "execution_count": 369,
   "id": "9537e447",
   "metadata": {},
   "outputs": [],
   "source": [
    "def train_model(\n",
    "    model,\n",
    "    Xtrain,\n",
    "    Ytrain,\n",
    "    batch_sz,\n",
    "    num_iters,\n",
    "    optimizer,\n",
    "    eval_loss_fn,\n",
    "    losses: dict[str, list],  # train -> [], val -> []\n",
    "    loss_calc_freq=100,\n",
    "):\n",
    "    for i, (Xi, Yi) in (\n",
    "        pbar := tqdm(\n",
    "            enumerate(\n",
    "                iter_dataset(Xs=X, Ys=Y, num=num_iters, batch_sz=batch_sz)\n",
    "            ),\n",
    "            total=num_iters,\n",
    "        )\n",
    "    ):\n",
    "        probas, loss = model(X=Xi, target=Yi)\n",
    "        model.zero_grad()\n",
    "        loss.backward()\n",
    "        optimizer.step()\n",
    "        # Metric tracking\n",
    "        if i % loss_calc_freq == 0:\n",
    "            loss_msg = \"\"\n",
    "            for split, loss in eval_loss_fn(model=model).items():\n",
    "                losses[split].append(loss)\n",
    "                loss_msg += f\"{split} loss: {loss:.4f} \"\n",
    "            pbar.set_description(loss_msg)\n",
    "\n",
    "\n",
    "def plot_loss(losses, avg_win=1, loss_calc_freq=1):\n",
    "    plt.figure(figsize=(10, 5))\n",
    "    for i, (split, split_losses) in enumerate(losses.items(), start=1):\n",
    "        n = avg_win * (len(split_losses) // avg_win)\n",
    "        plt.grid(True)\n",
    "        plt.plot(\n",
    "            np.arange(0, n, avg_win) * loss_calc_freq,\n",
    "            torch.tensor(split_losses[:n])\n",
    "            .view(-1, avg_win)\n",
    "            .mean(dim=1)\n",
    "            .detach()\n",
    "            .numpy(),\n",
    "            label=split,\n",
    "            linewidth=2,\n",
    "        )\n",
    "    plt.title(f\"Loss vs iterations\")\n",
    "    plt.xlabel(\"Iteration\")\n",
    "    plt.ylabel(\"Loss\")\n",
    "    plt.legend()\n",
    "\n",
    "\n",
    "@torch.no_grad()\n",
    "def eval_loss(model, data_splits, eval_sz):\n",
    "    model.eval()\n",
    "    out = {}\n",
    "    for split in [\"train\", \"val\"]:\n",
    "        X, Y = data_splits[split]\n",
    "        Xbatch, Ybatch = next(iter_dataset(Xs=X, Ys=Y, batch_sz=eval_sz))\n",
    "        # fwd, loss = model(X, target)\n",
    "        out[split] = model(X=Xbatch, target=Ybatch)[1].item()\n",
    "    model.train()\n",
    "    return out\n",
    "\n",
    "\n",
    "def calc_loss(Ypred, Ytrue):\n",
    "    \"\"\"\n",
    "    Ypred dim: Batch_size x block_sz x vocab_sz\n",
    "    Ytrue dim: Batch_size x block_sz\n",
    "    \"\"\"\n",
    "    return F.cross_entropy(input=_flatten_y(Ypred), target=Ytrue.view(-1))\n",
    "\n",
    "\n",
    "def _flatten_y(Y):\n",
    "    B, T, C = Y.shape\n",
    "    return Y.view(B * T, C)\n",
    "\n",
    "\n",
    "@torch.no_grad()\n",
    "def calc_split_loss(model, data_splits, split):\n",
    "    model.eval()\n",
    "    X, Ytrue = data_splits[split]\n",
    "    loss = model(X=X, target=Ytrue).item()\n",
    "    model.train()\n",
    "    return loss\n",
    "\n",
    "\n",
    "train_nll = ft.partial(calc_split_loss, data_splits=data_splits, split=\"train\")\n",
    "val_nll = ft.partial(calc_split_loss, data_splits=data_splits, split=\"val\")\n",
    "eval_loss_fn = ft.partial(eval_loss, data_splits=data_splits, eval_sz=5000)"
   ]
  },
  {
   "cell_type": "markdown",
   "id": "9950ae94",
   "metadata": {},
   "source": [
    "### Bigram model"
   ]
  },
  {
   "cell_type": "code",
   "execution_count": 370,
   "id": "7890a566",
   "metadata": {},
   "outputs": [],
   "source": [
    "@dataclass(eq=False)\n",
    "class BigramModel(nn.Module):\n",
    "\n",
    "    vocab_sz: int\n",
    "    embed: nn.Embedding = field(init=False)\n",
    "\n",
    "    def __post_init__(self):\n",
    "        super().__init__()\n",
    "        vocab_sz = self.vocab_sz\n",
    "        self.embed = nn.Embedding(\n",
    "            num_embeddings=vocab_sz, embedding_dim=vocab_sz\n",
    "        )\n",
    "        # make predictions less confident at the beginning so that all\n",
    "        # classes about equal probability.\n",
    "        self.embed.weight.data = self.embed.weight * 0.01\n",
    "\n",
    "    def forward(self, X, target=None):\n",
    "        \"\"\"Returns the forward pass and NLL loss\"\"\"\n",
    "        out = self.embed(X)\n",
    "        if target is None:\n",
    "            return out, None\n",
    "        else:\n",
    "            loss = calc_loss(Ypred=out, Ytrue=target)\n",
    "            return out, loss\n",
    "        return out"
   ]
  },
  {
   "cell_type": "code",
   "execution_count": 371,
   "id": "bf5685c8",
   "metadata": {},
   "outputs": [],
   "source": [
    "bigram_model = BigramModel(vocab_sz=vocab_sz)"
   ]
  },
  {
   "cell_type": "code",
   "execution_count": 372,
   "id": "4def9700",
   "metadata": {},
   "outputs": [
    {
     "data": {
      "text/plain": [
       "(torch.Size([4, 8]), torch.Size([4, 8, 65]))"
      ]
     },
     "execution_count": 372,
     "metadata": {},
     "output_type": "execute_result"
    }
   ],
   "source": [
    "Xbatch.shape, bigram_model(Xbatch)[0].shape"
   ]
  },
  {
   "cell_type": "markdown",
   "id": "ac4dbbb4",
   "metadata": {},
   "source": [
    "#### Generate examples from untrained model"
   ]
  },
  {
   "cell_type": "code",
   "execution_count": 373,
   "id": "938e9164",
   "metadata": {},
   "outputs": [],
   "source": [
    "def gen_examples(\n",
    "    model: nn.Module,\n",
    "    max_len: int,\n",
    "    start_ix_tns: torch.Tensor = None,\n",
    "    num_examples: int = None,\n",
    ") -> torch.Tensor:\n",
    "    \"\"\"Generates examples from the model.\n",
    "\n",
    "    Either\n",
    "    * start_ix_tns will pass in the first token for each word\n",
    "    * or we use num_examples to arrive at the number of examples and\n",
    "        we always begin with a newline character.\n",
    "    \"\"\"\n",
    "    assert not (\n",
    "        start_ix_tns is None and num_examples is None\n",
    "    ), \"Either pass first token or pass num examples\"\n",
    "    # B x T x C\n",
    "    if start_ix_tns is None:\n",
    "        start_ix_tns = torch.zeros(num_examples, 1, dtype=torch.int)\n",
    "    examples = start_ix_tns.clone()\n",
    "    for i in range(max_len):\n",
    "        # B x C\n",
    "        logits, loss = model(examples[:, -1])\n",
    "        # B x C\n",
    "        probas = F.softmax(logits, dim=1)\n",
    "        # B x 1\n",
    "        next_ix = torch.multinomial(probas, num_samples=1)\n",
    "        examples = torch.concat((examples, next_ix), axis=1)\n",
    "    return examples\n",
    "\n",
    "\n",
    "def print_examples(\n",
    "    model: nn.Module,\n",
    "    start_ix_tns: torch.Tensor,\n",
    "    max_len: int,\n",
    "    ixtoc: dict,\n",
    "    num_examples: int = None,\n",
    "    to_replace_nl=False,\n",
    ") -> str:\n",
    "    examples = gen_examples(\n",
    "        model=model,\n",
    "        start_ix_tns=start_ix_tns,\n",
    "        max_len=max_len,\n",
    "        num_examples=num_examples,\n",
    "    )\n",
    "    for ex in examples:\n",
    "        print(\"\".join(decode(ex, ixtoc=ixtoc, to_replace_nl=to_replace_nl)))\n",
    "        print(\"-----------------------------------------------------------\")"
   ]
  },
  {
   "cell_type": "code",
   "execution_count": 374,
   "id": "80fe5029",
   "metadata": {},
   "outputs": [
    {
     "name": "stdout",
     "output_type": "stream",
     "text": [
      "\n",
      "ZJTEov nk3gW&:!i\n",
      "MbubLXOU\n",
      "YOWNDEKJ:CiNe\n",
      "&u-jdRT$ZeTNXiYFT',vq.PkznV-cU&din,-RVUBPqmVka anN?bZ3vdVG\n",
      "!\n",
      "-----------------------------------------------------------\n",
      "\n",
      "bwWLSZCGE:qKqJgwjTExLw?JGcnw$-sOjtB&lHOmvY,z FZqeglzIQ:iCLGC cqDe3eYHhPT3hF?iQNxLfH'nWrISPV\n",
      "McFnLpAT\n",
      "-----------------------------------------------------------\n",
      "\n",
      "OTcMa&?n3FkY;PFkgzH3jeD pnmVeFXsj-pNpl3xoLxAjbJputedU;qNB\n",
      "ogz: XtXXBkkvc\n",
      "JJ\n",
      "SegsiGUrJmI;LqgRjhb-hgZM\n",
      "-----------------------------------------------------------\n"
     ]
    }
   ],
   "source": [
    "print_examples(\n",
    "    model=bigram_model,\n",
    "    max_len=100,\n",
    "    # assumes start token is newline char\n",
    "    start_ix_tns=None,\n",
    "    ixtoc=ixtoc,\n",
    "    num_examples=3,\n",
    ")"
   ]
  },
  {
   "cell_type": "code",
   "execution_count": 375,
   "id": "7686046f",
   "metadata": {},
   "outputs": [
    {
     "name": "stdout",
     "output_type": "stream",
     "text": [
      "Initial CE loss should be roughly 4.1744\n"
     ]
    },
    {
     "data": {
      "text/plain": [
       "tensor(4.1745, grad_fn=<NllLossBackward0>)"
      ]
     },
     "execution_count": 375,
     "metadata": {},
     "output_type": "execute_result"
    }
   ],
   "source": [
    "Xbatch, Ybatch = next(iter_dataset(Xtrain, Ytrain, batch_sz=100))\n",
    "print(f\"Initial CE loss should be roughly {-np.log(1/vocab_sz):.4f}\")\n",
    "bigram_model(X=Xbatch, target=Ybatch)[1]"
   ]
  },
  {
   "cell_type": "code",
   "execution_count": 378,
   "id": "bf3869a5",
   "metadata": {},
   "outputs": [],
   "source": [
    "bigram_model = BigramModel(vocab_sz=vocab_sz)\n",
    "bigram_opt = torch.optim.AdamW(params=bigram_model.parameters(), lr=1e-2)\n",
    "losses = {\"train\": [], \"val\": []}\n",
    "loss_calc_freq = 1000"
   ]
  },
  {
   "cell_type": "code",
   "execution_count": 380,
   "id": "0cc3d31e",
   "metadata": {},
   "outputs": [
    {
     "data": {
      "application/vnd.jupyter.widget-view+json": {
       "model_id": "061cd52ab2214a70b9050d297950e064",
       "version_major": 2,
       "version_minor": 0
      },
      "text/plain": [
       "  0%|          | 0/30000 [00:00<?, ?it/s]"
      ]
     },
     "metadata": {},
     "output_type": "display_data"
    }
   ],
   "source": [
    "train_model(\n",
    "    model=bigram_model,\n",
    "    Xtrain=Xtrain,\n",
    "    Ytrain=Ytrain,\n",
    "    batch_sz=128,\n",
    "    num_iters=30_000,\n",
    "    optimizer=bigram_opt,\n",
    "    loss_calc_freq=loss_calc_freq,\n",
    "    losses=losses,\n",
    "    eval_loss_fn=eval_loss_fn,\n",
    ")"
   ]
  },
  {
   "cell_type": "code",
   "execution_count": 381,
   "id": "f6778127",
   "metadata": {},
   "outputs": [
    {
     "data": {
      "image/png": "[encoded data removed]",
      "text/plain": [
       "<Figure size 720x360 with 1 Axes>"
      ]
     },
     "metadata": {
      "needs_background": "light"
     },
     "output_type": "display_data"
    }
   ],
   "source": [
    "plot_loss(losses, loss_calc_freq=loss_calc_freq)"
   ]
  },
  {
   "cell_type": "markdown",
   "id": "ba2798ce",
   "metadata": {},
   "source": [
    "#### Generate examples from untrained model"
   ]
  },
  {
   "cell_type": "code",
   "execution_count": 382,
   "id": "7d2b4194",
   "metadata": {},
   "outputs": [
    {
     "name": "stdout",
     "output_type": "stream",
     "text": [
      "\n",
      "Kinghour nt ldou.\n",
      "\n",
      "MO: nchomuthis to!\n",
      "Helt t t ane, h fowhiveare ard VINIO:\n",
      "Alinlanssthanshat CLEDu y IFLLAnthay wized; ourauthicanca is, yeat tureeve tst\n",
      "We h.\n",
      "Whind aladve.\n",
      "THO wig\n",
      "LLINomey d home,\n",
      "Ancelrea pe d mith oucosed:\n",
      "Yothekieran RThe ay, and pal fif.\n",
      "OK:\n",
      "\n",
      "\n",
      "\n",
      "\n",
      "RWise, mood TIO:\n",
      "Bu ar ave boneey no the amermeme:\n",
      "ICofe s y; ome,\n",
      "STre wnou hes weppl dell oty's ts\n",
      "Sty\n",
      "\n",
      "MENCA:\n",
      "NGSishe h beat:\n",
      "QULE:\n",
      "PThy whe tior, ncortheroure irf te witis t char:\n",
      "THA oe t:\n",
      "ONG has\n",
      "Cl yo, my! w, tinemy I ne toutare to,--fot ma fene me buill, y imisabe s the'sasollt n:\n",
      "\n",
      "Heaind m Panelim bes bened inouided orenongintel cizer nthis wes chizeyosied he nd'satord ur pou f; wse g eservey nd ce:\n",
      "Thany: sugs linsinje y oupto t co ckeris wherd I w'sheyothon\n",
      "\n",
      "NRES:\n",
      "Yef ace CLINad arh orereag tore thoweail held's.\n",
      "Winond ke\n",
      "S:\n",
      "NNZAly thehes:\n",
      "TI h w,\n",
      "LO?\n",
      "UNAgimuith scompanengeasto? in amat!\n",
      "TONINGodeayo men'ddons im\n",
      "MESke IO at, y,-tin\n",
      "\n",
      "TERSofoundr:\n",
      "R: watoveme,\n",
      "Werelyod thy h. agansu y lllis'l thond wa, il II OT\n",
      "-----------------------------------------------------------\n"
     ]
    }
   ],
   "source": [
    "print_examples(\n",
    "    model=bigram_model,\n",
    "    max_len=1000,\n",
    "    # assumes start token is newline char\n",
    "    start_ix_tns=None,\n",
    "    ixtoc=ixtoc,\n",
    "    num_examples=1,\n",
    ")"
   ]
  },
  {
   "cell_type": "markdown",
   "id": "7ade90e8",
   "metadata": {},
   "source": [
    "### Compare against analytical MLE estimate for bigram model\n",
    "\n",
    "This would just be the statistical averages of how often each letter followed the other in the training set."
   ]
  },
  {
   "cell_type": "markdown",
   "id": "ea6b4ee1",
   "metadata": {},
   "source": [
    "#### Build MLE matrix"
   ]
  },
  {
   "cell_type": "code",
   "execution_count": 383,
   "id": "b8404db6",
   "metadata": {},
   "outputs": [],
   "source": [
    "analytical_embed = torch.zeros(vocab_sz, vocab_sz)\n",
    "train_encoded_txt = encoded_input[: int(len(encoded_input) * 0.9)]\n",
    "for fst_char, nxt_char in zip(train_encoded_txt, train_encoded_txt[1:]):\n",
    "    analytical_embed[fst_char][nxt_char] += 1.0"
   ]
  },
  {
   "cell_type": "markdown",
   "id": "104d7472",
   "metadata": {},
   "source": [
    "##### Normalise probas"
   ]
  },
  {
   "cell_type": "code",
   "execution_count": 384,
   "id": "ed9199d9",
   "metadata": {},
   "outputs": [],
   "source": [
    "analytical_embed /= analytical_embed.sum(dim=1, keepdims=True)"
   ]
  },
  {
   "cell_type": "code",
   "execution_count": 385,
   "id": "8b6d0e11",
   "metadata": {},
   "outputs": [],
   "source": [
    "def plot_embed_comparison(trained_embed, analytical_embed):\n",
    "    plt.figure(figsize=(24, 8))\n",
    "    plt.subplot(131)\n",
    "    plt.imshow(trained_embed)\n",
    "    plt.title(\"Bigram trained matrix\")\n",
    "    plt.subplot(132)\n",
    "    plt.imshow(analytical_embed)\n",
    "    plt.title(\"Analytical by computing probas\")\n",
    "    plt.subplot(133)\n",
    "    diff_mat = trained_embed - analytical_embed\n",
    "    diff_norm = diff_mat.abs().mean()\n",
    "    plt.title(f\"Difference matrix\\nMean abs diff: {diff_norm:.5f}\")\n",
    "    plt.imshow(diff_mat)\n",
    "    plt.colorbar();"
   ]
  },
  {
   "cell_type": "code",
   "execution_count": 386,
   "id": "d19a176d",
   "metadata": {},
   "outputs": [],
   "source": [
    "trained_embed = F.softmax(\n",
    "    next(bigram_model.embed.named_parameters())[1].data, dim=1\n",
    ")"
   ]
  },
  {
   "cell_type": "code",
   "execution_count": 387,
   "id": "1b33beb4",
   "metadata": {},
   "outputs": [
    {
     "data": {
      "image/png": "[encoded data removed]",
      "text/plain": [
       "<Figure size 1728x576 with 4 Axes>"
      ]
     },
     "metadata": {
      "needs_background": "light"
     },
     "output_type": "display_data"
    }
   ],
   "source": [
    "plot_embed_comparison(\n",
    "    trained_embed=trained_embed, analytical_embed=analytical_embed\n",
    ")"
   ]
  },
  {
   "cell_type": "code",
   "execution_count": 388,
   "id": "7cc8c427",
   "metadata": {
    "scrolled": false
   },
   "outputs": [
    {
     "data": {
      "image/png": "[encoded data removed]",
      "text/plain": [
       "<Figure size 1728x576 with 4 Axes>"
      ]
     },
     "metadata": {
      "needs_background": "light"
     },
     "output_type": "display_data"
    }
   ],
   "source": [
    "bix, eix = 30, 50\n",
    "plot_embed_comparison(\n",
    "    trained_embed=trained_embed[bix:eix, bix:eix],\n",
    "    analytical_embed=analytical_embed[bix:eix, bix:eix],\n",
    ")\n",
    "plt.suptitle(f\"Zoomed in the range ({bix}:{eix}, {bix}:{eix})\");"
   ]
  },
  {
   "cell_type": "code",
   "execution_count": 393,
   "id": "1711d067",
   "metadata": {},
   "outputs": [
    {
     "data": {
      "text/plain": [
       "tensor([[17, 26, 32, 21, 27, 10,  0, 32],\n",
       "        [43, 43, 54,  1, 42, 43, 57, 54],\n",
       "        [ 0,  5, 35, 46, 39, 58,  1, 51],\n",
       "        [ 1, 27, 18,  1, 37, 27, 30, 23],\n",
       "        [50, 63,  1, 40, 43,  1, 51, 43]])"
      ]
     },
     "execution_count": 393,
     "metadata": {},
     "output_type": "execute_result"
    }
   ],
   "source": [
    "Xsml = Xbatch[:5]\n",
    "Xsml"
   ]
  },
  {
   "cell_type": "code",
   "execution_count": 410,
   "id": "04cac22f",
   "metadata": {},
   "outputs": [],
   "source": [
    "Xsml = torch.arange(1, 25).view(2, 3, 4).float()"
   ]
  },
  {
   "cell_type": "code",
   "execution_count": 435,
   "id": "df50af08",
   "metadata": {},
   "outputs": [
    {
     "name": "stdout",
     "output_type": "stream",
     "text": [
      "tensor([[1.0000, 0.0000, 0.0000],\n",
      "        [0.5000, 0.5000, 0.0000],\n",
      "        [0.3333, 0.3333, 0.3333]])\n",
      "tensor([[1.0000, 0.5000, 0.3333],\n",
      "        [0.0000, 0.5000, 0.3333],\n",
      "        [0.0000, 0.0000, 0.3333]])\n"
     ]
    }
   ],
   "source": [
    "maskl = torch.tril(input=torch.ones(3, 3))\n",
    "maskl /= maskl.sum(dim=1, keepdims=True)\n",
    "print(maskl)\n",
    "\n",
    "masku = torch.triu(input=torch.ones(3, 3))\n",
    "masku /= masku.sum(dim=0, keepdims=True)\n",
    "print(masku)"
   ]
  },
  {
   "cell_type": "code",
   "execution_count": 437,
   "id": "38e7d095",
   "metadata": {},
   "outputs": [
    {
     "name": "stdout",
     "output_type": "stream",
     "text": [
      "tensor([[ 1.,  2.,  3.,  4.],\n",
      "        [ 5.,  6.,  7.,  8.],\n",
      "        [ 9., 10., 11., 12.]])\n",
      "tensor([[1.0000, 2.0000, 3.0000, 4.0000],\n",
      "        [3.0000, 4.0000, 5.0000, 6.0000],\n",
      "        [5.0000, 6.0000, 7.0000, 8.0000]])\n"
     ]
    }
   ],
   "source": [
    "print(Xsml[0])\n",
    "# T x T @ T x C\n",
    "print(maskl @ Xsml[0])"
   ]
  },
  {
   "cell_type": "code",
   "execution_count": 438,
   "id": "94c132d8",
   "metadata": {},
   "outputs": [
    {
     "data": {
      "text/plain": [
       "tensor([[1.0000, 2.0000, 3.0000, 4.0000],\n",
       "        [3.0000, 4.0000, 5.0000, 6.0000],\n",
       "        [5.0000, 6.0000, 7.0000, 8.0000]])"
      ]
     },
     "execution_count": 438,
     "metadata": {},
     "output_type": "execute_result"
    }
   ],
   "source": [
    "# T x T @ B x T x C\n",
    "# Broadcasted to B x T x T @ B x T x C\n",
    "Xbow = maskl @ Xsml\n",
    "Xbow[0]"
   ]
  },
  {
   "cell_type": "code",
   "execution_count": 454,
   "id": "6f7fa911",
   "metadata": {},
   "outputs": [],
   "source": [
    "B, T, C = Xsml.shape"
   ]
  },
  {
   "cell_type": "code",
   "execution_count": 462,
   "id": "720976ed",
   "metadata": {},
   "outputs": [
    {
     "data": {
      "text/plain": [
       "tensor([[ 1.,  2.,  3.,  4.],\n",
       "        [ 5.,  6.,  7.,  8.],\n",
       "        [ 9., 10., 11., 12.]])"
      ]
     },
     "execution_count": 462,
     "metadata": {},
     "output_type": "execute_result"
    }
   ],
   "source": [
    "Xsml[0]"
   ]
  },
  {
   "cell_type": "code",
   "execution_count": 465,
   "id": "417dc11e",
   "metadata": {},
   "outputs": [
    {
     "data": {
      "text/plain": [
       "tensor([[1.0000, 0.5000, 0.3333],\n",
       "        [0.0000, 0.5000, 0.3333],\n",
       "        [0.0000, 0.0000, 0.3333]])"
      ]
     },
     "execution_count": 465,
     "metadata": {},
     "output_type": "execute_result"
    }
   ],
   "source": [
    "masku"
   ]
  },
  {
   "cell_type": "code",
   "execution_count": 468,
   "id": "3345ff88",
   "metadata": {},
   "outputs": [
    {
     "data": {
      "text/plain": [
       "tensor([[ 1.,  2.,  3.,  4.],\n",
       "        [ 5.,  6.,  7.,  8.],\n",
       "        [ 9., 10., 11., 12.]])"
      ]
     },
     "execution_count": 468,
     "metadata": {},
     "output_type": "execute_result"
    }
   ],
   "source": [
    "torch.einsum(\"btc,ut->btc\", Xsml, masku)[0]"
   ]
  },
  {
   "cell_type": "code",
   "execution_count": 432,
   "id": "b8ffcc49",
   "metadata": {},
   "outputs": [
    {
     "data": {
      "text/plain": [
       "tensor([[1.0000, 2.0000, 3.0000, 4.0000],\n",
       "        [3.0000, 4.0000, 5.0000, 6.0000],\n",
       "        [5.0000, 6.0000, 7.0000, 8.0000]])"
      ]
     },
     "execution_count": 432,
     "metadata": {},
     "output_type": "execute_result"
    }
   ],
   "source": [
    "Xbow[0]"
   ]
  },
  {
   "cell_type": "code",
   "execution_count": 430,
   "id": "41b68955",
   "metadata": {},
   "outputs": [
    {
     "data": {
      "text/plain": [
       "(2, 3, 4)"
      ]
     },
     "execution_count": 430,
     "metadata": {},
     "output_type": "execute_result"
    }
   ],
   "source": [
    "(np.random.randn(3, 3) @ np.random.randn(2, 3, 4)).shape"
   ]
  },
  {
   "cell_type": "code",
   "execution_count": 472,
   "id": "cd268195",
   "metadata": {},
   "outputs": [],
   "source": [
    "k = torch.arange(1, 25).view(2, 3, 4).float()\n",
    "v = torch.arange(1, 25).view(2, 3, 4).float()"
   ]
  },
  {
   "cell_type": "code",
   "execution_count": 479,
   "id": "d448c9cf",
   "metadata": {},
   "outputs": [
    {
     "data": {
      "text/plain": [
       "tensor([[ 846., 1078., 1310.],\n",
       "        [1078., 1374., 1670.],\n",
       "        [1310., 1670., 2030.]])"
      ]
     },
     "execution_count": 479,
     "metadata": {},
     "output_type": "execute_result"
    }
   ],
   "source": [
    "k[0] @ v[0].T"
   ]
  },
  {
   "cell_type": "code",
   "execution_count": 485,
   "id": "1efea324",
   "metadata": {},
   "outputs": [
    {
     "data": {
      "text/plain": [
       "True"
      ]
     },
     "execution_count": 485,
     "metadata": {},
     "output_type": "execute_result"
    }
   ],
   "source": [
    "B, T, C = 2, 3, 4\n",
    "query = torch.arange(1, 25).view(2, 3, 4).float()  # B x T x C\n",
    "key = torch.arange(1, 25).view(2, 3, 4).float()  # B x T x C\n",
    "\n",
    "torch.allclose(\n",
    "    torch.einsum('ijk,ilk->ijl', query, key),\n",
    "    query @ key.transpose(1,2)\n",
    ")"
   ]
  },
  {
   "cell_type": "code",
   "execution_count": null,
   "id": "8778b92b",
   "metadata": {},
   "outputs": [],
   "source": []
  },
  {
   "cell_type": "code",
   "execution_count": null,
   "id": "bbc1ddce",
   "metadata": {},
   "outputs": [],
   "source": []
  },
  {
   "cell_type": "code",
   "execution_count": null,
   "id": "00228763",
   "metadata": {},
   "outputs": [],
   "source": []
  },
  {
   "cell_type": "code",
   "execution_count": null,
   "id": "4ffbd6ef",
   "metadata": {},
   "outputs": [],
   "source": []
  },
  {
   "cell_type": "code",
   "execution_count": null,
   "id": "fb78b3f1",
   "metadata": {},
   "outputs": [],
   "source": []
  }
 ],
 "metadata": {
  "kernelspec": {
   "display_name": "Python 3 (ipykernel)",
   "language": "python",
   "name": "python3"
  },
  "language_info": {
   "codemirror_mode": {
    "name": "ipython",
    "version": 3
   },
   "file_extension": ".py",
   "mimetype": "text/x-python",
   "name": "python",
   "nbconvert_exporter": "python",
   "pygments_lexer": "ipython3",
   "version": "3.10.8"
  }
 },
 "nbformat": 4,
 "nbformat_minor": 5
}
